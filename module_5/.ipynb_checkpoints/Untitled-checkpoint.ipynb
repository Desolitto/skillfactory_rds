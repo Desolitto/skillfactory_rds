{
 "cells": [
  {
   "cell_type": "code",
   "execution_count": 1,
   "metadata": {},
   "outputs": [],
   "source": [
    "import numpy as np # linear algebra\n",
    "import pandas as pd"
   ]
  },
  {
   "cell_type": "code",
   "execution_count": 3,
   "metadata": {},
   "outputs": [
    {
     "name": "stdout",
     "output_type": "stream",
     "text": [
      "<class 'pandas.core.frame.DataFrame'>\n",
      "RangeIndex: 3837 entries, 0 to 3836\n",
      "Data columns (total 23 columns):\n",
      " #   Column                Non-Null Count  Dtype  \n",
      "---  ------                --------------  -----  \n",
      " 0   bodyType              3837 non-null   object \n",
      " 1   brand                 3837 non-null   object \n",
      " 2   color                 3837 non-null   object \n",
      " 3   fuelType              3837 non-null   object \n",
      " 4   modelDate             3837 non-null   float64\n",
      " 5   name                  3837 non-null   object \n",
      " 6   numberOfDoors         3837 non-null   float64\n",
      " 7   productionDate        3837 non-null   float64\n",
      " 8   vehicleConfiguration  3837 non-null   object \n",
      " 9   vehicleTransmission   3837 non-null   object \n",
      " 10  engineDisplacement    3837 non-null   object \n",
      " 11  enginePower           3837 non-null   object \n",
      " 12  description           3837 non-null   object \n",
      " 13  mileage               3837 non-null   float64\n",
      " 14  Комплектация          3837 non-null   object \n",
      " 15  Привод                3837 non-null   object \n",
      " 16  Руль                  3837 non-null   object \n",
      " 17  Состояние             3837 non-null   object \n",
      " 18  Владельцы             3837 non-null   object \n",
      " 19  ПТС                   3837 non-null   object \n",
      " 20  Таможня               3837 non-null   object \n",
      " 21  Владение              1753 non-null   object \n",
      " 22  id                    3837 non-null   int64  \n",
      "dtypes: float64(4), int64(1), object(18)\n",
      "memory usage: 689.6+ KB\n"
     ]
    }
   ],
   "source": [
    "df = pd.read_csv('test.csv')\n",
    "df.info()"
   ]
  },
  {
   "cell_type": "code",
   "execution_count": 4,
   "metadata": {},
   "outputs": [],
   "source": [
    "sample_submission = pd.read_csv('sample_submission.csv')"
   ]
  },
  {
   "cell_type": "code",
   "execution_count": 5,
   "metadata": {},
   "outputs": [
    {
     "name": "stdout",
     "output_type": "stream",
     "text": [
      "<class 'pandas.core.frame.DataFrame'>\n",
      "RangeIndex: 3837 entries, 0 to 3836\n",
      "Data columns (total 2 columns):\n",
      " #   Column  Non-Null Count  Dtype  \n",
      "---  ------  --------------  -----  \n",
      " 0   id      3837 non-null   int64  \n",
      " 1   price   3837 non-null   float64\n",
      "dtypes: float64(1), int64(1)\n",
      "memory usage: 60.1 KB\n"
     ]
    }
   ],
   "source": [
    "sample_submission.info()"
   ]
  },
  {
   "cell_type": "code",
   "execution_count": null,
   "metadata": {},
   "outputs": [],
   "source": []
  }
 ],
 "metadata": {
  "kernelspec": {
   "display_name": "Python 3",
   "language": "python",
   "name": "python3"
  },
  "language_info": {
   "codemirror_mode": {
    "name": "ipython",
    "version": 3
   },
   "file_extension": ".py",
   "mimetype": "text/x-python",
   "name": "python",
   "nbconvert_exporter": "python",
   "pygments_lexer": "ipython3",
   "version": "3.7.6"
  }
 },
 "nbformat": 4,
 "nbformat_minor": 4
}
