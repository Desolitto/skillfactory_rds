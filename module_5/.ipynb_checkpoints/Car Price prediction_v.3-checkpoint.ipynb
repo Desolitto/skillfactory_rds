{
 "cells": [
  {
   "cell_type": "markdown",
   "metadata": {},
   "source": [
    "# Итоговое задание по Проекту 5. Выбираем авто выгодно\n",
    "***\n",
    "### Импорт библиотек"
   ]
  },
  {
   "cell_type": "code",
   "execution_count": 1,
   "metadata": {},
   "outputs": [],
   "source": [
    "import numpy as np \n",
    "import pandas as pd\n",
    "import re\n",
    "import sys\n",
    "import matplotlib.pyplot as plt\n",
    "import seaborn as sns\n",
    "import collections\n",
    "%matplotlib inline\n",
    "\n",
    "from sklearn.feature_selection import f_classif\n",
    "from sklearn.preprocessing import PolynomialFeatures\n",
    "from sklearn.preprocessing import LabelEncoder, OneHotEncoder, StandardScaler\n",
    "from sklearn.ensemble import RandomForestRegressor, GradientBoostingRegressor\n",
    "from sklearn.linear_model import LinearRegression, LogisticRegression\n",
    "from sklearn.tree import ExtraTreeRegressor\n",
    "from sklearn.model_selection import train_test_split\n",
    "from sklearn.model_selection import KFold\n",
    "from tqdm.notebook import tqdm\n",
    "from catboost import CatBoostRegressor\n",
    "import os"
   ]
  },
  {
   "cell_type": "code",
   "execution_count": 2,
   "metadata": {},
   "outputs": [],
   "source": [
    "RANDOM_SEED = 42\n",
    "!pip freeze > requirements.txt\n",
    "CURRENT_DATE = pd.to_datetime('25/11/2020')"
   ]
  },
  {
   "cell_type": "markdown",
   "metadata": {},
   "source": [
    "Зададим необходимые функции сразу"
   ]
  },
  {
   "cell_type": "code",
   "execution_count": 3,
   "metadata": {},
   "outputs": [],
   "source": [
    "def IQRhist(col):\n",
    "    dft = (df.loc[df['Train'] == 1][col])\n",
    "    median = dft.median()\n",
    "    perc25 = dft.quantile(0.25)\n",
    "    perc75 = dft.quantile(0.75)\n",
    "    IQR = perc75 - perc25\n",
    "    print('25-й перцентиль: {},'.format(round(perc25,4)), '75-й перцентиль: {},'.format(round(perc75,4)),\n",
    "          \"IQR: {}, \".format(round(IQR,4)), \"Границы выбросов: [{f}, {l}].\".format(f=round(perc25 - 1.5*IQR,4), l=round(perc75 + 1.5*IQR,4)))\n",
    "    out_count = dft.apply(\n",
    "        lambda x: None if x < perc25 - 1.5*IQR or x > perc75 + 1.5*IQR else x).isna().sum()\n",
    "    print(f'Кол-во выбросов = {out_count}, Процент выбросов среди тренировочного датасета {round((out_count/len(dft)*100),2)}')\n",
    "    df[col].loc[df[col].between(perc25 - 1.5*IQR, perc75 + 1.5*IQR)].hist(bins=10, range=(dft.min()-5, dft.max()+5),\n",
    "                                                                          label='IQR')\n",
    "\n",
    "    plt.legend()"
   ]
  },
  {
   "cell_type": "code",
   "execution_count": 4,
   "metadata": {},
   "outputs": [
    {
     "name": "stdout",
     "output_type": "stream",
     "text": [
      "['.ipynb_checkpoints', 'all_car_brands_and_their_models_from_auto_ru.csv', 'baseline-sf-dst-car-price-prediction-v14.ipynb', 'Car Price prediction-Copy1.ipynb', 'Car Price prediction-Copy2.ipynb', 'Car Price prediction-Copy3.ipynb', 'Car Price prediction.ipynb', 'catboost_info', 'requirements.txt', 'sample_submission.csv', 'test.csv', 'train.csv', 'Untitled.ipynb', 'Untitled1.ipynb', 'Untitled2.ipynb']\n"
     ]
    }
   ],
   "source": [
    "print(os.listdir('./'))"
   ]
  },
  {
   "cell_type": "markdown",
   "metadata": {},
   "source": [
    "### Импорт данных"
   ]
  },
  {
   "cell_type": "code",
   "execution_count": 5,
   "metadata": {
    "scrolled": false
   },
   "outputs": [
    {
     "name": "stdout",
     "output_type": "stream",
     "text": [
      "['.ipynb_checkpoints', 'all_car_brands_and_their_models_from_auto_ru.csv', 'baseline-sf-dst-car-price-prediction-v14.ipynb', 'Car Price prediction-Copy1.ipynb', 'Car Price prediction-Copy2.ipynb', 'Car Price prediction-Copy3.ipynb', 'Car Price prediction.ipynb', 'catboost_info', 'requirements.txt', 'sample_submission.csv', 'test.csv', 'train.csv', 'Untitled.ipynb', 'Untitled1.ipynb', 'Untitled2.ipynb']\n"
     ]
    }
   ],
   "source": [
    "from importlib import reload\n",
    "print(os.listdir('./'))\n",
    "DIR_TRAIN  = '../' # подключил к ноутбуку свой внешний датасет\n",
    "DIR_TEST   = '../'"
   ]
  },
  {
   "cell_type": "code",
   "execution_count": 6,
   "metadata": {
    "scrolled": false
   },
   "outputs": [
    {
     "name": "stdout",
     "output_type": "stream",
     "text": [
      "Размерность тренировочного датасета:  (89378, 26)\n"
     ]
    },
    {
     "data": {
      "text/html": [
       "<div>\n",
       "<style scoped>\n",
       "    .dataframe tbody tr th:only-of-type {\n",
       "        vertical-align: middle;\n",
       "    }\n",
       "\n",
       "    .dataframe tbody tr th {\n",
       "        vertical-align: top;\n",
       "    }\n",
       "\n",
       "    .dataframe thead th {\n",
       "        text-align: right;\n",
       "    }\n",
       "</style>\n",
       "<table border=\"1\" class=\"dataframe\">\n",
       "  <thead>\n",
       "    <tr style=\"text-align: right;\">\n",
       "      <th></th>\n",
       "      <th>bodyType</th>\n",
       "      <th>brand</th>\n",
       "      <th>color</th>\n",
       "      <th>fuelType</th>\n",
       "      <th>modelDate</th>\n",
       "      <th>name</th>\n",
       "      <th>numberOfDoors</th>\n",
       "      <th>productionDate</th>\n",
       "      <th>vehicleConfiguration</th>\n",
       "      <th>vehicleTransmission</th>\n",
       "      <th>engineDisplacement</th>\n",
       "      <th>enginePower</th>\n",
       "      <th>description</th>\n",
       "      <th>mileage</th>\n",
       "      <th>Комплектация</th>\n",
       "      <th>Привод</th>\n",
       "      <th>Руль</th>\n",
       "      <th>Состояние</th>\n",
       "      <th>Владельцы</th>\n",
       "      <th>ПТС</th>\n",
       "      <th>Таможня</th>\n",
       "      <th>Владение</th>\n",
       "      <th>price</th>\n",
       "      <th>start_date</th>\n",
       "      <th>hidden</th>\n",
       "      <th>model</th>\n",
       "    </tr>\n",
       "  </thead>\n",
       "  <tbody>\n",
       "    <tr>\n",
       "      <th>0</th>\n",
       "      <td>Седан</td>\n",
       "      <td>AUDI</td>\n",
       "      <td>040001</td>\n",
       "      <td>бензин</td>\n",
       "      <td>1990.0</td>\n",
       "      <td>2.8 MT (174 л.с.) 4WD</td>\n",
       "      <td>4.0</td>\n",
       "      <td>1991</td>\n",
       "      <td>SEDAN MECHANICAL 2.8</td>\n",
       "      <td>MECHANICAL</td>\n",
       "      <td>2.8</td>\n",
       "      <td>174.0</td>\n",
       "      <td>Машина  в приличном состоянии ,не гнилая не р...</td>\n",
       "      <td>350000</td>\n",
       "      <td>{'id': '0'}</td>\n",
       "      <td>полный</td>\n",
       "      <td>LEFT</td>\n",
       "      <td>NaN</td>\n",
       "      <td>3.0</td>\n",
       "      <td>ORIGINAL</td>\n",
       "      <td>True</td>\n",
       "      <td>NaN</td>\n",
       "      <td>200000.0</td>\n",
       "      <td>2019-10-03T08:09:11Z</td>\n",
       "      <td>NaN</td>\n",
       "      <td>100</td>\n",
       "    </tr>\n",
       "    <tr>\n",
       "      <th>1</th>\n",
       "      <td>Седан</td>\n",
       "      <td>AUDI</td>\n",
       "      <td>EE1D19</td>\n",
       "      <td>бензин</td>\n",
       "      <td>1982.0</td>\n",
       "      <td>1.8 MT (90 л.с.)</td>\n",
       "      <td>4.0</td>\n",
       "      <td>1986</td>\n",
       "      <td>SEDAN MECHANICAL 1.8</td>\n",
       "      <td>MECHANICAL</td>\n",
       "      <td>1.8</td>\n",
       "      <td>90.0</td>\n",
       "      <td>Машина в оригинале не гнилая все вопросы по те...</td>\n",
       "      <td>173424</td>\n",
       "      <td>{'id': '0'}</td>\n",
       "      <td>передний</td>\n",
       "      <td>LEFT</td>\n",
       "      <td>NaN</td>\n",
       "      <td>3.0</td>\n",
       "      <td>ORIGINAL</td>\n",
       "      <td>True</td>\n",
       "      <td>NaN</td>\n",
       "      <td>60000.0</td>\n",
       "      <td>2020-09-06T06:49:40Z</td>\n",
       "      <td>NaN</td>\n",
       "      <td>100</td>\n",
       "    </tr>\n",
       "  </tbody>\n",
       "</table>\n",
       "</div>"
      ],
      "text/plain": [
       "  bodyType brand   color fuelType  modelDate                   name  \\\n",
       "0    Седан  AUDI  040001   бензин     1990.0  2.8 MT (174 л.с.) 4WD   \n",
       "1    Седан  AUDI  EE1D19   бензин     1982.0       1.8 MT (90 л.с.)   \n",
       "\n",
       "   numberOfDoors  productionDate  vehicleConfiguration vehicleTransmission  \\\n",
       "0            4.0            1991  SEDAN MECHANICAL 2.8          MECHANICAL   \n",
       "1            4.0            1986  SEDAN MECHANICAL 1.8          MECHANICAL   \n",
       "\n",
       "  engineDisplacement  enginePower  \\\n",
       "0                2.8        174.0   \n",
       "1                1.8         90.0   \n",
       "\n",
       "                                         description  mileage Комплектация  \\\n",
       "0   Машина  в приличном состоянии ,не гнилая не р...   350000  {'id': '0'}   \n",
       "1  Машина в оригинале не гнилая все вопросы по те...   173424  {'id': '0'}   \n",
       "\n",
       "     Привод  Руль  Состояние  Владельцы       ПТС  Таможня Владение     price  \\\n",
       "0    полный  LEFT        NaN        3.0  ORIGINAL     True      NaN  200000.0   \n",
       "1  передний  LEFT        NaN        3.0  ORIGINAL     True      NaN   60000.0   \n",
       "\n",
       "             start_date  hidden model  \n",
       "0  2019-10-03T08:09:11Z     NaN   100  \n",
       "1  2020-09-06T06:49:40Z     NaN   100  "
      ]
     },
     "metadata": {},
     "output_type": "display_data"
    },
    {
     "name": "stdout",
     "output_type": "stream",
     "text": [
      "Размерность тестового датасета:  (3837, 23)\n"
     ]
    },
    {
     "data": {
      "text/html": [
       "<div>\n",
       "<style scoped>\n",
       "    .dataframe tbody tr th:only-of-type {\n",
       "        vertical-align: middle;\n",
       "    }\n",
       "\n",
       "    .dataframe tbody tr th {\n",
       "        vertical-align: top;\n",
       "    }\n",
       "\n",
       "    .dataframe thead th {\n",
       "        text-align: right;\n",
       "    }\n",
       "</style>\n",
       "<table border=\"1\" class=\"dataframe\">\n",
       "  <thead>\n",
       "    <tr style=\"text-align: right;\">\n",
       "      <th></th>\n",
       "      <th>bodyType</th>\n",
       "      <th>brand</th>\n",
       "      <th>color</th>\n",
       "      <th>fuelType</th>\n",
       "      <th>modelDate</th>\n",
       "      <th>name</th>\n",
       "      <th>numberOfDoors</th>\n",
       "      <th>productionDate</th>\n",
       "      <th>vehicleConfiguration</th>\n",
       "      <th>vehicleTransmission</th>\n",
       "      <th>engineDisplacement</th>\n",
       "      <th>enginePower</th>\n",
       "      <th>description</th>\n",
       "      <th>mileage</th>\n",
       "      <th>Комплектация</th>\n",
       "      <th>Привод</th>\n",
       "      <th>Руль</th>\n",
       "      <th>Состояние</th>\n",
       "      <th>Владельцы</th>\n",
       "      <th>ПТС</th>\n",
       "      <th>Таможня</th>\n",
       "      <th>Владение</th>\n",
       "      <th>id</th>\n",
       "    </tr>\n",
       "  </thead>\n",
       "  <tbody>\n",
       "    <tr>\n",
       "      <th>0</th>\n",
       "      <td>седан</td>\n",
       "      <td>BMW</td>\n",
       "      <td>чёрный</td>\n",
       "      <td>дизель</td>\n",
       "      <td>2016.0</td>\n",
       "      <td>520d 2.0d AT (190 л.с.)</td>\n",
       "      <td>4.0</td>\n",
       "      <td>2017.0</td>\n",
       "      <td>SEDAN AUTOMATIC 2.0</td>\n",
       "      <td>автоматическая</td>\n",
       "      <td>2.0 LTR</td>\n",
       "      <td>190 N12</td>\n",
       "      <td>В РОЛЬФ Ясенево представлено более 500 автомоб...</td>\n",
       "      <td>158836.0</td>\n",
       "      <td>['[{\"name\":\"Безопасность\",\"values\":[\"Антипробу...</td>\n",
       "      <td>задний</td>\n",
       "      <td>Левый</td>\n",
       "      <td>Не требует ремонта</td>\n",
       "      <td>1 владелец</td>\n",
       "      <td>Оригинал</td>\n",
       "      <td>Растаможен</td>\n",
       "      <td>NaN</td>\n",
       "      <td>0</td>\n",
       "    </tr>\n",
       "    <tr>\n",
       "      <th>1</th>\n",
       "      <td>седан</td>\n",
       "      <td>BMW</td>\n",
       "      <td>белый</td>\n",
       "      <td>дизель</td>\n",
       "      <td>2018.0</td>\n",
       "      <td>318d 2.0d AT (150 л.с.)</td>\n",
       "      <td>4.0</td>\n",
       "      <td>2019.0</td>\n",
       "      <td>SEDAN AUTOMATIC 2.0</td>\n",
       "      <td>автоматическая</td>\n",
       "      <td>2.0 LTR</td>\n",
       "      <td>150 N12</td>\n",
       "      <td>Автомобиль из демонстрационного парка по спец ...</td>\n",
       "      <td>10.0</td>\n",
       "      <td>['[{\"name\":\"Комфорт\",\"values\":[\"Круиз-контроль...</td>\n",
       "      <td>задний</td>\n",
       "      <td>Левый</td>\n",
       "      <td>Не требует ремонта</td>\n",
       "      <td>1 владелец</td>\n",
       "      <td>Оригинал</td>\n",
       "      <td>Растаможен</td>\n",
       "      <td>NaN</td>\n",
       "      <td>1</td>\n",
       "    </tr>\n",
       "  </tbody>\n",
       "</table>\n",
       "</div>"
      ],
      "text/plain": [
       "  bodyType brand   color fuelType  modelDate                     name  \\\n",
       "0    седан   BMW  чёрный   дизель     2016.0  520d 2.0d AT (190 л.с.)   \n",
       "1    седан   BMW   белый   дизель     2018.0  318d 2.0d AT (150 л.с.)   \n",
       "\n",
       "   numberOfDoors  productionDate vehicleConfiguration vehicleTransmission  \\\n",
       "0            4.0          2017.0  SEDAN AUTOMATIC 2.0      автоматическая   \n",
       "1            4.0          2019.0  SEDAN AUTOMATIC 2.0      автоматическая   \n",
       "\n",
       "  engineDisplacement enginePower  \\\n",
       "0            2.0 LTR     190 N12   \n",
       "1            2.0 LTR     150 N12   \n",
       "\n",
       "                                         description   mileage  \\\n",
       "0  В РОЛЬФ Ясенево представлено более 500 автомоб...  158836.0   \n",
       "1  Автомобиль из демонстрационного парка по спец ...      10.0   \n",
       "\n",
       "                                        Комплектация  Привод   Руль  \\\n",
       "0  ['[{\"name\":\"Безопасность\",\"values\":[\"Антипробу...  задний  Левый   \n",
       "1  ['[{\"name\":\"Комфорт\",\"values\":[\"Круиз-контроль...  задний  Левый   \n",
       "\n",
       "            Состояние   Владельцы       ПТС     Таможня Владение  id  \n",
       "0  Не требует ремонта  1 владелец  Оригинал  Растаможен      NaN   0  \n",
       "1  Не требует ремонта  1 владелец  Оригинал  Растаможен      NaN   1  "
      ]
     },
     "metadata": {},
     "output_type": "display_data"
    },
    {
     "name": "stdout",
     "output_type": "stream",
     "text": [
      "Размерность датасета c примером сабмишена:  (3837, 2)\n"
     ]
    },
    {
     "data": {
      "text/html": [
       "<div>\n",
       "<style scoped>\n",
       "    .dataframe tbody tr th:only-of-type {\n",
       "        vertical-align: middle;\n",
       "    }\n",
       "\n",
       "    .dataframe tbody tr th {\n",
       "        vertical-align: top;\n",
       "    }\n",
       "\n",
       "    .dataframe thead th {\n",
       "        text-align: right;\n",
       "    }\n",
       "</style>\n",
       "<table border=\"1\" class=\"dataframe\">\n",
       "  <thead>\n",
       "    <tr style=\"text-align: right;\">\n",
       "      <th></th>\n",
       "      <th>id</th>\n",
       "      <th>price</th>\n",
       "    </tr>\n",
       "  </thead>\n",
       "  <tbody>\n",
       "    <tr>\n",
       "      <th>0</th>\n",
       "      <td>0</td>\n",
       "      <td>5299000.0</td>\n",
       "    </tr>\n",
       "    <tr>\n",
       "      <th>1</th>\n",
       "      <td>1</td>\n",
       "      <td>1580000.0</td>\n",
       "    </tr>\n",
       "  </tbody>\n",
       "</table>\n",
       "</div>"
      ],
      "text/plain": [
       "   id      price\n",
       "0   0  5299000.0\n",
       "1   1  1580000.0"
      ]
     },
     "metadata": {},
     "output_type": "display_data"
    }
   ],
   "source": [
    "train = pd.read_csv('train.csv')\n",
    "test = pd.read_csv('test.csv')\n",
    "submit = pd.read_csv('sample_submission.csv')\n",
    "pd.set_option('display.max_columns', None)\n",
    "print('Размерность тренировочного датасета: ', train.shape)\n",
    "display(train.head(2))\n",
    "print('Размерность тестового датасета: ', test.shape)\n",
    "display(test.head(2))\n",
    "print('Размерность датасета c примером сабмишена: ', submit.shape)\n",
    "display(submit.head(2))"
   ]
  },
  {
   "cell_type": "markdown",
   "metadata": {},
   "source": [
    "### Первичная обработка датасетов"
   ]
  },
  {
   "cell_type": "code",
   "execution_count": 7,
   "metadata": {},
   "outputs": [],
   "source": [
    "# Для удобства зададим функцию, которая создаст отдельный датафрейм с этими признаками для сравнения\n",
    "def check_df(df1,df2):\n",
    "    '''\n",
    "    Функция создает отдельный датафрейм с признаками: название,количество уникальных значений, их тип, содержание.\n",
    "    А так же показывает несоответствие признаков\n",
    "    '''\n",
    "    ## Соберем данные по первому датасету\n",
    "    list_tags_1 = list(df1.columns)\n",
    "    temp_dict = {}\n",
    "    temp_dict['Уникальность_1'] = df1.nunique().values\n",
    "    temp_dict['Первая_строка_1'] =df1.loc[0].values\n",
    "    temp_dict['тип_1'] = df1.dtypes\n",
    "    temp_dict['Признак_1'] = list_tags_1\n",
    "    temp_df1 = pd.DataFrame.from_dict(temp_dict)\n",
    "    \n",
    "    ## Соберем данные по второму датасету\n",
    "    list_tags_2 = list(df2.columns)\n",
    "    temp_dict2 = {}\n",
    "    temp_dict2['Признак_2'] = list_tags_2\n",
    "    temp_dict2['тип_2'] = df2.dtypes\n",
    "    temp_dict2['Первая_строка_2'] =df2.loc[0].values\n",
    "    temp_dict2['Уникальность_2'] = df2.nunique().values\n",
    "    temp_df2 = pd.DataFrame.from_dict(temp_dict2)\n",
    "    \n",
    "    ##объеденим датасеты\n",
    "    temp_df = pd.concat([temp_df1,temp_df2], axis=1, sort=False)\n",
    "    temp_df.reset_index(inplace = True)\n",
    "    del temp_df['index']\n",
    "    display(temp_df)\n",
    "    \n",
    "    ## Создадим словари для сравнения данных\n",
    "    temp_dict3 = {}\n",
    "    temp_df3= pd.DataFrame(temp_df)\n",
    "    temp_list  = []\n",
    "    temp_list2  = []\n",
    "    temp_list3  = []\n",
    "    temp_list4  = []\n",
    "    temp_list5  = []\n",
    "\n",
    "    for i in range(len(temp_df)):\n",
    "        if str(temp_df3['тип_2'][i]) != str(temp_df3['тип_1'][i]):\n",
    "            temp_list.append(temp_df3['Признак_1'][i])\n",
    "            temp_list2.append(temp_df3['Признак_2'][i])\n",
    "            temp_list3.append(str(temp_df3['тип_1'][i]) + ' != ' + str(temp_df3['тип_2'][i]))\n",
    "            temp_list4.append(i)\n",
    "        \n",
    "    ## Создаем сравнительный датасет\n",
    "    temp_dict3['index']= temp_list4\n",
    "    temp_dict3['Признак_1']= temp_list\n",
    "    temp_dict3['Отличие'] = temp_list3\n",
    "    temp_dict3['Признак_2']= temp_list2\n",
    "\n",
    "    temp_df4 = pd.DataFrame.from_dict(temp_dict3)\n",
    "    temp_df4.set_index('index',inplace=True)\n",
    "\n",
    "    print(f'Вывод:\\n 1. Не совпали типы в {len(temp_df4)} столбцах:')\n",
    "    display(temp_df4)\n",
    "\n",
    "    return"
   ]
  },
  {
   "cell_type": "markdown",
   "metadata": {},
   "source": [
    "#### Для начала сравним датасеты "
   ]
  },
  {
   "cell_type": "markdown",
   "metadata": {},
   "source": [
    "Рассмотрим каждую колонку:  \n",
    "    - её название,\n",
    "    - количество уникальных значений,\n",
    "    - её тип,  \n",
    "    - её содержание.\n",
    "И проверим их различие"
   ]
  },
  {
   "cell_type": "code",
   "execution_count": 8,
   "metadata": {
    "scrolled": true
   },
   "outputs": [
    {
     "data": {
      "text/html": [
       "<div>\n",
       "<style scoped>\n",
       "    .dataframe tbody tr th:only-of-type {\n",
       "        vertical-align: middle;\n",
       "    }\n",
       "\n",
       "    .dataframe tbody tr th {\n",
       "        vertical-align: top;\n",
       "    }\n",
       "\n",
       "    .dataframe thead th {\n",
       "        text-align: right;\n",
       "    }\n",
       "</style>\n",
       "<table border=\"1\" class=\"dataframe\">\n",
       "  <thead>\n",
       "    <tr style=\"text-align: right;\">\n",
       "      <th></th>\n",
       "      <th>Уникальность_1</th>\n",
       "      <th>Первая_строка_1</th>\n",
       "      <th>тип_1</th>\n",
       "      <th>Признак_1</th>\n",
       "      <th>Признак_2</th>\n",
       "      <th>тип_2</th>\n",
       "      <th>Первая_строка_2</th>\n",
       "      <th>Уникальность_2</th>\n",
       "    </tr>\n",
       "  </thead>\n",
       "  <tbody>\n",
       "    <tr>\n",
       "      <th>0</th>\n",
       "      <td>168.0</td>\n",
       "      <td>Седан</td>\n",
       "      <td>object</td>\n",
       "      <td>bodyType</td>\n",
       "      <td>bodyType</td>\n",
       "      <td>object</td>\n",
       "      <td>седан</td>\n",
       "      <td>11.0</td>\n",
       "    </tr>\n",
       "    <tr>\n",
       "      <th>1</th>\n",
       "      <td>36.0</td>\n",
       "      <td>AUDI</td>\n",
       "      <td>object</td>\n",
       "      <td>brand</td>\n",
       "      <td>brand</td>\n",
       "      <td>object</td>\n",
       "      <td>BMW</td>\n",
       "      <td>1.0</td>\n",
       "    </tr>\n",
       "    <tr>\n",
       "      <th>2</th>\n",
       "      <td>16.0</td>\n",
       "      <td>040001</td>\n",
       "      <td>object</td>\n",
       "      <td>color</td>\n",
       "      <td>color</td>\n",
       "      <td>object</td>\n",
       "      <td>чёрный</td>\n",
       "      <td>15.0</td>\n",
       "    </tr>\n",
       "    <tr>\n",
       "      <th>3</th>\n",
       "      <td>6.0</td>\n",
       "      <td>бензин</td>\n",
       "      <td>object</td>\n",
       "      <td>fuelType</td>\n",
       "      <td>fuelType</td>\n",
       "      <td>object</td>\n",
       "      <td>дизель</td>\n",
       "      <td>4.0</td>\n",
       "    </tr>\n",
       "    <tr>\n",
       "      <th>4</th>\n",
       "      <td>78.0</td>\n",
       "      <td>1990</td>\n",
       "      <td>float64</td>\n",
       "      <td>modelDate</td>\n",
       "      <td>modelDate</td>\n",
       "      <td>float64</td>\n",
       "      <td>2016</td>\n",
       "      <td>31.0</td>\n",
       "    </tr>\n",
       "    <tr>\n",
       "      <th>5</th>\n",
       "      <td>4484.0</td>\n",
       "      <td>2.8 MT (174 л.с.) 4WD</td>\n",
       "      <td>object</td>\n",
       "      <td>name</td>\n",
       "      <td>name</td>\n",
       "      <td>object</td>\n",
       "      <td>520d 2.0d AT (190 л.с.)</td>\n",
       "      <td>384.0</td>\n",
       "    </tr>\n",
       "    <tr>\n",
       "      <th>6</th>\n",
       "      <td>5.0</td>\n",
       "      <td>4</td>\n",
       "      <td>float64</td>\n",
       "      <td>numberOfDoors</td>\n",
       "      <td>numberOfDoors</td>\n",
       "      <td>float64</td>\n",
       "      <td>4</td>\n",
       "      <td>4.0</td>\n",
       "    </tr>\n",
       "    <tr>\n",
       "      <th>7</th>\n",
       "      <td>80.0</td>\n",
       "      <td>1991</td>\n",
       "      <td>int64</td>\n",
       "      <td>productionDate</td>\n",
       "      <td>productionDate</td>\n",
       "      <td>float64</td>\n",
       "      <td>2017</td>\n",
       "      <td>37.0</td>\n",
       "    </tr>\n",
       "    <tr>\n",
       "      <th>8</th>\n",
       "      <td>1860.0</td>\n",
       "      <td>SEDAN MECHANICAL 2.8</td>\n",
       "      <td>object</td>\n",
       "      <td>vehicleConfiguration</td>\n",
       "      <td>vehicleConfiguration</td>\n",
       "      <td>object</td>\n",
       "      <td>SEDAN AUTOMATIC 2.0</td>\n",
       "      <td>99.0</td>\n",
       "    </tr>\n",
       "    <tr>\n",
       "      <th>9</th>\n",
       "      <td>4.0</td>\n",
       "      <td>MECHANICAL</td>\n",
       "      <td>object</td>\n",
       "      <td>vehicleTransmission</td>\n",
       "      <td>vehicleTransmission</td>\n",
       "      <td>object</td>\n",
       "      <td>автоматическая</td>\n",
       "      <td>3.0</td>\n",
       "    </tr>\n",
       "    <tr>\n",
       "      <th>10</th>\n",
       "      <td>534.0</td>\n",
       "      <td>2.8</td>\n",
       "      <td>object</td>\n",
       "      <td>engineDisplacement</td>\n",
       "      <td>engineDisplacement</td>\n",
       "      <td>object</td>\n",
       "      <td>2.0 LTR</td>\n",
       "      <td>22.0</td>\n",
       "    </tr>\n",
       "    <tr>\n",
       "      <th>11</th>\n",
       "      <td>396.0</td>\n",
       "      <td>174</td>\n",
       "      <td>float64</td>\n",
       "      <td>enginePower</td>\n",
       "      <td>enginePower</td>\n",
       "      <td>object</td>\n",
       "      <td>190 N12</td>\n",
       "      <td>75.0</td>\n",
       "    </tr>\n",
       "    <tr>\n",
       "      <th>12</th>\n",
       "      <td>77568.0</td>\n",
       "      <td>Машина  в приличном состоянии ,не гнилая не р...</td>\n",
       "      <td>object</td>\n",
       "      <td>description</td>\n",
       "      <td>description</td>\n",
       "      <td>object</td>\n",
       "      <td>В РОЛЬФ Ясенево представлено более 500 автомоб...</td>\n",
       "      <td>3677.0</td>\n",
       "    </tr>\n",
       "    <tr>\n",
       "      <th>13</th>\n",
       "      <td>17403.0</td>\n",
       "      <td>350000</td>\n",
       "      <td>int64</td>\n",
       "      <td>mileage</td>\n",
       "      <td>mileage</td>\n",
       "      <td>float64</td>\n",
       "      <td>158836</td>\n",
       "      <td>1942.0</td>\n",
       "    </tr>\n",
       "    <tr>\n",
       "      <th>14</th>\n",
       "      <td>5839.0</td>\n",
       "      <td>{'id': '0'}</td>\n",
       "      <td>object</td>\n",
       "      <td>Комплектация</td>\n",
       "      <td>Комплектация</td>\n",
       "      <td>object</td>\n",
       "      <td>['[{\"name\":\"Безопасность\",\"values\":[\"Антипробу...</td>\n",
       "      <td>3295.0</td>\n",
       "    </tr>\n",
       "    <tr>\n",
       "      <th>15</th>\n",
       "      <td>3.0</td>\n",
       "      <td>полный</td>\n",
       "      <td>object</td>\n",
       "      <td>Привод</td>\n",
       "      <td>Привод</td>\n",
       "      <td>object</td>\n",
       "      <td>задний</td>\n",
       "      <td>3.0</td>\n",
       "    </tr>\n",
       "    <tr>\n",
       "      <th>16</th>\n",
       "      <td>2.0</td>\n",
       "      <td>LEFT</td>\n",
       "      <td>object</td>\n",
       "      <td>Руль</td>\n",
       "      <td>Руль</td>\n",
       "      <td>object</td>\n",
       "      <td>Левый</td>\n",
       "      <td>1.0</td>\n",
       "    </tr>\n",
       "    <tr>\n",
       "      <th>17</th>\n",
       "      <td>0.0</td>\n",
       "      <td>NaN</td>\n",
       "      <td>float64</td>\n",
       "      <td>Состояние</td>\n",
       "      <td>Состояние</td>\n",
       "      <td>object</td>\n",
       "      <td>Не требует ремонта</td>\n",
       "      <td>1.0</td>\n",
       "    </tr>\n",
       "    <tr>\n",
       "      <th>18</th>\n",
       "      <td>3.0</td>\n",
       "      <td>3</td>\n",
       "      <td>float64</td>\n",
       "      <td>Владельцы</td>\n",
       "      <td>Владельцы</td>\n",
       "      <td>object</td>\n",
       "      <td>1 владелец</td>\n",
       "      <td>3.0</td>\n",
       "    </tr>\n",
       "    <tr>\n",
       "      <th>19</th>\n",
       "      <td>2.0</td>\n",
       "      <td>ORIGINAL</td>\n",
       "      <td>object</td>\n",
       "      <td>ПТС</td>\n",
       "      <td>ПТС</td>\n",
       "      <td>object</td>\n",
       "      <td>Оригинал</td>\n",
       "      <td>2.0</td>\n",
       "    </tr>\n",
       "    <tr>\n",
       "      <th>20</th>\n",
       "      <td>1.0</td>\n",
       "      <td>True</td>\n",
       "      <td>bool</td>\n",
       "      <td>Таможня</td>\n",
       "      <td>Таможня</td>\n",
       "      <td>object</td>\n",
       "      <td>Растаможен</td>\n",
       "      <td>1.0</td>\n",
       "    </tr>\n",
       "    <tr>\n",
       "      <th>21</th>\n",
       "      <td>290.0</td>\n",
       "      <td>NaN</td>\n",
       "      <td>object</td>\n",
       "      <td>Владение</td>\n",
       "      <td>Владение</td>\n",
       "      <td>object</td>\n",
       "      <td>NaN</td>\n",
       "      <td>157.0</td>\n",
       "    </tr>\n",
       "    <tr>\n",
       "      <th>22</th>\n",
       "      <td>8168.0</td>\n",
       "      <td>200000</td>\n",
       "      <td>float64</td>\n",
       "      <td>price</td>\n",
       "      <td>NaN</td>\n",
       "      <td>NaN</td>\n",
       "      <td>NaN</td>\n",
       "      <td>NaN</td>\n",
       "    </tr>\n",
       "    <tr>\n",
       "      <th>23</th>\n",
       "      <td>75680.0</td>\n",
       "      <td>2019-10-03T08:09:11Z</td>\n",
       "      <td>object</td>\n",
       "      <td>start_date</td>\n",
       "      <td>NaN</td>\n",
       "      <td>NaN</td>\n",
       "      <td>NaN</td>\n",
       "      <td>NaN</td>\n",
       "    </tr>\n",
       "    <tr>\n",
       "      <th>24</th>\n",
       "      <td>0.0</td>\n",
       "      <td>NaN</td>\n",
       "      <td>float64</td>\n",
       "      <td>hidden</td>\n",
       "      <td>NaN</td>\n",
       "      <td>NaN</td>\n",
       "      <td>NaN</td>\n",
       "      <td>NaN</td>\n",
       "    </tr>\n",
       "    <tr>\n",
       "      <th>25</th>\n",
       "      <td>1086.0</td>\n",
       "      <td>100</td>\n",
       "      <td>object</td>\n",
       "      <td>model</td>\n",
       "      <td>NaN</td>\n",
       "      <td>NaN</td>\n",
       "      <td>NaN</td>\n",
       "      <td>NaN</td>\n",
       "    </tr>\n",
       "    <tr>\n",
       "      <th>26</th>\n",
       "      <td>NaN</td>\n",
       "      <td>NaN</td>\n",
       "      <td>NaN</td>\n",
       "      <td>NaN</td>\n",
       "      <td>id</td>\n",
       "      <td>int64</td>\n",
       "      <td>0</td>\n",
       "      <td>3837.0</td>\n",
       "    </tr>\n",
       "  </tbody>\n",
       "</table>\n",
       "</div>"
      ],
      "text/plain": [
       "    Уникальность_1                                    Первая_строка_1  \\\n",
       "0            168.0                                              Седан   \n",
       "1             36.0                                               AUDI   \n",
       "2             16.0                                             040001   \n",
       "3              6.0                                             бензин   \n",
       "4             78.0                                               1990   \n",
       "5           4484.0                              2.8 MT (174 л.с.) 4WD   \n",
       "6              5.0                                                  4   \n",
       "7             80.0                                               1991   \n",
       "8           1860.0                               SEDAN MECHANICAL 2.8   \n",
       "9              4.0                                         MECHANICAL   \n",
       "10           534.0                                                2.8   \n",
       "11           396.0                                                174   \n",
       "12         77568.0   Машина  в приличном состоянии ,не гнилая не р...   \n",
       "13         17403.0                                             350000   \n",
       "14          5839.0                                        {'id': '0'}   \n",
       "15             3.0                                             полный   \n",
       "16             2.0                                               LEFT   \n",
       "17             0.0                                                NaN   \n",
       "18             3.0                                                  3   \n",
       "19             2.0                                           ORIGINAL   \n",
       "20             1.0                                               True   \n",
       "21           290.0                                                NaN   \n",
       "22          8168.0                                             200000   \n",
       "23         75680.0                               2019-10-03T08:09:11Z   \n",
       "24             0.0                                                NaN   \n",
       "25          1086.0                                                100   \n",
       "26             NaN                                                NaN   \n",
       "\n",
       "      тип_1             Признак_1             Признак_2    тип_2  \\\n",
       "0    object              bodyType              bodyType   object   \n",
       "1    object                 brand                 brand   object   \n",
       "2    object                 color                 color   object   \n",
       "3    object              fuelType              fuelType   object   \n",
       "4   float64             modelDate             modelDate  float64   \n",
       "5    object                  name                  name   object   \n",
       "6   float64         numberOfDoors         numberOfDoors  float64   \n",
       "7     int64        productionDate        productionDate  float64   \n",
       "8    object  vehicleConfiguration  vehicleConfiguration   object   \n",
       "9    object   vehicleTransmission   vehicleTransmission   object   \n",
       "10   object    engineDisplacement    engineDisplacement   object   \n",
       "11  float64           enginePower           enginePower   object   \n",
       "12   object           description           description   object   \n",
       "13    int64               mileage               mileage  float64   \n",
       "14   object          Комплектация          Комплектация   object   \n",
       "15   object                Привод                Привод   object   \n",
       "16   object                  Руль                  Руль   object   \n",
       "17  float64             Состояние             Состояние   object   \n",
       "18  float64             Владельцы             Владельцы   object   \n",
       "19   object                   ПТС                   ПТС   object   \n",
       "20     bool               Таможня               Таможня   object   \n",
       "21   object              Владение              Владение   object   \n",
       "22  float64                 price                   NaN      NaN   \n",
       "23   object            start_date                   NaN      NaN   \n",
       "24  float64                hidden                   NaN      NaN   \n",
       "25   object                 model                   NaN      NaN   \n",
       "26      NaN                   NaN                    id    int64   \n",
       "\n",
       "                                      Первая_строка_2  Уникальность_2  \n",
       "0                                               седан            11.0  \n",
       "1                                                 BMW             1.0  \n",
       "2                                              чёрный            15.0  \n",
       "3                                              дизель             4.0  \n",
       "4                                                2016            31.0  \n",
       "5                             520d 2.0d AT (190 л.с.)           384.0  \n",
       "6                                                   4             4.0  \n",
       "7                                                2017            37.0  \n",
       "8                                 SEDAN AUTOMATIC 2.0            99.0  \n",
       "9                                      автоматическая             3.0  \n",
       "10                                            2.0 LTR            22.0  \n",
       "11                                            190 N12            75.0  \n",
       "12  В РОЛЬФ Ясенево представлено более 500 автомоб...          3677.0  \n",
       "13                                             158836          1942.0  \n",
       "14  ['[{\"name\":\"Безопасность\",\"values\":[\"Антипробу...          3295.0  \n",
       "15                                             задний             3.0  \n",
       "16                                              Левый             1.0  \n",
       "17                                 Не требует ремонта             1.0  \n",
       "18                                         1 владелец             3.0  \n",
       "19                                           Оригинал             2.0  \n",
       "20                                         Растаможен             1.0  \n",
       "21                                                NaN           157.0  \n",
       "22                                                NaN             NaN  \n",
       "23                                                NaN             NaN  \n",
       "24                                                NaN             NaN  \n",
       "25                                                NaN             NaN  \n",
       "26                                                  0          3837.0  "
      ]
     },
     "metadata": {},
     "output_type": "display_data"
    },
    {
     "name": "stdout",
     "output_type": "stream",
     "text": [
      "Вывод:\n",
      " 1. Не совпали типы в 11 столбцах:\n"
     ]
    },
    {
     "data": {
      "text/html": [
       "<div>\n",
       "<style scoped>\n",
       "    .dataframe tbody tr th:only-of-type {\n",
       "        vertical-align: middle;\n",
       "    }\n",
       "\n",
       "    .dataframe tbody tr th {\n",
       "        vertical-align: top;\n",
       "    }\n",
       "\n",
       "    .dataframe thead th {\n",
       "        text-align: right;\n",
       "    }\n",
       "</style>\n",
       "<table border=\"1\" class=\"dataframe\">\n",
       "  <thead>\n",
       "    <tr style=\"text-align: right;\">\n",
       "      <th></th>\n",
       "      <th>Признак_1</th>\n",
       "      <th>Отличие</th>\n",
       "      <th>Признак_2</th>\n",
       "    </tr>\n",
       "    <tr>\n",
       "      <th>index</th>\n",
       "      <th></th>\n",
       "      <th></th>\n",
       "      <th></th>\n",
       "    </tr>\n",
       "  </thead>\n",
       "  <tbody>\n",
       "    <tr>\n",
       "      <th>7</th>\n",
       "      <td>productionDate</td>\n",
       "      <td>int64 != float64</td>\n",
       "      <td>productionDate</td>\n",
       "    </tr>\n",
       "    <tr>\n",
       "      <th>11</th>\n",
       "      <td>enginePower</td>\n",
       "      <td>float64 != object</td>\n",
       "      <td>enginePower</td>\n",
       "    </tr>\n",
       "    <tr>\n",
       "      <th>13</th>\n",
       "      <td>mileage</td>\n",
       "      <td>int64 != float64</td>\n",
       "      <td>mileage</td>\n",
       "    </tr>\n",
       "    <tr>\n",
       "      <th>17</th>\n",
       "      <td>Состояние</td>\n",
       "      <td>float64 != object</td>\n",
       "      <td>Состояние</td>\n",
       "    </tr>\n",
       "    <tr>\n",
       "      <th>18</th>\n",
       "      <td>Владельцы</td>\n",
       "      <td>float64 != object</td>\n",
       "      <td>Владельцы</td>\n",
       "    </tr>\n",
       "    <tr>\n",
       "      <th>20</th>\n",
       "      <td>Таможня</td>\n",
       "      <td>bool != object</td>\n",
       "      <td>Таможня</td>\n",
       "    </tr>\n",
       "    <tr>\n",
       "      <th>22</th>\n",
       "      <td>price</td>\n",
       "      <td>float64 != nan</td>\n",
       "      <td>NaN</td>\n",
       "    </tr>\n",
       "    <tr>\n",
       "      <th>23</th>\n",
       "      <td>start_date</td>\n",
       "      <td>object != nan</td>\n",
       "      <td>NaN</td>\n",
       "    </tr>\n",
       "    <tr>\n",
       "      <th>24</th>\n",
       "      <td>hidden</td>\n",
       "      <td>float64 != nan</td>\n",
       "      <td>NaN</td>\n",
       "    </tr>\n",
       "    <tr>\n",
       "      <th>25</th>\n",
       "      <td>model</td>\n",
       "      <td>object != nan</td>\n",
       "      <td>NaN</td>\n",
       "    </tr>\n",
       "    <tr>\n",
       "      <th>26</th>\n",
       "      <td>NaN</td>\n",
       "      <td>nan != int64</td>\n",
       "      <td>id</td>\n",
       "    </tr>\n",
       "  </tbody>\n",
       "</table>\n",
       "</div>"
      ],
      "text/plain": [
       "            Признак_1            Отличие       Признак_2\n",
       "index                                                   \n",
       "7      productionDate   int64 != float64  productionDate\n",
       "11        enginePower  float64 != object     enginePower\n",
       "13            mileage   int64 != float64         mileage\n",
       "17          Состояние  float64 != object       Состояние\n",
       "18          Владельцы  float64 != object       Владельцы\n",
       "20            Таможня     bool != object         Таможня\n",
       "22              price     float64 != nan             NaN\n",
       "23         start_date      object != nan             NaN\n",
       "24             hidden     float64 != nan             NaN\n",
       "25              model      object != nan             NaN\n",
       "26                NaN       nan != int64              id"
      ]
     },
     "metadata": {},
     "output_type": "display_data"
    }
   ],
   "source": [
    "check_df(train, test)"
   ]
  },
  {
   "cell_type": "markdown",
   "metadata": {},
   "source": [
    "##### Промежуточный итог: \n",
    "Видно что в 6 столбцах различаются типы значений,  \n",
    "4 столбцов нет в тестовом датасете и 1 в тренировочном.  \n",
    "\n",
    "1.Приведем столбцы типа int64 к float64, поскольку мы еще подробно не исследовали датасет,  \n",
    "и не знаем какие значения могут принимать параметры.  \n",
    "\n",
    "2.Так же для столбцов с отличиями: float64 != object, bool != object  \n",
    "изменим тип на object.  "
   ]
  },
  {
   "cell_type": "code",
   "execution_count": 9,
   "metadata": {},
   "outputs": [],
   "source": [
    "#1\n",
    "change_type = ['productionDate', 'mileage']\n",
    "for col in change_type:\n",
    "        train[col] = train[col].astype('float64')"
   ]
  },
  {
   "cell_type": "code",
   "execution_count": 10,
   "metadata": {},
   "outputs": [],
   "source": [
    "#2\n",
    "change_type = ['enginePower', 'Состояние', 'Владельцы']\n",
    "for col in change_type:\n",
    "        train[col] = train[col].astype('object')"
   ]
  },
  {
   "cell_type": "code",
   "execution_count": 11,
   "metadata": {},
   "outputs": [
    {
     "data": {
      "text/plain": [
       "True    89378\n",
       "Name: Таможня, dtype: int64"
      ]
     },
     "execution_count": 11,
     "metadata": {},
     "output_type": "execute_result"
    }
   ],
   "source": [
    "#Типом bool оказался признак Таможня, он принмает значения True/False,  \n",
    "#в тестовом он задан как Растаможен/Не растаможен\n",
    "#Пока что приведем данный признак к значеним тестового датасета\n",
    "#train['Таможня'] = train['Таможня'].map({True: 'Растаможен', False:'Не растаможен'})\n",
    "train['Таможня'].value_counts()"
   ]
  },
  {
   "cell_type": "markdown",
   "metadata": {},
   "source": [
    "### Итог:  \n",
    "---\n",
    "Как уже было сказано 4 столбцов нет в тестовом датасете и 1 в тренировочном.  \n",
    "\n",
    "В тестовом нет целевой переменной, поскольку ее требуется определить.\n",
    "А так же отсутствуют признаки start_date, hidden, model.  \n",
    "Пока что оставим их и попробуем добавить их в тестовый датасет. \n",
    "\n",
    "В тренировочном отсутствует столбцец id, который нам будет нужен для формирования файла submition."
   ]
  },
  {
   "cell_type": "markdown",
   "metadata": {},
   "source": [
    "### Обработка данных перед слиянием"
   ]
  },
  {
   "cell_type": "markdown",
   "metadata": {},
   "source": [
    "Признак bodyType отличается регистром в обоих датасетах\n",
    "Приведем тренировочный датасет к нижнему регистру"
   ]
  },
  {
   "cell_type": "code",
   "execution_count": 12,
   "metadata": {
    "scrolled": false
   },
   "outputs": [
    {
     "data": {
      "text/plain": [
       "внедорожник 5 дв.    31885\n",
       "седан                30593\n",
       "хэтчбек 5 дв.         8668\n",
       "универсал 5 дв.       3385\n",
       "лифтбек               3121\n",
       "Name: bodyType, dtype: int64"
      ]
     },
     "execution_count": 12,
     "metadata": {},
     "output_type": "execute_result"
    }
   ],
   "source": [
    "train['bodyType'] = train['bodyType'].apply(lambda x: str(x).lower())\n",
    "train['bodyType'].value_counts()[:5]"
   ]
  },
  {
   "cell_type": "code",
   "execution_count": 13,
   "metadata": {},
   "outputs": [
    {
     "data": {
      "text/plain": [
       "040001    25212\n",
       "FAFBFB    15824\n",
       "CACECB    11336\n",
       "97948F    10819\n",
       "0000CC     8874\n",
       "EE1D19     4508\n",
       "200204     3583\n",
       "007F00     2598\n",
       "C49648     1854\n",
       "22A0F8     1398\n",
       "DEA522      774\n",
       "660099      750\n",
       "FFD600      701\n",
       "4A2197      606\n",
       "FF8649      516\n",
       "FFC0CB       25\n",
       "Name: color, dtype: int64"
      ]
     },
     "execution_count": 13,
     "metadata": {},
     "output_type": "execute_result"
    }
   ],
   "source": [
    "train['color'].value_counts()"
   ]
  },
  {
   "cell_type": "markdown",
   "metadata": {},
   "source": [
    "Признак color в тренировочном датасете указан в шестнадцатеричном коде цветов.  \n",
    "Но их всего 16 поэтому приведм коды к значениям цветов."
   ]
  },
  {
   "cell_type": "code",
   "execution_count": 14,
   "metadata": {},
   "outputs": [
    {
     "data": {
      "text/plain": [
       "чёрный        1395\n",
       "белый          767\n",
       "синий          510\n",
       "серый          453\n",
       "коричневый     216\n",
       "Name: color, dtype: int64"
      ]
     },
     "execution_count": 14,
     "metadata": {},
     "output_type": "execute_result"
    }
   ],
   "source": [
    "test['color'].value_counts()[:5]"
   ]
  },
  {
   "cell_type": "code",
   "execution_count": 15,
   "metadata": {},
   "outputs": [],
   "source": [
    "dict_color = {'040001':'чёрный', 'EE1D19':'красный', '0000CC':'синий', \n",
    "              'CACECB':'серебристый', '007F00':'зелёный', 'FAFBFB':'белый', \n",
    "              '97948F':'серый', '22A0F8':'голубой', '660099':'пурпурный', \n",
    "              '200204':'коричневый', 'C49648':'бежевый', 'DEA522':'золотистый', \n",
    "              '4A2197':'фиолетовый', 'FFD600':'жёлтый', 'FF8649':'оранжевый', \n",
    "              'FFC0CB':'розовый'}\n",
    "train['color'] = train['color'].map(dict_color)"
   ]
  },
  {
   "cell_type": "code",
   "execution_count": 16,
   "metadata": {
    "scrolled": true
   },
   "outputs": [
    {
     "data": {
      "text/plain": [
       "чёрный         25212\n",
       "белый          15824\n",
       "серебристый    11336\n",
       "серый          10819\n",
       "синий           8874\n",
       "Name: color, dtype: int64"
      ]
     },
     "execution_count": 16,
     "metadata": {},
     "output_type": "execute_result"
    }
   ],
   "source": [
    "train['color'].value_counts()[:5]"
   ]
  },
  {
   "cell_type": "code",
   "execution_count": 17,
   "metadata": {},
   "outputs": [
    {
     "data": {
      "text/plain": [
       "автоматическая      3677\n",
       "механическая         111\n",
       "роботизированная      49\n",
       "Name: vehicleTransmission, dtype: int64"
      ]
     },
     "execution_count": 17,
     "metadata": {},
     "output_type": "execute_result"
    }
   ],
   "source": [
    "test['vehicleTransmission'].value_counts()"
   ]
  },
  {
   "cell_type": "markdown",
   "metadata": {},
   "source": [
    "Признак vehicleTransmission - тип трасмиссии, приведем к виду тестового датасета"
   ]
  },
  {
   "cell_type": "code",
   "execution_count": 18,
   "metadata": {
    "scrolled": true
   },
   "outputs": [
    {
     "data": {
      "text/plain": [
       "автоматическая      49218\n",
       "механическая        25264\n",
       "роботизированная     7871\n",
       "вариатор             7024\n",
       "Name: vehicleTransmission, dtype: int64"
      ]
     },
     "execution_count": 18,
     "metadata": {},
     "output_type": "execute_result"
    }
   ],
   "source": [
    "train['vehicleTransmission'] = train['vehicleTransmission'].map(\n",
    "    {'MECHANICAL': 'механическая', 'AUTOMATIC': 'автоматическая', 'ROBOT': 'роботизированная', 'VARIATOR': 'вариатор'})\n",
    "train['vehicleTransmission'].value_counts()"
   ]
  },
  {
   "cell_type": "markdown",
   "metadata": {},
   "source": [
    "Признак руль приведем к виду тестового датасета"
   ]
  },
  {
   "cell_type": "code",
   "execution_count": 19,
   "metadata": {
    "scrolled": false
   },
   "outputs": [
    {
     "data": {
      "text/plain": [
       "Левый     87589\n",
       "Правый     1789\n",
       "Name: Руль, dtype: int64"
      ]
     },
     "execution_count": 19,
     "metadata": {},
     "output_type": "execute_result"
    }
   ],
   "source": [
    "train['Руль'] = train['Руль'].map({'RIGHT':'Правый', 'LEFT':'Левый'})\n",
    "train['Руль'].value_counts()"
   ]
  },
  {
   "cell_type": "markdown",
   "metadata": {},
   "source": [
    "Признак ПТС приведем к виду тестового датасета"
   ]
  },
  {
   "cell_type": "code",
   "execution_count": 20,
   "metadata": {
    "scrolled": false
   },
   "outputs": [
    {
     "data": {
      "text/plain": [
       "Оригинал    78597\n",
       "Дубликат    10420\n",
       "Name: ПТС, dtype: int64"
      ]
     },
     "execution_count": 20,
     "metadata": {},
     "output_type": "execute_result"
    }
   ],
   "source": [
    "train['ПТС'] = train['ПТС'].map({'ORIGINAL':'Оригинал', 'DUPLICATE':'Дубликат'})\n",
    "train['ПТС'].value_counts()"
   ]
  },
  {
   "cell_type": "code",
   "execution_count": 21,
   "metadata": {},
   "outputs": [
    {
     "data": {
      "text/plain": [
       "3.0    36248\n",
       "2.0    21006\n",
       "1.0    18536\n",
       "Name: Владельцы, dtype: int64"
      ]
     },
     "metadata": {},
     "output_type": "display_data"
    },
    {
     "data": {
      "text/plain": [
       "3 или более    1516\n",
       "1 владелец     1309\n",
       "2 владельца    1012\n",
       "Name: Владельцы, dtype: int64"
      ]
     },
     "metadata": {},
     "output_type": "display_data"
    }
   ],
   "source": [
    "display(train['Владельцы'].value_counts())\n",
    "display(test['Владельцы'].value_counts())"
   ]
  },
  {
   "cell_type": "markdown",
   "metadata": {},
   "source": [
    "Признак Владельцы приведем к виду тестового датасета"
   ]
  },
  {
   "cell_type": "code",
   "execution_count": 22,
   "metadata": {
    "scrolled": false
   },
   "outputs": [
    {
     "data": {
      "text/plain": [
       "3 или более    36248\n",
       "2 владельца    21006\n",
       "1 владелец     18536\n",
       "Name: Владельцы, dtype: int64"
      ]
     },
     "metadata": {},
     "output_type": "display_data"
    }
   ],
   "source": [
    "train['Владельцы'] = train['Владельцы'].map({3.0:'3 или более', 2.0:'2 владельца', 1.0:'1 владелец'})\n",
    "display(train['Владельцы'].value_counts())"
   ]
  },
  {
   "cell_type": "code",
   "execution_count": 23,
   "metadata": {
    "scrolled": true
   },
   "outputs": [
    {
     "data": {
      "text/plain": [
       "{'year': 2018, 'month': 10}    497\n",
       "{'year': 2019, 'month': 8}     494\n",
       "{'year': 2018, 'month': 8}     492\n",
       "{'year': 2018, 'month': 9}     478\n",
       "{'year': 2018, 'month': 11}    473\n",
       "Name: Владение, dtype: int64"
      ]
     },
     "metadata": {},
     "output_type": "display_data"
    },
    {
     "data": {
      "text/plain": [
       "1 год и 1 месяц      40\n",
       "1 год и 4 месяца     39\n",
       "1 год и 3 месяца     37\n",
       "1 год и 2 месяца     36\n",
       "1 год и 8 месяцев    33\n",
       "Name: Владение, dtype: int64"
      ]
     },
     "metadata": {},
     "output_type": "display_data"
    }
   ],
   "source": [
    "display(train['Владение'].value_counts()[:5])\n",
    "display(test['Владение'].value_counts()[:5])"
   ]
  },
  {
   "cell_type": "markdown",
   "metadata": {},
   "source": [
    "Признак Владение - в таблице сверху в первых строках Nan поэтому нужно отдельно проверить,  \n",
    "Данные записаны в различном формате в разных датасетах, оставим до этапа анализа"
   ]
  },
  {
   "cell_type": "markdown",
   "metadata": {},
   "source": [
    "### Итог  \n",
    "Несоответсвие  осталось только в одном столбце - Владение, вернемся к данному признаку позже в детальном анализе"
   ]
  },
  {
   "cell_type": "markdown",
   "metadata": {},
   "source": [
    "### Слияние датасетов в один"
   ]
  },
  {
   "cell_type": "code",
   "execution_count": 24,
   "metadata": {},
   "outputs": [],
   "source": [
    "# ВАЖНО! для корректной обработки признаков объединяем трейн и тест в один датасет\n",
    "train['Train'] = 1 # помечаем где у нас трейн\n",
    "test['Train'] = 0 # помечаем где у нас тест\n",
    "\n",
    "df = train.append(test, sort=False).reset_index(drop=True) # объединяем"
   ]
  },
  {
   "cell_type": "code",
   "execution_count": 25,
   "metadata": {},
   "outputs": [
    {
     "data": {
      "text/html": [
       "<div>\n",
       "<style scoped>\n",
       "    .dataframe tbody tr th:only-of-type {\n",
       "        vertical-align: middle;\n",
       "    }\n",
       "\n",
       "    .dataframe tbody tr th {\n",
       "        vertical-align: top;\n",
       "    }\n",
       "\n",
       "    .dataframe thead th {\n",
       "        text-align: right;\n",
       "    }\n",
       "</style>\n",
       "<table border=\"1\" class=\"dataframe\">\n",
       "  <thead>\n",
       "    <tr style=\"text-align: right;\">\n",
       "      <th></th>\n",
       "      <th>bodyType</th>\n",
       "      <th>brand</th>\n",
       "      <th>color</th>\n",
       "      <th>fuelType</th>\n",
       "      <th>modelDate</th>\n",
       "      <th>name</th>\n",
       "      <th>numberOfDoors</th>\n",
       "      <th>productionDate</th>\n",
       "      <th>vehicleConfiguration</th>\n",
       "      <th>vehicleTransmission</th>\n",
       "      <th>engineDisplacement</th>\n",
       "      <th>enginePower</th>\n",
       "      <th>description</th>\n",
       "      <th>mileage</th>\n",
       "      <th>Комплектация</th>\n",
       "      <th>Привод</th>\n",
       "      <th>Руль</th>\n",
       "      <th>Состояние</th>\n",
       "      <th>Владельцы</th>\n",
       "      <th>ПТС</th>\n",
       "      <th>Таможня</th>\n",
       "      <th>Владение</th>\n",
       "      <th>price</th>\n",
       "      <th>start_date</th>\n",
       "      <th>hidden</th>\n",
       "      <th>model</th>\n",
       "      <th>Train</th>\n",
       "      <th>id</th>\n",
       "    </tr>\n",
       "  </thead>\n",
       "  <tbody>\n",
       "    <tr>\n",
       "      <th>0</th>\n",
       "      <td>седан</td>\n",
       "      <td>AUDI</td>\n",
       "      <td>чёрный</td>\n",
       "      <td>бензин</td>\n",
       "      <td>1990.0</td>\n",
       "      <td>2.8 MT (174 л.с.) 4WD</td>\n",
       "      <td>4.0</td>\n",
       "      <td>1991.0</td>\n",
       "      <td>SEDAN MECHANICAL 2.8</td>\n",
       "      <td>механическая</td>\n",
       "      <td>2.8</td>\n",
       "      <td>174</td>\n",
       "      <td>Машина  в приличном состоянии ,не гнилая не р...</td>\n",
       "      <td>350000.0</td>\n",
       "      <td>{'id': '0'}</td>\n",
       "      <td>полный</td>\n",
       "      <td>Левый</td>\n",
       "      <td>NaN</td>\n",
       "      <td>3 или более</td>\n",
       "      <td>Оригинал</td>\n",
       "      <td>True</td>\n",
       "      <td>NaN</td>\n",
       "      <td>200000.0</td>\n",
       "      <td>2019-10-03T08:09:11Z</td>\n",
       "      <td>NaN</td>\n",
       "      <td>100</td>\n",
       "      <td>1</td>\n",
       "      <td>NaN</td>\n",
       "    </tr>\n",
       "    <tr>\n",
       "      <th>1</th>\n",
       "      <td>седан</td>\n",
       "      <td>AUDI</td>\n",
       "      <td>красный</td>\n",
       "      <td>бензин</td>\n",
       "      <td>1982.0</td>\n",
       "      <td>1.8 MT (90 л.с.)</td>\n",
       "      <td>4.0</td>\n",
       "      <td>1986.0</td>\n",
       "      <td>SEDAN MECHANICAL 1.8</td>\n",
       "      <td>механическая</td>\n",
       "      <td>1.8</td>\n",
       "      <td>90</td>\n",
       "      <td>Машина в оригинале не гнилая все вопросы по те...</td>\n",
       "      <td>173424.0</td>\n",
       "      <td>{'id': '0'}</td>\n",
       "      <td>передний</td>\n",
       "      <td>Левый</td>\n",
       "      <td>NaN</td>\n",
       "      <td>3 или более</td>\n",
       "      <td>Оригинал</td>\n",
       "      <td>True</td>\n",
       "      <td>NaN</td>\n",
       "      <td>60000.0</td>\n",
       "      <td>2020-09-06T06:49:40Z</td>\n",
       "      <td>NaN</td>\n",
       "      <td>100</td>\n",
       "      <td>1</td>\n",
       "      <td>NaN</td>\n",
       "    </tr>\n",
       "  </tbody>\n",
       "</table>\n",
       "</div>"
      ],
      "text/plain": [
       "  bodyType brand    color fuelType  modelDate                   name  \\\n",
       "0    седан  AUDI   чёрный   бензин     1990.0  2.8 MT (174 л.с.) 4WD   \n",
       "1    седан  AUDI  красный   бензин     1982.0       1.8 MT (90 л.с.)   \n",
       "\n",
       "   numberOfDoors  productionDate  vehicleConfiguration vehicleTransmission  \\\n",
       "0            4.0          1991.0  SEDAN MECHANICAL 2.8        механическая   \n",
       "1            4.0          1986.0  SEDAN MECHANICAL 1.8        механическая   \n",
       "\n",
       "  engineDisplacement enginePower  \\\n",
       "0                2.8         174   \n",
       "1                1.8          90   \n",
       "\n",
       "                                         description   mileage Комплектация  \\\n",
       "0   Машина  в приличном состоянии ,не гнилая не р...  350000.0  {'id': '0'}   \n",
       "1  Машина в оригинале не гнилая все вопросы по те...  173424.0  {'id': '0'}   \n",
       "\n",
       "     Привод   Руль Состояние    Владельцы       ПТС Таможня Владение  \\\n",
       "0    полный  Левый       NaN  3 или более  Оригинал    True      NaN   \n",
       "1  передний  Левый       NaN  3 или более  Оригинал    True      NaN   \n",
       "\n",
       "      price            start_date  hidden model  Train  id  \n",
       "0  200000.0  2019-10-03T08:09:11Z     NaN   100      1 NaN  \n",
       "1   60000.0  2020-09-06T06:49:40Z     NaN   100      1 NaN  "
      ]
     },
     "execution_count": 25,
     "metadata": {},
     "output_type": "execute_result"
    }
   ],
   "source": [
    "# проверка  после слияния\n",
    "df.head(2)"
   ]
  },
  {
   "cell_type": "markdown",
   "metadata": {},
   "source": [
    "### Предварительный анализ данных"
   ]
  },
  {
   "cell_type": "code",
   "execution_count": 26,
   "metadata": {},
   "outputs": [],
   "source": [
    "def describe_cols(df):\n",
    "    list_ = list(df.columns)\n",
    "    temp_dict = {}\n",
    "    temp_dict['Признак'] = list_\n",
    "    temp_dict['Тип'] = df.dtypes\n",
    "    temp_dict['Кол-во значений'] = df.describe(include='all').loc['count']\n",
    "    temp_dict['Кол-во пропусков(NaN)'] = df.isnull().sum().values \n",
    "    temp_dict['Кол-во уникальных'] = df.nunique().values\n",
    "    temp_df = pd.DataFrame.from_dict(temp_dict, orient='index')\n",
    "    display(temp_df.T)\n",
    "\n",
    "    return"
   ]
  },
  {
   "cell_type": "code",
   "execution_count": 27,
   "metadata": {},
   "outputs": [
    {
     "data": {
      "text/html": [
       "<div>\n",
       "<style scoped>\n",
       "    .dataframe tbody tr th:only-of-type {\n",
       "        vertical-align: middle;\n",
       "    }\n",
       "\n",
       "    .dataframe tbody tr th {\n",
       "        vertical-align: top;\n",
       "    }\n",
       "\n",
       "    .dataframe thead th {\n",
       "        text-align: right;\n",
       "    }\n",
       "</style>\n",
       "<table border=\"1\" class=\"dataframe\">\n",
       "  <thead>\n",
       "    <tr style=\"text-align: right;\">\n",
       "      <th></th>\n",
       "      <th>Признак</th>\n",
       "      <th>Тип</th>\n",
       "      <th>Кол-во значений</th>\n",
       "      <th>Кол-во пропусков(NaN)</th>\n",
       "      <th>Кол-во уникальных</th>\n",
       "    </tr>\n",
       "  </thead>\n",
       "  <tbody>\n",
       "    <tr>\n",
       "      <th>0</th>\n",
       "      <td>bodyType</td>\n",
       "      <td>object</td>\n",
       "      <td>89378</td>\n",
       "      <td>0</td>\n",
       "      <td>168</td>\n",
       "    </tr>\n",
       "    <tr>\n",
       "      <th>1</th>\n",
       "      <td>brand</td>\n",
       "      <td>object</td>\n",
       "      <td>89378</td>\n",
       "      <td>0</td>\n",
       "      <td>36</td>\n",
       "    </tr>\n",
       "    <tr>\n",
       "      <th>2</th>\n",
       "      <td>color</td>\n",
       "      <td>object</td>\n",
       "      <td>89378</td>\n",
       "      <td>0</td>\n",
       "      <td>16</td>\n",
       "    </tr>\n",
       "    <tr>\n",
       "      <th>3</th>\n",
       "      <td>fuelType</td>\n",
       "      <td>object</td>\n",
       "      <td>89378</td>\n",
       "      <td>0</td>\n",
       "      <td>6</td>\n",
       "    </tr>\n",
       "    <tr>\n",
       "      <th>4</th>\n",
       "      <td>modelDate</td>\n",
       "      <td>float64</td>\n",
       "      <td>89377</td>\n",
       "      <td>1</td>\n",
       "      <td>78</td>\n",
       "    </tr>\n",
       "    <tr>\n",
       "      <th>5</th>\n",
       "      <td>name</td>\n",
       "      <td>object</td>\n",
       "      <td>89377</td>\n",
       "      <td>1</td>\n",
       "      <td>4484</td>\n",
       "    </tr>\n",
       "    <tr>\n",
       "      <th>6</th>\n",
       "      <td>numberOfDoors</td>\n",
       "      <td>float64</td>\n",
       "      <td>89377</td>\n",
       "      <td>1</td>\n",
       "      <td>5</td>\n",
       "    </tr>\n",
       "    <tr>\n",
       "      <th>7</th>\n",
       "      <td>productionDate</td>\n",
       "      <td>float64</td>\n",
       "      <td>89378</td>\n",
       "      <td>0</td>\n",
       "      <td>80</td>\n",
       "    </tr>\n",
       "    <tr>\n",
       "      <th>8</th>\n",
       "      <td>vehicleConfiguration</td>\n",
       "      <td>object</td>\n",
       "      <td>89377</td>\n",
       "      <td>1</td>\n",
       "      <td>1860</td>\n",
       "    </tr>\n",
       "    <tr>\n",
       "      <th>9</th>\n",
       "      <td>vehicleTransmission</td>\n",
       "      <td>object</td>\n",
       "      <td>89377</td>\n",
       "      <td>1</td>\n",
       "      <td>4</td>\n",
       "    </tr>\n",
       "    <tr>\n",
       "      <th>10</th>\n",
       "      <td>engineDisplacement</td>\n",
       "      <td>object</td>\n",
       "      <td>89377</td>\n",
       "      <td>1</td>\n",
       "      <td>534</td>\n",
       "    </tr>\n",
       "    <tr>\n",
       "      <th>11</th>\n",
       "      <td>enginePower</td>\n",
       "      <td>object</td>\n",
       "      <td>89377</td>\n",
       "      <td>1</td>\n",
       "      <td>396</td>\n",
       "    </tr>\n",
       "    <tr>\n",
       "      <th>12</th>\n",
       "      <td>description</td>\n",
       "      <td>object</td>\n",
       "      <td>86124</td>\n",
       "      <td>3254</td>\n",
       "      <td>77568</td>\n",
       "    </tr>\n",
       "    <tr>\n",
       "      <th>13</th>\n",
       "      <td>mileage</td>\n",
       "      <td>float64</td>\n",
       "      <td>89378</td>\n",
       "      <td>0</td>\n",
       "      <td>17403</td>\n",
       "    </tr>\n",
       "    <tr>\n",
       "      <th>14</th>\n",
       "      <td>Комплектация</td>\n",
       "      <td>object</td>\n",
       "      <td>89378</td>\n",
       "      <td>0</td>\n",
       "      <td>5839</td>\n",
       "    </tr>\n",
       "    <tr>\n",
       "      <th>15</th>\n",
       "      <td>Привод</td>\n",
       "      <td>object</td>\n",
       "      <td>89377</td>\n",
       "      <td>1</td>\n",
       "      <td>3</td>\n",
       "    </tr>\n",
       "    <tr>\n",
       "      <th>16</th>\n",
       "      <td>Руль</td>\n",
       "      <td>object</td>\n",
       "      <td>89378</td>\n",
       "      <td>0</td>\n",
       "      <td>2</td>\n",
       "    </tr>\n",
       "    <tr>\n",
       "      <th>17</th>\n",
       "      <td>Состояние</td>\n",
       "      <td>object</td>\n",
       "      <td>0</td>\n",
       "      <td>89378</td>\n",
       "      <td>0</td>\n",
       "    </tr>\n",
       "    <tr>\n",
       "      <th>18</th>\n",
       "      <td>Владельцы</td>\n",
       "      <td>object</td>\n",
       "      <td>75790</td>\n",
       "      <td>13588</td>\n",
       "      <td>3</td>\n",
       "    </tr>\n",
       "    <tr>\n",
       "      <th>19</th>\n",
       "      <td>ПТС</td>\n",
       "      <td>object</td>\n",
       "      <td>89017</td>\n",
       "      <td>361</td>\n",
       "      <td>2</td>\n",
       "    </tr>\n",
       "    <tr>\n",
       "      <th>20</th>\n",
       "      <td>Таможня</td>\n",
       "      <td>object</td>\n",
       "      <td>89378</td>\n",
       "      <td>0</td>\n",
       "      <td>1</td>\n",
       "    </tr>\n",
       "    <tr>\n",
       "      <th>21</th>\n",
       "      <td>Владение</td>\n",
       "      <td>object</td>\n",
       "      <td>29201</td>\n",
       "      <td>60177</td>\n",
       "      <td>290</td>\n",
       "    </tr>\n",
       "    <tr>\n",
       "      <th>22</th>\n",
       "      <td>price</td>\n",
       "      <td>float64</td>\n",
       "      <td>88968</td>\n",
       "      <td>410</td>\n",
       "      <td>8168</td>\n",
       "    </tr>\n",
       "    <tr>\n",
       "      <th>23</th>\n",
       "      <td>start_date</td>\n",
       "      <td>object</td>\n",
       "      <td>89378</td>\n",
       "      <td>0</td>\n",
       "      <td>75680</td>\n",
       "    </tr>\n",
       "    <tr>\n",
       "      <th>24</th>\n",
       "      <td>hidden</td>\n",
       "      <td>float64</td>\n",
       "      <td>0</td>\n",
       "      <td>89378</td>\n",
       "      <td>0</td>\n",
       "    </tr>\n",
       "    <tr>\n",
       "      <th>25</th>\n",
       "      <td>model</td>\n",
       "      <td>object</td>\n",
       "      <td>89378</td>\n",
       "      <td>0</td>\n",
       "      <td>1086</td>\n",
       "    </tr>\n",
       "    <tr>\n",
       "      <th>26</th>\n",
       "      <td>Train</td>\n",
       "      <td>int64</td>\n",
       "      <td>89378</td>\n",
       "      <td>0</td>\n",
       "      <td>1</td>\n",
       "    </tr>\n",
       "    <tr>\n",
       "      <th>27</th>\n",
       "      <td>id</td>\n",
       "      <td>float64</td>\n",
       "      <td>0</td>\n",
       "      <td>89378</td>\n",
       "      <td>0</td>\n",
       "    </tr>\n",
       "  </tbody>\n",
       "</table>\n",
       "</div>"
      ],
      "text/plain": [
       "                 Признак      Тип Кол-во значений Кол-во пропусков(NaN)  \\\n",
       "0               bodyType   object           89378                     0   \n",
       "1                  brand   object           89378                     0   \n",
       "2                  color   object           89378                     0   \n",
       "3               fuelType   object           89378                     0   \n",
       "4              modelDate  float64           89377                     1   \n",
       "5                   name   object           89377                     1   \n",
       "6          numberOfDoors  float64           89377                     1   \n",
       "7         productionDate  float64           89378                     0   \n",
       "8   vehicleConfiguration   object           89377                     1   \n",
       "9    vehicleTransmission   object           89377                     1   \n",
       "10    engineDisplacement   object           89377                     1   \n",
       "11           enginePower   object           89377                     1   \n",
       "12           description   object           86124                  3254   \n",
       "13               mileage  float64           89378                     0   \n",
       "14          Комплектация   object           89378                     0   \n",
       "15                Привод   object           89377                     1   \n",
       "16                  Руль   object           89378                     0   \n",
       "17             Состояние   object               0                 89378   \n",
       "18             Владельцы   object           75790                 13588   \n",
       "19                   ПТС   object           89017                   361   \n",
       "20               Таможня   object           89378                     0   \n",
       "21              Владение   object           29201                 60177   \n",
       "22                 price  float64           88968                   410   \n",
       "23            start_date   object           89378                     0   \n",
       "24                hidden  float64               0                 89378   \n",
       "25                 model   object           89378                     0   \n",
       "26                 Train    int64           89378                     0   \n",
       "27                    id  float64               0                 89378   \n",
       "\n",
       "   Кол-во уникальных  \n",
       "0                168  \n",
       "1                 36  \n",
       "2                 16  \n",
       "3                  6  \n",
       "4                 78  \n",
       "5               4484  \n",
       "6                  5  \n",
       "7                 80  \n",
       "8               1860  \n",
       "9                  4  \n",
       "10               534  \n",
       "11               396  \n",
       "12             77568  \n",
       "13             17403  \n",
       "14              5839  \n",
       "15                 3  \n",
       "16                 2  \n",
       "17                 0  \n",
       "18                 3  \n",
       "19                 2  \n",
       "20                 1  \n",
       "21               290  \n",
       "22              8168  \n",
       "23             75680  \n",
       "24                 0  \n",
       "25              1086  \n",
       "26                 1  \n",
       "27                 0  "
      ]
     },
     "metadata": {},
     "output_type": "display_data"
    }
   ],
   "source": [
    "describe_cols(df[df['Train']==1])"
   ]
  },
  {
   "cell_type": "code",
   "execution_count": 28,
   "metadata": {
    "scrolled": false
   },
   "outputs": [
    {
     "data": {
      "text/html": [
       "<div>\n",
       "<style scoped>\n",
       "    .dataframe tbody tr th:only-of-type {\n",
       "        vertical-align: middle;\n",
       "    }\n",
       "\n",
       "    .dataframe tbody tr th {\n",
       "        vertical-align: top;\n",
       "    }\n",
       "\n",
       "    .dataframe thead th {\n",
       "        text-align: right;\n",
       "    }\n",
       "</style>\n",
       "<table border=\"1\" class=\"dataframe\">\n",
       "  <thead>\n",
       "    <tr style=\"text-align: right;\">\n",
       "      <th></th>\n",
       "      <th>Признак</th>\n",
       "      <th>Тип</th>\n",
       "      <th>Кол-во значений</th>\n",
       "      <th>Кол-во пропусков(NaN)</th>\n",
       "      <th>Кол-во уникальных</th>\n",
       "    </tr>\n",
       "  </thead>\n",
       "  <tbody>\n",
       "    <tr>\n",
       "      <th>0</th>\n",
       "      <td>bodyType</td>\n",
       "      <td>object</td>\n",
       "      <td>3837</td>\n",
       "      <td>0</td>\n",
       "      <td>11</td>\n",
       "    </tr>\n",
       "    <tr>\n",
       "      <th>1</th>\n",
       "      <td>brand</td>\n",
       "      <td>object</td>\n",
       "      <td>3837</td>\n",
       "      <td>0</td>\n",
       "      <td>1</td>\n",
       "    </tr>\n",
       "    <tr>\n",
       "      <th>2</th>\n",
       "      <td>color</td>\n",
       "      <td>object</td>\n",
       "      <td>3837</td>\n",
       "      <td>0</td>\n",
       "      <td>15</td>\n",
       "    </tr>\n",
       "    <tr>\n",
       "      <th>3</th>\n",
       "      <td>fuelType</td>\n",
       "      <td>object</td>\n",
       "      <td>3837</td>\n",
       "      <td>0</td>\n",
       "      <td>4</td>\n",
       "    </tr>\n",
       "    <tr>\n",
       "      <th>4</th>\n",
       "      <td>modelDate</td>\n",
       "      <td>float64</td>\n",
       "      <td>3837</td>\n",
       "      <td>0</td>\n",
       "      <td>31</td>\n",
       "    </tr>\n",
       "    <tr>\n",
       "      <th>5</th>\n",
       "      <td>name</td>\n",
       "      <td>object</td>\n",
       "      <td>3837</td>\n",
       "      <td>0</td>\n",
       "      <td>384</td>\n",
       "    </tr>\n",
       "    <tr>\n",
       "      <th>6</th>\n",
       "      <td>numberOfDoors</td>\n",
       "      <td>float64</td>\n",
       "      <td>3837</td>\n",
       "      <td>0</td>\n",
       "      <td>4</td>\n",
       "    </tr>\n",
       "    <tr>\n",
       "      <th>7</th>\n",
       "      <td>productionDate</td>\n",
       "      <td>float64</td>\n",
       "      <td>3837</td>\n",
       "      <td>0</td>\n",
       "      <td>37</td>\n",
       "    </tr>\n",
       "    <tr>\n",
       "      <th>8</th>\n",
       "      <td>vehicleConfiguration</td>\n",
       "      <td>object</td>\n",
       "      <td>3837</td>\n",
       "      <td>0</td>\n",
       "      <td>99</td>\n",
       "    </tr>\n",
       "    <tr>\n",
       "      <th>9</th>\n",
       "      <td>vehicleTransmission</td>\n",
       "      <td>object</td>\n",
       "      <td>3837</td>\n",
       "      <td>0</td>\n",
       "      <td>3</td>\n",
       "    </tr>\n",
       "    <tr>\n",
       "      <th>10</th>\n",
       "      <td>engineDisplacement</td>\n",
       "      <td>object</td>\n",
       "      <td>3837</td>\n",
       "      <td>0</td>\n",
       "      <td>22</td>\n",
       "    </tr>\n",
       "    <tr>\n",
       "      <th>11</th>\n",
       "      <td>enginePower</td>\n",
       "      <td>object</td>\n",
       "      <td>3837</td>\n",
       "      <td>0</td>\n",
       "      <td>75</td>\n",
       "    </tr>\n",
       "    <tr>\n",
       "      <th>12</th>\n",
       "      <td>description</td>\n",
       "      <td>object</td>\n",
       "      <td>3837</td>\n",
       "      <td>0</td>\n",
       "      <td>3677</td>\n",
       "    </tr>\n",
       "    <tr>\n",
       "      <th>13</th>\n",
       "      <td>mileage</td>\n",
       "      <td>float64</td>\n",
       "      <td>3837</td>\n",
       "      <td>0</td>\n",
       "      <td>1942</td>\n",
       "    </tr>\n",
       "    <tr>\n",
       "      <th>14</th>\n",
       "      <td>Комплектация</td>\n",
       "      <td>object</td>\n",
       "      <td>3837</td>\n",
       "      <td>0</td>\n",
       "      <td>3295</td>\n",
       "    </tr>\n",
       "    <tr>\n",
       "      <th>15</th>\n",
       "      <td>Привод</td>\n",
       "      <td>object</td>\n",
       "      <td>3837</td>\n",
       "      <td>0</td>\n",
       "      <td>3</td>\n",
       "    </tr>\n",
       "    <tr>\n",
       "      <th>16</th>\n",
       "      <td>Руль</td>\n",
       "      <td>object</td>\n",
       "      <td>3837</td>\n",
       "      <td>0</td>\n",
       "      <td>1</td>\n",
       "    </tr>\n",
       "    <tr>\n",
       "      <th>17</th>\n",
       "      <td>Состояние</td>\n",
       "      <td>object</td>\n",
       "      <td>3837</td>\n",
       "      <td>0</td>\n",
       "      <td>1</td>\n",
       "    </tr>\n",
       "    <tr>\n",
       "      <th>18</th>\n",
       "      <td>Владельцы</td>\n",
       "      <td>object</td>\n",
       "      <td>3837</td>\n",
       "      <td>0</td>\n",
       "      <td>3</td>\n",
       "    </tr>\n",
       "    <tr>\n",
       "      <th>19</th>\n",
       "      <td>ПТС</td>\n",
       "      <td>object</td>\n",
       "      <td>3837</td>\n",
       "      <td>0</td>\n",
       "      <td>2</td>\n",
       "    </tr>\n",
       "    <tr>\n",
       "      <th>20</th>\n",
       "      <td>Таможня</td>\n",
       "      <td>object</td>\n",
       "      <td>3837</td>\n",
       "      <td>0</td>\n",
       "      <td>1</td>\n",
       "    </tr>\n",
       "    <tr>\n",
       "      <th>21</th>\n",
       "      <td>Владение</td>\n",
       "      <td>object</td>\n",
       "      <td>1753</td>\n",
       "      <td>2084</td>\n",
       "      <td>157</td>\n",
       "    </tr>\n",
       "    <tr>\n",
       "      <th>22</th>\n",
       "      <td>price</td>\n",
       "      <td>float64</td>\n",
       "      <td>0</td>\n",
       "      <td>3837</td>\n",
       "      <td>0</td>\n",
       "    </tr>\n",
       "    <tr>\n",
       "      <th>23</th>\n",
       "      <td>start_date</td>\n",
       "      <td>object</td>\n",
       "      <td>0</td>\n",
       "      <td>3837</td>\n",
       "      <td>0</td>\n",
       "    </tr>\n",
       "    <tr>\n",
       "      <th>24</th>\n",
       "      <td>hidden</td>\n",
       "      <td>float64</td>\n",
       "      <td>0</td>\n",
       "      <td>3837</td>\n",
       "      <td>0</td>\n",
       "    </tr>\n",
       "    <tr>\n",
       "      <th>25</th>\n",
       "      <td>model</td>\n",
       "      <td>object</td>\n",
       "      <td>0</td>\n",
       "      <td>3837</td>\n",
       "      <td>0</td>\n",
       "    </tr>\n",
       "    <tr>\n",
       "      <th>26</th>\n",
       "      <td>Train</td>\n",
       "      <td>int64</td>\n",
       "      <td>3837</td>\n",
       "      <td>0</td>\n",
       "      <td>1</td>\n",
       "    </tr>\n",
       "    <tr>\n",
       "      <th>27</th>\n",
       "      <td>id</td>\n",
       "      <td>float64</td>\n",
       "      <td>3837</td>\n",
       "      <td>0</td>\n",
       "      <td>3837</td>\n",
       "    </tr>\n",
       "  </tbody>\n",
       "</table>\n",
       "</div>"
      ],
      "text/plain": [
       "                 Признак      Тип Кол-во значений Кол-во пропусков(NaN)  \\\n",
       "0               bodyType   object            3837                     0   \n",
       "1                  brand   object            3837                     0   \n",
       "2                  color   object            3837                     0   \n",
       "3               fuelType   object            3837                     0   \n",
       "4              modelDate  float64            3837                     0   \n",
       "5                   name   object            3837                     0   \n",
       "6          numberOfDoors  float64            3837                     0   \n",
       "7         productionDate  float64            3837                     0   \n",
       "8   vehicleConfiguration   object            3837                     0   \n",
       "9    vehicleTransmission   object            3837                     0   \n",
       "10    engineDisplacement   object            3837                     0   \n",
       "11           enginePower   object            3837                     0   \n",
       "12           description   object            3837                     0   \n",
       "13               mileage  float64            3837                     0   \n",
       "14          Комплектация   object            3837                     0   \n",
       "15                Привод   object            3837                     0   \n",
       "16                  Руль   object            3837                     0   \n",
       "17             Состояние   object            3837                     0   \n",
       "18             Владельцы   object            3837                     0   \n",
       "19                   ПТС   object            3837                     0   \n",
       "20               Таможня   object            3837                     0   \n",
       "21              Владение   object            1753                  2084   \n",
       "22                 price  float64               0                  3837   \n",
       "23            start_date   object               0                  3837   \n",
       "24                hidden  float64               0                  3837   \n",
       "25                 model   object               0                  3837   \n",
       "26                 Train    int64            3837                     0   \n",
       "27                    id  float64            3837                     0   \n",
       "\n",
       "   Кол-во уникальных  \n",
       "0                 11  \n",
       "1                  1  \n",
       "2                 15  \n",
       "3                  4  \n",
       "4                 31  \n",
       "5                384  \n",
       "6                  4  \n",
       "7                 37  \n",
       "8                 99  \n",
       "9                  3  \n",
       "10                22  \n",
       "11                75  \n",
       "12              3677  \n",
       "13              1942  \n",
       "14              3295  \n",
       "15                 3  \n",
       "16                 1  \n",
       "17                 1  \n",
       "18                 3  \n",
       "19                 2  \n",
       "20                 1  \n",
       "21               157  \n",
       "22                 0  \n",
       "23                 0  \n",
       "24                 0  \n",
       "25                 0  \n",
       "26                 1  \n",
       "27              3837  "
      ]
     },
     "metadata": {},
     "output_type": "display_data"
    }
   ],
   "source": [
    "describe_cols(df[df['Train']==0])"
   ]
  },
  {
   "cell_type": "markdown",
   "metadata": {},
   "source": [
    "### ИТОГ  \n",
    "---\n",
    "В тренировочной выборке 88968 строк, в тестовой 3837. Всего данных - 93215 строк.  \n",
    "Всего 28 признаков, из них:   \n",
    "В тестовом - 23, из них:  \n",
    "4 - числовых - mileage, modelDate, productionDate, id (для генерации submition),  \n",
    "19 - категориальных (возможно часть из них станен числовыми при полном анализе),  \n",
    "\n",
    "4 признака были добавлены от тренировочного:  \n",
    "1- числовой - price, 1 - временной ряд - start_date,  \n",
    "1 - бинарный - hidden, 1 -   категориальный - model  \n",
    "и 1 - бинарный Train - для разделения train и test"
   ]
  },
  {
   "cell_type": "markdown",
   "metadata": {},
   "source": [
    "### Описания полей датасета  \n",
    "\n",
    "- bodyType - тип кузова автомобиля  \n",
    "- brand - марка (бренд) автомобиля  \n",
    "- color - цвет автомобиля  \n",
    "- fuelType - тип топлива \n",
    "- modelDate - дата выпуска модели \n",
    "- name - комбинация нескольких характеристик (модели, объема двигателя и привода)  \n",
    "- numberOfDoors - кол-во дверей  \n",
    "- productionDate - дата производства авто  \n",
    "- vehicleConfiguration - комбинация типа трансмиссии, объема двигателя и мощности двигателя  \n",
    "- vehicleTransmission - тип трансмиссии (коробки передач) \n",
    "- engineDisplacement - объем двигателя в литрах  \n",
    "- enginePower - мощность двигателя (л.с.)  \n",
    "- description - дополнительные характеристики по комплектации авто  \n",
    "- mileage - пробег автомобиля (км.) \n",
    "- Комплектация - дополнительные характеристики по комплектации авто  \n",
    "- Привод - характеристика привода автомобиля, которое передает энергию от двигателя на колеса.  \n",
    "- Руль - характеристика руля по стороне расположения руля в автомобиле  \n",
    "- Состояние - характеристика необходимости проведения ремонта  \n",
    "- Владельцы - кол-во владельцев (3 значения: 1 владелец, 2 владельца, 3 и более)  \n",
    "- ПТС - тип ПТС (паспорт технического средства)  \n",
    "- Таможня - информация о том расстаможен автомобиль или нет (2 значения - Растаможен, Не ратаможен)   \n",
    "- Владение - срок владения автомобилем в годах и месяцах  \n",
    "- price - цена указанная в объявлении на авто.ру  \n",
    "- start_date - дата размещения объявления на авто.ру  \n",
    "- hidden - характеристика объявления на авто.ру  \n",
    "- model - название модели автомобиля   \n",
    "- Train - сервисный для разделения train и test   \n",
    "- id - - сервисный для генерации submition  "
   ]
  },
  {
   "cell_type": "code",
   "execution_count": 29,
   "metadata": {
    "scrolled": false
   },
   "outputs": [
    {
     "data": {
      "text/plain": [
       "<matplotlib.axes._subplots.AxesSubplot at 0x20fca9ae588>"
      ]
     },
     "execution_count": 29,
     "metadata": {},
     "output_type": "execute_result"
    },
    {
     "data": {
      "image/png": "[encoded data removed]",
      "text/plain": [
       "<Figure size 432x288 with 2 Axes>"
      ]
     },
     "metadata": {
      "needs_background": "light"
     },
     "output_type": "display_data"
    }
   ],
   "source": [
    "cols = df.columns \n",
    "# желтый - пропущенные данные, синий - не пропущенные\n",
    "colours = ['#000099', '#ffff00'] \n",
    "sns.heatmap(df[cols].isnull(), cmap=sns.color_palette(colours))"
   ]
  },
  {
   "cell_type": "markdown",
   "metadata": {},
   "source": [
    "#### Детальная информация по пропускам датасета раздельно:  \n",
    "----\n",
    "В тренировочном датасете признаки:  \n",
    "modelDate name, object, numberOfDoors, vehicleConfiguration,  \n",
    "vehicleTransmission, engineDisplacement, enginePower, Привод  \n",
    "имеют 1 пропуск (можно удалить, влияние 1 значение на такой выборки не имеет).  \n",
    "В description 3254 (>3%) пропуска, попробуем заполнить.   \n",
    "(много но не критично можно попробовать удалить и посмотреть разницу).  \n",
    "Состояние - 89378 (100.0%) -  важный признак, нужно постараться заполнить аналогичным  \n",
    "по критериям авто требующих ремонта - так как этот признак одназначно влияет на цену.  \n",
    "Владельцы - 13588 (>15%) , попробуем заполнить.  \n",
    "Владение - 60177 (>67%) - тоже важный признак, но очень много пропусков, надо попробовать заполнить  \n",
    "hidden - 89378 (100.0%) => надо удалить.  \n",
    "id - 89378 (100.0%) - это столбец для генерации файла submition(ничего не делаем)\n",
    " \n",
    "В тестовом датасете признаки:  \n",
    "Владение - 2084 (>54%) - надо попробовать заполнить  \n",
    "(но пропусках много в обоих датасетах, пока что кажется разумным удалить этот признак).  \n",
    "price 3837 (100.0%)- целевая переменная(ничего не делаем).  \n",
    "start_date, hidden, model - 3837 (100.0%) - созданые тренировочным датасетом,  \n",
    "надо проанализировать или использовать для создания новых признаков, или удалить."
   ]
  },
  {
   "cell_type": "markdown",
   "metadata": {},
   "source": [
    "Предварительно оценим скоррелированность числовых признаков"
   ]
  },
  {
   "cell_type": "code",
   "execution_count": 30,
   "metadata": {
    "scrolled": true
   },
   "outputs": [
    {
     "data": {
      "text/plain": [
       "<matplotlib.axes._subplots.AxesSubplot at 0x20fbfe85908>"
      ]
     },
     "execution_count": 30,
     "metadata": {},
     "output_type": "execute_result"
    },
    {
     "data": {
      "image/png": "[encoded data removed]",
      "text/plain": [
       "<Figure size 720x360 with 2 Axes>"
      ]
     },
     "metadata": {
      "needs_background": "light"
     },
     "output_type": "display_data"
    }
   ],
   "source": [
    "plt.figure(figsize=(10,5))\n",
    "sns.heatmap(df[['modelDate','numberOfDoors','productionDate','mileage', 'price']].corr().abs(), vmin=0, vmax=1, annot=True)"
   ]
  },
  {
   "cell_type": "markdown",
   "metadata": {},
   "source": [
    "Между productionDate и modelDate  слишком выская корреляция, есть смысл удалить productionDate и оставить только modelDate,    \n",
    "пока оставляем посмотрим на общую корреляцию после изменения типов переменных."
   ]
  },
  {
   "cell_type": "markdown",
   "metadata": {},
   "source": [
    "признак Таможня бесполезен так как содержит одно значение - Растаможен удаляем \n",
    "brand - только одно значение - \"BMW\"   \n",
    "Руль - только одно значение - \"Левый\" надо взять из трейна только авто с Левым рулем!   \n",
    "Состояние - только одно значение - \"Не требует ремонта\" после заолнение этого признака в тренировочном датасете надо взять из трейна только авто не требующие ремонта(посмотрим на выбросы по ценам)"
   ]
  },
  {
   "cell_type": "markdown",
   "metadata": {},
   "source": [
    "#### Внесем данные по типам переменных в списки "
   ]
  },
  {
   "cell_type": "code",
   "execution_count": 31,
   "metadata": {
    "scrolled": false
   },
   "outputs": [
    {
     "name": "stdout",
     "output_type": "stream",
     "text": [
      "Кол-во столбцов, для дальнейшей работы после предварительного анализа:= 26\n"
     ]
    }
   ],
   "source": [
    "# временной ряд (1)\n",
    "time_cols = ['start_date']\n",
    "# бинарная переменная ()\n",
    "bin_cols = []\n",
    "# категориальные переменные(19)\n",
    "cat_cols = ['bodyType', 'brand', 'color', 'fuelType', 'name',\n",
    "       'numberOfDoors', 'vehicleConfiguration',\n",
    "       'vehicleTransmission', 'engineDisplacement', 'enginePower',\n",
    "       'description', 'Комплектация', 'Привод', 'Руль', 'Состояние',\n",
    "       'Владельцы', 'ПТС', 'Владение', 'model']\n",
    "# числовые переменные (3) \n",
    "num_cols = ['mileage', 'modelDate', 'productionDate']\n",
    "# сервисные переменные (2)\n",
    "servis_cols = ['Train', 'id']\n",
    "# целевая переменная (1)\n",
    "target_col = ['price']\n",
    "all_cols =cat_cols+num_cols+time_cols+servis_cols+bin_cols+ target_col\n",
    "print(f'Кол-во столбцов, для дальнейшей работы после предварительного анализа:= {len(all_cols)}')"
   ]
  },
  {
   "cell_type": "markdown",
   "metadata": {},
   "source": [
    "#### Реализуем выводы перед детальным анализом по переменным"
   ]
  },
  {
   "cell_type": "code",
   "execution_count": 32,
   "metadata": {
    "scrolled": true
   },
   "outputs": [
    {
     "name": "stdout",
     "output_type": "stream",
     "text": [
      "Кол-во строк в трейне:  85481\n"
     ]
    }
   ],
   "source": [
    "#Сохраним купию датасета на всякий случай\n",
    "df_copy = df.copy()\n",
    "#Оставим только машины с левы рулем в состоянии Не требует ремонта\n",
    "df = df.loc[df['Руль'] == 'Левый', all_cols]\n",
    "# исключаем Руль из списка признаков для анализа итого остается 25 признаков из которых 2 сервисных (нужно проанализировать 23=25-2)\n",
    "cat_cols.remove('Руль')\n",
    "\n",
    "# удаляем дубликаты\n",
    "df = df.drop_duplicates()\n",
    "old_len_train = len(df[df['Train']==1])\n",
    "print('Кол-во строк в трейне: ', old_len_train)"
   ]
  },
  {
   "cell_type": "markdown",
   "metadata": {},
   "source": [
    "### Детальный анализ по переменным\n",
    "---"
   ]
  },
  {
   "cell_type": "markdown",
   "metadata": {},
   "source": [
    "Поскольку признаков много создадим список в который будем записывать проанализированные параметры"
   ]
  },
  {
   "cell_type": "code",
   "execution_count": 33,
   "metadata": {},
   "outputs": [],
   "source": [
    "EDA_cols=[]"
   ]
  },
  {
   "cell_type": "markdown",
   "metadata": {},
   "source": [
    "#### 1. bodyType\n",
    "#### Тип кузова автомобиля"
   ]
  },
  {
   "cell_type": "code",
   "execution_count": 34,
   "metadata": {},
   "outputs": [
    {
     "name": "stdout",
     "output_type": "stream",
     "text": [
      "Всего в тесте типов кузова: 11\n",
      "Всего в трейне типов кузова: 144\n"
     ]
    }
   ],
   "source": [
    "df_Train = df[df['Train']==1]\n",
    "df_Test = df[df['Train']==0]\n",
    "print(f'Всего в тесте типов кузова: {df_Test.bodyType.nunique()}')\n",
    "print(f'Всего в трейне типов кузова: {df_Train.bodyType.nunique()}')"
   ]
  },
  {
   "cell_type": "code",
   "execution_count": 35,
   "metadata": {},
   "outputs": [
    {
     "name": "stdout",
     "output_type": "stream",
     "text": [
      "Список 11 типов кузова из теста: \n",
      "['седан' 'внедорожник 5 дв.' 'хэтчбек 3 дв.' 'хэтчбек 5 дв.' 'купе'\n",
      " 'родстер' 'лифтбек' 'универсал 5 дв.' 'кабриолет' 'седан 2 дв.'\n",
      " 'компактвэн']\n",
      "Список первых 20 из 144 типов кузова из трейна: \n",
      " ['седан' 'универсал 5 дв.' 'хэтчбек 5 дв. sportback' 'хэтчбек 3 дв.'\n",
      " 'хэтчбек 5 дв.' 'кабриолет' 'купе' 'лифтбек sportback' 'лифтбек'\n",
      " 'седан long' 'внедорожник 5 дв.' 'кабриолет roadster' 'седан 2 дв.'\n",
      " 'седан gran coupe' 'компактвэн' 'компактвэн gran tourer'\n",
      " 'лифтбек gran turismo' 'хэтчбек 3 дв. compact' 'лифтбек gran coupe'\n",
      " 'купе-хардтоп']\n"
     ]
    }
   ],
   "source": [
    "# посмотрим на них \n",
    "print(f'Список 11 типов кузова из теста: \\n{df_Test.bodyType.unique()}')\n",
    "print(f'Список первых 20 из 144 типов кузова из трейна: \\n {df_Train.bodyType.unique()[:20]}')"
   ]
  },
  {
   "cell_type": "code",
   "execution_count": 36,
   "metadata": {},
   "outputs": [],
   "source": [
    "# оставляем только типы кузова как в тесте\n",
    "list_bodyType_test = list(df_Test.bodyType.unique())\n",
    "df = df[df['bodyType'].isin(list_bodyType_test)]"
   ]
  },
  {
   "cell_type": "code",
   "execution_count": 37,
   "metadata": {},
   "outputs": [
    {
     "name": "stdout",
     "output_type": "stream",
     "text": [
      "Кол-во строк в трейне: 79193\n"
     ]
    }
   ],
   "source": [
    "df_Train = df[df['Train']==1]\n",
    "print(f'Кол-во строк в трейне: {len(df_Train)}')"
   ]
  },
  {
   "cell_type": "code",
   "execution_count": 38,
   "metadata": {
    "scrolled": false
   },
   "outputs": [
    {
     "data": {
      "text/plain": [
       "внедорожник 5 дв.    32183\n",
       "седан                31103\n",
       "хэтчбек 5 дв.         8535\n",
       "универсал 5 дв.       3218\n",
       "лифтбек               3131\n",
       "компактвэн            1728\n",
       "купе                  1420\n",
       "хэтчбек 3 дв.         1373\n",
       "кабриолет              173\n",
       "родстер                157\n",
       "седан 2 дв.              9\n",
       "Name: bodyType, dtype: int64"
      ]
     },
     "execution_count": 38,
     "metadata": {},
     "output_type": "execute_result"
    }
   ],
   "source": [
    "df['bodyType'].value_counts()"
   ]
  },
  {
   "cell_type": "markdown",
   "metadata": {},
   "source": [
    "#### bodyType \n",
    "Тип кузова\n",
    "Категориальный признак, оставили только типы кузова из тестового сета(79193), пропусков нет."
   ]
  },
  {
   "cell_type": "code",
   "execution_count": 39,
   "metadata": {},
   "outputs": [],
   "source": [
    "EDA_cols.append('bodyType')"
   ]
  },
  {
   "cell_type": "code",
   "execution_count": 40,
   "metadata": {},
   "outputs": [
    {
     "data": {
      "text/html": [
       "<div>\n",
       "<style scoped>\n",
       "    .dataframe tbody tr th:only-of-type {\n",
       "        vertical-align: middle;\n",
       "    }\n",
       "\n",
       "    .dataframe tbody tr th {\n",
       "        vertical-align: top;\n",
       "    }\n",
       "\n",
       "    .dataframe thead th {\n",
       "        text-align: right;\n",
       "    }\n",
       "</style>\n",
       "<table border=\"1\" class=\"dataframe\">\n",
       "  <thead>\n",
       "    <tr style=\"text-align: right;\">\n",
       "      <th></th>\n",
       "      <th>bodyType</th>\n",
       "      <th>brand</th>\n",
       "      <th>color</th>\n",
       "      <th>fuelType</th>\n",
       "      <th>name</th>\n",
       "      <th>numberOfDoors</th>\n",
       "      <th>vehicleConfiguration</th>\n",
       "      <th>vehicleTransmission</th>\n",
       "      <th>engineDisplacement</th>\n",
       "      <th>enginePower</th>\n",
       "      <th>description</th>\n",
       "      <th>Комплектация</th>\n",
       "      <th>Привод</th>\n",
       "      <th>Руль</th>\n",
       "      <th>Состояние</th>\n",
       "      <th>Владельцы</th>\n",
       "      <th>ПТС</th>\n",
       "      <th>Владение</th>\n",
       "      <th>model</th>\n",
       "      <th>mileage</th>\n",
       "      <th>modelDate</th>\n",
       "      <th>productionDate</th>\n",
       "      <th>start_date</th>\n",
       "      <th>Train</th>\n",
       "      <th>id</th>\n",
       "      <th>price</th>\n",
       "    </tr>\n",
       "  </thead>\n",
       "  <tbody>\n",
       "    <tr>\n",
       "      <th>0</th>\n",
       "      <td>седан</td>\n",
       "      <td>AUDI</td>\n",
       "      <td>чёрный</td>\n",
       "      <td>бензин</td>\n",
       "      <td>2.8 MT (174 л.с.) 4WD</td>\n",
       "      <td>4.0</td>\n",
       "      <td>SEDAN MECHANICAL 2.8</td>\n",
       "      <td>механическая</td>\n",
       "      <td>2.8</td>\n",
       "      <td>174</td>\n",
       "      <td>Машина  в приличном состоянии ,не гнилая не р...</td>\n",
       "      <td>{'id': '0'}</td>\n",
       "      <td>полный</td>\n",
       "      <td>Левый</td>\n",
       "      <td>NaN</td>\n",
       "      <td>3 или более</td>\n",
       "      <td>Оригинал</td>\n",
       "      <td>NaN</td>\n",
       "      <td>100</td>\n",
       "      <td>350000.0</td>\n",
       "      <td>1990.0</td>\n",
       "      <td>1991.0</td>\n",
       "      <td>2019-10-03T08:09:11Z</td>\n",
       "      <td>1</td>\n",
       "      <td>NaN</td>\n",
       "      <td>200000.0</td>\n",
       "    </tr>\n",
       "    <tr>\n",
       "      <th>1</th>\n",
       "      <td>седан</td>\n",
       "      <td>AUDI</td>\n",
       "      <td>красный</td>\n",
       "      <td>бензин</td>\n",
       "      <td>1.8 MT (90 л.с.)</td>\n",
       "      <td>4.0</td>\n",
       "      <td>SEDAN MECHANICAL 1.8</td>\n",
       "      <td>механическая</td>\n",
       "      <td>1.8</td>\n",
       "      <td>90</td>\n",
       "      <td>Машина в оригинале не гнилая все вопросы по те...</td>\n",
       "      <td>{'id': '0'}</td>\n",
       "      <td>передний</td>\n",
       "      <td>Левый</td>\n",
       "      <td>NaN</td>\n",
       "      <td>3 или более</td>\n",
       "      <td>Оригинал</td>\n",
       "      <td>NaN</td>\n",
       "      <td>100</td>\n",
       "      <td>173424.0</td>\n",
       "      <td>1982.0</td>\n",
       "      <td>1986.0</td>\n",
       "      <td>2020-09-06T06:49:40Z</td>\n",
       "      <td>1</td>\n",
       "      <td>NaN</td>\n",
       "      <td>60000.0</td>\n",
       "    </tr>\n",
       "  </tbody>\n",
       "</table>\n",
       "</div>"
      ],
      "text/plain": [
       "  bodyType brand    color fuelType                   name  numberOfDoors  \\\n",
       "0    седан  AUDI   чёрный   бензин  2.8 MT (174 л.с.) 4WD            4.0   \n",
       "1    седан  AUDI  красный   бензин       1.8 MT (90 л.с.)            4.0   \n",
       "\n",
       "   vehicleConfiguration vehicleTransmission engineDisplacement enginePower  \\\n",
       "0  SEDAN MECHANICAL 2.8        механическая                2.8         174   \n",
       "1  SEDAN MECHANICAL 1.8        механическая                1.8          90   \n",
       "\n",
       "                                         description Комплектация    Привод  \\\n",
       "0   Машина  в приличном состоянии ,не гнилая не р...  {'id': '0'}    полный   \n",
       "1  Машина в оригинале не гнилая все вопросы по те...  {'id': '0'}  передний   \n",
       "\n",
       "    Руль Состояние    Владельцы       ПТС Владение model   mileage  modelDate  \\\n",
       "0  Левый       NaN  3 или более  Оригинал      NaN   100  350000.0     1990.0   \n",
       "1  Левый       NaN  3 или более  Оригинал      NaN   100  173424.0     1982.0   \n",
       "\n",
       "   productionDate            start_date  Train  id     price  \n",
       "0          1991.0  2019-10-03T08:09:11Z      1 NaN  200000.0  \n",
       "1          1986.0  2020-09-06T06:49:40Z      1 NaN   60000.0  "
      ]
     },
     "execution_count": 40,
     "metadata": {},
     "output_type": "execute_result"
    }
   ],
   "source": [
    "df.head(2)"
   ]
  },
  {
   "cell_type": "markdown",
   "metadata": {},
   "source": [
    "#### 2. brand\n",
    "#### Марка (бренд) автомобиля"
   ]
  },
  {
   "cell_type": "code",
   "execution_count": 41,
   "metadata": {
    "scrolled": false
   },
   "outputs": [
    {
     "name": "stdout",
     "output_type": "stream",
     "text": [
      "Всего в датасета марок: 36\n",
      "Марки: \n",
      " BMW           10346\n",
      "MERCEDES       6537\n",
      "VOLKSWAGEN     6093\n",
      "KIA            5320\n",
      "HYUNDAI        5209\n",
      "NISSAN         5157\n",
      "FORD           4498\n",
      "TOYOTA         3697\n",
      "AUDI           3531\n",
      "CHEVROLET      3511\n",
      "MITSUBISHI     3265\n",
      "OPEL           2768\n",
      "SKODA          2712\n",
      "RENAULT        2478\n",
      "MAZDA          2158\n",
      "VOLVO          2038\n",
      "PEUGEOT        1577\n",
      "LAND_ROVER     1530\n",
      "INFINITI       1024\n",
      "DAEWOO         1007\n",
      "Name: brand, dtype: int64\n"
     ]
    }
   ],
   "source": [
    "print(f'Всего в датасета марок: {df.brand.nunique()}')\n",
    "print(f'Марки: \\n {df.brand.value_counts()[:20]}')"
   ]
  },
  {
   "cell_type": "code",
   "execution_count": 42,
   "metadata": {
    "scrolled": true
   },
   "outputs": [
    {
     "name": "stdout",
     "output_type": "stream",
     "text": [
      "Кол-во строк в трейне:=  79193\n"
     ]
    }
   ],
   "source": [
    "old_len_train1 = len(df[df['Train']==1])\n",
    "print('Кол-во строк в трейне:= ', old_len_train1)"
   ]
  },
  {
   "cell_type": "markdown",
   "metadata": {},
   "source": [
    "#### brand\n",
    "Категориальный признак, все марки машин пока, что оставляем как есть, пропусков нет"
   ]
  },
  {
   "cell_type": "code",
   "execution_count": 43,
   "metadata": {},
   "outputs": [],
   "source": [
    "EDA_cols.append('brand')"
   ]
  },
  {
   "cell_type": "markdown",
   "metadata": {},
   "source": [
    "#### 3. color\n",
    "#### Цвет автомобиля"
   ]
  },
  {
   "cell_type": "code",
   "execution_count": 44,
   "metadata": {
    "scrolled": true
   },
   "outputs": [
    {
     "data": {
      "text/plain": [
       "чёрный         23470\n",
       "белый          14532\n",
       "серебристый    10301\n",
       "серый          10122\n",
       "синий           8451\n",
       "красный         4214\n",
       "коричневый      3514\n",
       "зелёный         2293\n",
       "бежевый         1743\n",
       "голубой         1310\n",
       "золотистый       736\n",
       "пурпурный        679\n",
       "жёлтый           602\n",
       "фиолетовый       548\n",
       "оранжевый        497\n",
       "розовый           18\n",
       "Name: color, dtype: int64"
      ]
     },
     "execution_count": 44,
     "metadata": {},
     "output_type": "execute_result"
    }
   ],
   "source": [
    "df['color'].value_counts()"
   ]
  },
  {
   "cell_type": "code",
   "execution_count": 45,
   "metadata": {},
   "outputs": [
    {
     "data": {
      "text/plain": [
       "color\n",
       "коричневый     970000.0\n",
       "белый          870000.0\n",
       "оранжевый      810000.0\n",
       "чёрный         780000.0\n",
       "серый          620000.0\n",
       "синий          498000.0\n",
       "бежевый        490000.0\n",
       "фиолетовый     430000.0\n",
       "серебристый    430000.0\n",
       "жёлтый         405000.0\n",
       "красный        400000.0\n",
       "голубой        385000.0\n",
       "розовый        367500.0\n",
       "пурпурный      365000.0\n",
       "золотистый     360000.0\n",
       "зелёный        270000.0\n",
       "Name: price, dtype: float64"
      ]
     },
     "execution_count": 45,
     "metadata": {},
     "output_type": "execute_result"
    }
   ],
   "source": [
    "df[df['Train']==1].groupby(['color'])['price'].median().sort_values(ascending=False)\n",
    "#max()"
   ]
  },
  {
   "cell_type": "markdown",
   "metadata": {},
   "source": [
    "#### color\n",
    "категориальный признак, 16 значений, пропусков нет"
   ]
  },
  {
   "cell_type": "code",
   "execution_count": 46,
   "metadata": {},
   "outputs": [],
   "source": [
    "EDA_cols.append('color')"
   ]
  },
  {
   "cell_type": "markdown",
   "metadata": {},
   "source": [
    "#### 4. fuelType\n",
    "#### Тип топлива(5 видов топлива: бензин, дизель, электро, гибрид, газ)"
   ]
  },
  {
   "cell_type": "code",
   "execution_count": 47,
   "metadata": {},
   "outputs": [
    {
     "name": "stdout",
     "output_type": "stream",
     "text": [
      "Список зачений по fuelType в трейне:= ['бензин', 'дизель', 'электро', 'гибрид', 'газ']\n",
      "Список зачений по fuelType в тесте:= ['дизель', 'бензин', 'гибрид', 'электро']\n"
     ]
    }
   ],
   "source": [
    "df_Train = df[df['Train']==1]\n",
    "df_Test = df[df['Train']==0]\n",
    "print(f'Список зачений по fuelType в трейне:= {list(df_Train.fuelType.unique())}')\n",
    "print(f'Список зачений по fuelType в тесте:= {list(df_Test.fuelType.unique())}')\n",
    "#В этой переменной было 5 уникальных значений в трейне и 4 в тесте"
   ]
  },
  {
   "cell_type": "code",
   "execution_count": 48,
   "metadata": {
    "scrolled": true
   },
   "outputs": [
    {
     "name": "stdout",
     "output_type": "stream",
     "text": [
      "Распределение по типам топлива в трейне: \n",
      "бензин     68277\n",
      "дизель     10647\n",
      "гибрид       185\n",
      "электро       74\n",
      "газ           10\n",
      "Name: fuelType, dtype: int64\n",
      "Распределение по типам топлива в тесте: \n",
      "бензин     2471\n",
      "дизель     1358\n",
      "гибрид        7\n",
      "электро       1\n",
      "Name: fuelType, dtype: int64\n"
     ]
    }
   ],
   "source": [
    "print(f'Распределение по типам топлива в трейне: \\n{df_Train.fuelType.value_counts()}')\n",
    "print(f'Распределение по типам топлива в тесте: \\n{df_Test.fuelType.value_counts()}')"
   ]
  },
  {
   "cell_type": "code",
   "execution_count": 49,
   "metadata": {},
   "outputs": [],
   "source": [
    "# уберем газ так как автомобилей на газе нет в тесте\n",
    "list_fuelType_test = df_Test.fuelType.unique()\n",
    "df = df[df['fuelType'].isin(list_fuelType_test)]"
   ]
  },
  {
   "cell_type": "code",
   "execution_count": 50,
   "metadata": {
    "scrolled": true
   },
   "outputs": [
    {
     "name": "stdout",
     "output_type": "stream",
     "text": [
      "Кол-во строк в трейне: 79183\n"
     ]
    }
   ],
   "source": [
    "df_Train = df[df['Train']==1]\n",
    "print(f'Кол-во строк в трейне: {len(df_Train)}')"
   ]
  },
  {
   "cell_type": "markdown",
   "metadata": {},
   "source": [
    "#### fuelType\n",
    "Категориальный признак. 4 значения ('газ' удалили)(79183). Возможно есть смысл преоборазовать даный признак в числовой или dummy переменную. Пропуски отсутствуют."
   ]
  },
  {
   "cell_type": "code",
   "execution_count": 51,
   "metadata": {},
   "outputs": [],
   "source": [
    "EDA_cols.append('fuelType')\n",
    "#df_fuel_dummies = pd.get_dummies(df['fuelType'], dummy_na=False).astype('float64')\n",
    "#df = pd.concat([df,df_fuel_dummies], axis=1)\n",
    "#df.drop(['fuelType'], inplace=True, axis=1)\n",
    "#Или\n",
    "label_encoder = LabelEncoder()\n",
    "df['fuelType'] = label_encoder.fit_transform(df['fuelType'])\n",
    "df['fuelType']= df['fuelType'].astype('int64')\n",
    "cat_cols.remove('fuelType')\n",
    "num_cols.append('fuelType')"
   ]
  },
  {
   "cell_type": "markdown",
   "metadata": {},
   "source": [
    "#### 5. modelDate - дата выпуска модели\n",
    "#### 6. productionDate - дата производства авто"
   ]
  },
  {
   "cell_type": "markdown",
   "metadata": {},
   "source": [
    "Рассмотрим сразу эти оба признака так, как было уже сказано что у них очень сильная корреляция.  \n",
    "У признака modelDate был 1 пропуск но предыдущие преобразования датасета удалили его"
   ]
  },
  {
   "cell_type": "code",
   "execution_count": 52,
   "metadata": {
    "scrolled": false
   },
   "outputs": [
    {
     "name": "stdout",
     "output_type": "stream",
     "text": [
      "Количество пропусков - 0\n"
     ]
    }
   ],
   "source": [
    "print(f'Количество пропусков - {df[\"modelDate\"].isnull().sum()}')"
   ]
  },
  {
   "cell_type": "code",
   "execution_count": 53,
   "metadata": {
    "scrolled": true
   },
   "outputs": [
    {
     "name": "stdout",
     "output_type": "stream",
     "text": [
      "Кол-во строк в трейне:=  79183\n"
     ]
    }
   ],
   "source": [
    "len_train = len(df[df['Train']==1])\n",
    "print('Кол-во строк в трейне:= ', len_train)"
   ]
  },
  {
   "cell_type": "code",
   "execution_count": 54,
   "metadata": {},
   "outputs": [],
   "source": [
    "EDA_cols.append('modelDate')\n",
    "EDA_cols.append('productionDate')"
   ]
  },
  {
   "cell_type": "markdown",
   "metadata": {},
   "source": [
    "### Итог: \n",
    "\n",
    "Пока, что оставляем оба признака, после всез преобразований сравним у кого сильнее корреляция с другими чиловыми признаками"
   ]
  },
  {
   "cell_type": "markdown",
   "metadata": {},
   "source": [
    "### 7. name  \n",
    "#### комбинация нескольких характеристик (модели, объема и мощности двигателя и привода)"
   ]
  },
  {
   "cell_type": "markdown",
   "metadata": {},
   "source": [
    "в данной переменной содержатся данные нескольких характеристик, в том числе для отсутствующие в тестовом датасете модель.\n",
    "Также не все значения в engineDisplacement имееют численное значение , поэтому их можно будет взять из этой переменной\n",
    "Привеод из данной переменной не нужен"
   ]
  },
  {
   "cell_type": "code",
   "execution_count": 55,
   "metadata": {
    "scrolled": false
   },
   "outputs": [
    {
     "data": {
      "text/html": [
       "<div>\n",
       "<style scoped>\n",
       "    .dataframe tbody tr th:only-of-type {\n",
       "        vertical-align: middle;\n",
       "    }\n",
       "\n",
       "    .dataframe tbody tr th {\n",
       "        vertical-align: top;\n",
       "    }\n",
       "\n",
       "    .dataframe thead th {\n",
       "        text-align: right;\n",
       "    }\n",
       "</style>\n",
       "<table border=\"1\" class=\"dataframe\">\n",
       "  <thead>\n",
       "    <tr style=\"text-align: right;\">\n",
       "      <th></th>\n",
       "      <th>name</th>\n",
       "      <th>model</th>\n",
       "      <th>engineDisplacement</th>\n",
       "      <th>Привод</th>\n",
       "      <th>enginePower</th>\n",
       "    </tr>\n",
       "  </thead>\n",
       "  <tbody>\n",
       "    <tr>\n",
       "      <th>0</th>\n",
       "      <td>2.8 MT (174 л.с.) 4WD</td>\n",
       "      <td>100</td>\n",
       "      <td>2.8</td>\n",
       "      <td>полный</td>\n",
       "      <td>174</td>\n",
       "    </tr>\n",
       "    <tr>\n",
       "      <th>1</th>\n",
       "      <td>1.8 MT (90 л.с.)</td>\n",
       "      <td>100</td>\n",
       "      <td>1.8</td>\n",
       "      <td>передний</td>\n",
       "      <td>90</td>\n",
       "    </tr>\n",
       "    <tr>\n",
       "      <th>2</th>\n",
       "      <td>2.3 MT (136 л.с.) 4WD</td>\n",
       "      <td>100</td>\n",
       "      <td>2.3</td>\n",
       "      <td>полный</td>\n",
       "      <td>136</td>\n",
       "    </tr>\n",
       "    <tr>\n",
       "      <th>3</th>\n",
       "      <td>1.8 MT (90 л.с.)</td>\n",
       "      <td>100</td>\n",
       "      <td>1.8</td>\n",
       "      <td>передний</td>\n",
       "      <td>90</td>\n",
       "    </tr>\n",
       "    <tr>\n",
       "      <th>4</th>\n",
       "      <td>2.0 MT (101 л.с.)</td>\n",
       "      <td>100</td>\n",
       "      <td>2.0</td>\n",
       "      <td>передний</td>\n",
       "      <td>101</td>\n",
       "    </tr>\n",
       "    <tr>\n",
       "      <th>...</th>\n",
       "      <td>...</td>\n",
       "      <td>...</td>\n",
       "      <td>...</td>\n",
       "      <td>...</td>\n",
       "      <td>...</td>\n",
       "    </tr>\n",
       "    <tr>\n",
       "      <th>93210</th>\n",
       "      <td>520i 2.0 AT (184 л.с.)</td>\n",
       "      <td>NaN</td>\n",
       "      <td>2.0 LTR</td>\n",
       "      <td>задний</td>\n",
       "      <td>184 N12</td>\n",
       "    </tr>\n",
       "    <tr>\n",
       "      <th>93211</th>\n",
       "      <td>30d 3.0d AT (249 л.с.) 4WD</td>\n",
       "      <td>NaN</td>\n",
       "      <td>3.0 LTR</td>\n",
       "      <td>полный</td>\n",
       "      <td>249 N12</td>\n",
       "    </tr>\n",
       "    <tr>\n",
       "      <th>93212</th>\n",
       "      <td>525xi 2.5 AT (218 л.с.) 4WD</td>\n",
       "      <td>NaN</td>\n",
       "      <td>2.5 LTR</td>\n",
       "      <td>полный</td>\n",
       "      <td>218 N12</td>\n",
       "    </tr>\n",
       "    <tr>\n",
       "      <th>93213</th>\n",
       "      <td>528i xDrive 2.0 AT (245 л.с.) 4WD</td>\n",
       "      <td>NaN</td>\n",
       "      <td>2.0 LTR</td>\n",
       "      <td>полный</td>\n",
       "      <td>245 N12</td>\n",
       "    </tr>\n",
       "    <tr>\n",
       "      <th>93214</th>\n",
       "      <td>50i 4.4 AT (407 л.с.) 4WD</td>\n",
       "      <td>NaN</td>\n",
       "      <td>4.4 LTR</td>\n",
       "      <td>полный</td>\n",
       "      <td>407 N12</td>\n",
       "    </tr>\n",
       "  </tbody>\n",
       "</table>\n",
       "<p>83020 rows × 5 columns</p>\n",
       "</div>"
      ],
      "text/plain": [
       "                                    name model engineDisplacement    Привод  \\\n",
       "0                  2.8 MT (174 л.с.) 4WD   100                2.8    полный   \n",
       "1                       1.8 MT (90 л.с.)   100                1.8  передний   \n",
       "2                  2.3 MT (136 л.с.) 4WD   100                2.3    полный   \n",
       "3                       1.8 MT (90 л.с.)   100                1.8  передний   \n",
       "4                      2.0 MT (101 л.с.)   100                2.0  передний   \n",
       "...                                  ...   ...                ...       ...   \n",
       "93210             520i 2.0 AT (184 л.с.)   NaN            2.0 LTR    задний   \n",
       "93211         30d 3.0d AT (249 л.с.) 4WD   NaN            3.0 LTR    полный   \n",
       "93212        525xi 2.5 AT (218 л.с.) 4WD   NaN            2.5 LTR    полный   \n",
       "93213  528i xDrive 2.0 AT (245 л.с.) 4WD   NaN            2.0 LTR    полный   \n",
       "93214          50i 4.4 AT (407 л.с.) 4WD   NaN            4.4 LTR    полный   \n",
       "\n",
       "      enginePower  \n",
       "0             174  \n",
       "1              90  \n",
       "2             136  \n",
       "3              90  \n",
       "4             101  \n",
       "...           ...  \n",
       "93210     184 N12  \n",
       "93211     249 N12  \n",
       "93212     218 N12  \n",
       "93213     245 N12  \n",
       "93214     407 N12  \n",
       "\n",
       "[83020 rows x 5 columns]"
      ]
     },
     "execution_count": 55,
     "metadata": {},
     "output_type": "execute_result"
    }
   ],
   "source": [
    "df[['name','model','engineDisplacement','Привод','enginePower']]"
   ]
  },
  {
   "cell_type": "code",
   "execution_count": 56,
   "metadata": {
    "scrolled": true
   },
   "outputs": [
    {
     "data": {
      "text/plain": [
       "1.6         16527\n",
       "2.0         12267\n",
       "1.4          5475\n",
       "1.8          4861\n",
       "2.4          2914\n",
       "            ...  \n",
       "3.0hyb          1\n",
       "130i            1\n",
       "Prime           1\n",
       "Soft            1\n",
       "4-Seater        1\n",
       "Name: engineDisplacement, Length: 417, dtype: int64"
      ]
     },
     "execution_count": 56,
     "metadata": {},
     "output_type": "execute_result"
    }
   ],
   "source": [
    "df['engineDisplacement'].value_counts()"
   ]
  },
  {
   "cell_type": "markdown",
   "metadata": {},
   "source": [
    "#### 7.1 engineDisplacement "
   ]
  },
  {
   "cell_type": "code",
   "execution_count": 57,
   "metadata": {},
   "outputs": [],
   "source": [
    "def engine_from_name(row):\n",
    "    row = str(row)\n",
    "    volume = re.findall('\\d\\.\\d', row)\n",
    "    if volume == []:\n",
    "        return None\n",
    "    return int(float(volume[0]))\n",
    "# поле engineDisplacement заполненно не полностью именно мощностью, в отличии от поля name\n",
    "# поэтому вытаскиваем мощность из поля name\n",
    "df['engineDisplacement2'] = df['name'].apply(engine_from_name)"
   ]
  },
  {
   "cell_type": "code",
   "execution_count": 58,
   "metadata": {},
   "outputs": [
    {
     "data": {
      "text/plain": [
       "73"
      ]
     },
     "execution_count": 58,
     "metadata": {},
     "output_type": "execute_result"
    }
   ],
   "source": [
    "df['engineDisplacement2'].isnull().sum()"
   ]
  },
  {
   "cell_type": "code",
   "execution_count": 59,
   "metadata": {
    "scrolled": true
   },
   "outputs": [
    {
     "data": {
      "text/plain": [
       "2851     3\n",
       "2852     3\n",
       "2853     3\n",
       "2854     3\n",
       "2855     3\n",
       "        ..\n",
       "59955    3\n",
       "59956    3\n",
       "70064    3\n",
       "80891    3\n",
       "90201    3\n",
       "Name: fuelType, Length: 73, dtype: int64"
      ]
     },
     "execution_count": 59,
     "metadata": {},
     "output_type": "execute_result"
    }
   ],
   "source": [
    "df[df['engineDisplacement2'].isna()].fuelType"
   ]
  },
  {
   "cell_type": "markdown",
   "metadata": {},
   "source": [
    "Попробуем заполнить пропуски аналогичными объемами двигателей автомобилей, со схожими параметрами\n"
   ]
  },
  {
   "cell_type": "code",
   "execution_count": 60,
   "metadata": {},
   "outputs": [],
   "source": [
    "df_Train = df[df['Train']==1]\n",
    "temp_df = df_Train[df_Train['engineDisplacement2'].isna() & (df_Train['brand']=='BMW')]"
   ]
  },
  {
   "cell_type": "code",
   "execution_count": 61,
   "metadata": {},
   "outputs": [
    {
     "name": "stdout",
     "output_type": "stream",
     "text": [
      "[('хэтчбек 5 дв.', 7), ('BMW', 7), ('белый', 2), (3, 7), ('Electro AT (126 кВт)', 5), (5.0, 7), ('HATCHBACK_5_DOORS AUTOMATIC Electro', 5), ('автоматическая', 7), ('Electro', 5), (170.0, 7), (\"{'id': '0'}\", 6), ('задний', 7), ('Левый', 7), (nan, 1), ('1 владелец', 7), ('Оригинал', 7), (nan, 3), ('I3', 7), (89942.0, 1), (2013.0, 5), (2017.0, 3), ('2020-08-17T08:51:48Z', 1), (1, 7), (nan, 1), (1430000.0, 1), (nan, 1)]\n"
     ]
    }
   ],
   "source": [
    "def most_common(df):\n",
    "    list_param = []\n",
    "    list_ = list(df.columns)\n",
    "    for col in list_:\n",
    "        if col=='description':\n",
    "            pass\n",
    "        else:\n",
    "            c = collections.Counter(df[col])\n",
    "            list_param.append(c.most_common()[0])\n",
    "    print(list_param)\n",
    "most_common(temp_df)"
   ]
  },
  {
   "cell_type": "markdown",
   "metadata": {},
   "source": [
    "Возьмем тип автомобиля, мощность двигателя +- 10%, а также чтоб автомобиль был не электрокаром БМВ"
   ]
  },
  {
   "cell_type": "code",
   "execution_count": 62,
   "metadata": {
    "scrolled": false
   },
   "outputs": [
    {
     "name": "stdout",
     "output_type": "stream",
     "text": [
      "(34, 27)\n"
     ]
    },
    {
     "name": "stderr",
     "output_type": "stream",
     "text": [
      "C:\\Programs\\anaconda\\lib\\site-packages\\pandas\\core\\ops\\array_ops.py:253: FutureWarning: elementwise comparison failed; returning scalar instead, but in the future will perform elementwise comparison\n",
      "  res_values = method(rvalues)\n"
     ]
    },
    {
     "data": {
      "text/plain": [
       "1"
      ]
     },
     "execution_count": 62,
     "metadata": {},
     "output_type": "execute_result"
    }
   ],
   "source": [
    "df_Train = df[df['Train']==1]\n",
    "temp_df = df_Train[(df_Train['bodyType'] == list_bodyType_test[3]) &\n",
    "                    (df_Train['brand'] == 'BMW') & (df_Train['fuelType'] != 'электро') &\n",
    "                    (df_Train['enginePower'] >= 170-17) &\n",
    "                    (df_Train['enginePower'] <= 170+17) ]\n",
    "print(temp_df.shape)\n",
    "round(temp_df.engineDisplacement2.mean(),)"
   ]
  },
  {
   "cell_type": "code",
   "execution_count": 63,
   "metadata": {
    "scrolled": true
   },
   "outputs": [
    {
     "name": "stdout",
     "output_type": "stream",
     "text": [
      " Количество пропусков: 0\n"
     ]
    }
   ],
   "source": [
    "df['engineDisplacement2'] = df['engineDisplacement2'].fillna(1.0)\n",
    "print(f\" Количество пропусков: {df['engineDisplacement2'].isnull().sum()}\")"
   ]
  },
  {
   "cell_type": "code",
   "execution_count": 64,
   "metadata": {
    "scrolled": true
   },
   "outputs": [
    {
     "name": "stdout",
     "output_type": "stream",
     "text": [
      "25-й перцентиль: 1.0, 75-й перцентиль: 2.0, IQR: 1.0,  Границы выбросов: [-0.5, 3.5].\n",
      "Кол-во выбросов = 4387, Процент выбросов среди тренировочного датасета 5.54\n"
     ]
    },
    {
     "data": {
      "image/png": "[encoded data removed]",
      "text/plain": [
       "<Figure size 432x288 with 1 Axes>"
      ]
     },
     "metadata": {
      "needs_background": "light"
     },
     "output_type": "display_data"
    }
   ],
   "source": [
    "IQRhist('engineDisplacement2')"
   ]
  },
  {
   "cell_type": "code",
   "execution_count": 65,
   "metadata": {
    "scrolled": true
   },
   "outputs": [
    {
     "data": {
      "text/html": [
       "<div>\n",
       "<style scoped>\n",
       "    .dataframe tbody tr th:only-of-type {\n",
       "        vertical-align: middle;\n",
       "    }\n",
       "\n",
       "    .dataframe tbody tr th {\n",
       "        vertical-align: top;\n",
       "    }\n",
       "\n",
       "    .dataframe thead th {\n",
       "        text-align: right;\n",
       "    }\n",
       "</style>\n",
       "<table border=\"1\" class=\"dataframe\">\n",
       "  <thead>\n",
       "    <tr style=\"text-align: right;\">\n",
       "      <th></th>\n",
       "      <th>bodyType</th>\n",
       "      <th>brand</th>\n",
       "      <th>color</th>\n",
       "      <th>fuelType</th>\n",
       "      <th>name</th>\n",
       "      <th>numberOfDoors</th>\n",
       "      <th>vehicleConfiguration</th>\n",
       "      <th>vehicleTransmission</th>\n",
       "      <th>engineDisplacement</th>\n",
       "      <th>enginePower</th>\n",
       "      <th>description</th>\n",
       "      <th>Комплектация</th>\n",
       "      <th>Привод</th>\n",
       "      <th>Руль</th>\n",
       "      <th>Состояние</th>\n",
       "      <th>Владельцы</th>\n",
       "      <th>ПТС</th>\n",
       "      <th>Владение</th>\n",
       "      <th>model</th>\n",
       "      <th>mileage</th>\n",
       "      <th>modelDate</th>\n",
       "      <th>productionDate</th>\n",
       "      <th>start_date</th>\n",
       "      <th>Train</th>\n",
       "      <th>id</th>\n",
       "      <th>price</th>\n",
       "      <th>engineDisplacement2</th>\n",
       "    </tr>\n",
       "  </thead>\n",
       "  <tbody>\n",
       "    <tr>\n",
       "      <th>11532</th>\n",
       "      <td>кабриолет</td>\n",
       "      <td>CADILLAC</td>\n",
       "      <td>белый</td>\n",
       "      <td>0</td>\n",
       "      <td>8.2 AT (218 л.с.)</td>\n",
       "      <td>2.0</td>\n",
       "      <td>CABRIO AUTOMATIC 8.2</td>\n",
       "      <td>автоматическая</td>\n",
       "      <td>8.2</td>\n",
       "      <td>218</td>\n",
       "      <td>После реставрация. \\nНа учёте. Полностью честн...</td>\n",
       "      <td>{'id': '0'}</td>\n",
       "      <td>передний</td>\n",
       "      <td>Левый</td>\n",
       "      <td>NaN</td>\n",
       "      <td>2 владельца</td>\n",
       "      <td>Оригинал</td>\n",
       "      <td>NaN</td>\n",
       "      <td>ELDORADO</td>\n",
       "      <td>25000.0</td>\n",
       "      <td>1971.0</td>\n",
       "      <td>1974.0</td>\n",
       "      <td>2020-07-15T21:21:02Z</td>\n",
       "      <td>1</td>\n",
       "      <td>NaN</td>\n",
       "      <td>2600000.0</td>\n",
       "      <td>8.0</td>\n",
       "    </tr>\n",
       "    <tr>\n",
       "      <th>11683</th>\n",
       "      <td>седан</td>\n",
       "      <td>CADILLAC</td>\n",
       "      <td>белый</td>\n",
       "      <td>0</td>\n",
       "      <td>7.0 AT (313 л.с.)</td>\n",
       "      <td>4.0</td>\n",
       "      <td>SEDAN AUTOMATIC 7.0</td>\n",
       "      <td>автоматическая</td>\n",
       "      <td>7.0</td>\n",
       "      <td>313</td>\n",
       "      <td>Кадиллак флитвуд 1961 года! (КЦ! Бумаги есть о...</td>\n",
       "      <td>{'id': '0'}</td>\n",
       "      <td>задний</td>\n",
       "      <td>Левый</td>\n",
       "      <td>NaN</td>\n",
       "      <td>3 или более</td>\n",
       "      <td>Оригинал</td>\n",
       "      <td>NaN</td>\n",
       "      <td>FLEETWOOD</td>\n",
       "      <td>70000.0</td>\n",
       "      <td>1956.0</td>\n",
       "      <td>1961.0</td>\n",
       "      <td>2020-01-09T23:12:05Z</td>\n",
       "      <td>1</td>\n",
       "      <td>NaN</td>\n",
       "      <td>1650000.0</td>\n",
       "      <td>7.0</td>\n",
       "    </tr>\n",
       "  </tbody>\n",
       "</table>\n",
       "</div>"
      ],
      "text/plain": [
       "        bodyType     brand  color  fuelType               name  numberOfDoors  \\\n",
       "11532  кабриолет  CADILLAC  белый         0  8.2 AT (218 л.с.)            2.0   \n",
       "11683      седан  CADILLAC  белый         0  7.0 AT (313 л.с.)            4.0   \n",
       "\n",
       "       vehicleConfiguration vehicleTransmission engineDisplacement  \\\n",
       "11532  CABRIO AUTOMATIC 8.2      автоматическая                8.2   \n",
       "11683   SEDAN AUTOMATIC 7.0      автоматическая                7.0   \n",
       "\n",
       "      enginePower                                        description  \\\n",
       "11532         218  После реставрация. \\nНа учёте. Полностью честн...   \n",
       "11683         313  Кадиллак флитвуд 1961 года! (КЦ! Бумаги есть о...   \n",
       "\n",
       "      Комплектация    Привод   Руль Состояние    Владельцы       ПТС Владение  \\\n",
       "11532  {'id': '0'}  передний  Левый       NaN  2 владельца  Оригинал      NaN   \n",
       "11683  {'id': '0'}    задний  Левый       NaN  3 или более  Оригинал      NaN   \n",
       "\n",
       "           model  mileage  modelDate  productionDate            start_date  \\\n",
       "11532   ELDORADO  25000.0     1971.0          1974.0  2020-07-15T21:21:02Z   \n",
       "11683  FLEETWOOD  70000.0     1956.0          1961.0  2020-01-09T23:12:05Z   \n",
       "\n",
       "       Train  id      price  engineDisplacement2  \n",
       "11532      1 NaN  2600000.0                  8.0  \n",
       "11683      1 NaN  1650000.0                  7.0  "
      ]
     },
     "execution_count": 65,
     "metadata": {},
     "output_type": "execute_result"
    }
   ],
   "source": [
    "df[df['engineDisplacement2']>=7][:2]"
   ]
  },
  {
   "cell_type": "code",
   "execution_count": 66,
   "metadata": {},
   "outputs": [],
   "source": [
    "#удалим выбросы где объем двигателя больше 7\n",
    "df = df[df['engineDisplacement2']<7]"
   ]
  },
  {
   "cell_type": "code",
   "execution_count": 67,
   "metadata": {},
   "outputs": [
    {
     "data": {
      "text/plain": [
       "(83013, 27)"
      ]
     },
     "execution_count": 67,
     "metadata": {},
     "output_type": "execute_result"
    }
   ],
   "source": [
    "df.shape"
   ]
  },
  {
   "cell_type": "code",
   "execution_count": 68,
   "metadata": {},
   "outputs": [],
   "source": [
    "# переводим в float64\n",
    "df['engineDisplacement2'] = df['engineDisplacement2'].astype('float64')"
   ]
  },
  {
   "cell_type": "markdown",
   "metadata": {},
   "source": [
    "#### Итог engineDisplacement  \n",
    "Создали новый признак engineDisplacement2, который показывает те же показтели,  \n",
    "но все они имеют численные значения, избавились от пропусков путем подобора аналогичных значений из датасета.\n",
    "Посмотрели на выбросы, отобрали 7 машин, которые могут повлиять на обучение, пока что оставляем, посмотрим как скажется на метрике"
   ]
  },
  {
   "cell_type": "code",
   "execution_count": 69,
   "metadata": {},
   "outputs": [
    {
     "name": "stdout",
     "output_type": "stream",
     "text": [
      "Кол-во строк в трейне:  79176\n"
     ]
    }
   ],
   "source": [
    "num_cols.append('engineDisplacement2')\n",
    "cat_cols.remove('engineDisplacement')\n",
    "EDA_cols.append('engineDisplacement2')\n",
    "len_train = len(df[df['Train']==1])\n",
    "print('Кол-во строк в трейне: ', len_train)"
   ]
  },
  {
   "cell_type": "markdown",
   "metadata": {},
   "source": [
    "#### 7.2 Model -  название модели автомобиля"
   ]
  },
  {
   "cell_type": "markdown",
   "metadata": {},
   "source": [
    "Заполним название моделей из столбца name"
   ]
  },
  {
   "cell_type": "code",
   "execution_count": 70,
   "metadata": {
    "scrolled": true
   },
   "outputs": [
    {
     "data": {
      "text/plain": [
       "0"
      ]
     },
     "execution_count": 70,
     "metadata": {},
     "output_type": "execute_result"
    }
   ],
   "source": [
    "df_Test = df[df['Train']==0]\n",
    "df_fill = df_Test['name'].str.split(r'\\d\\.\\d',expand=True)[0]\n",
    "df['model'] = df['model'].fillna(df_fill)\n",
    "df['model'].isna().sum()"
   ]
  },
  {
   "cell_type": "code",
   "execution_count": 71,
   "metadata": {},
   "outputs": [
    {
     "name": "stdout",
     "output_type": "stream",
     "text": [
      "Кол-во строк в трейне:  79176\n"
     ]
    }
   ],
   "source": [
    "EDA_cols.append('Model')\n",
    "len_train = len(df[df['Train']==1])\n",
    "print('Кол-во строк в трейне: ', len_train)"
   ]
  },
  {
   "cell_type": "markdown",
   "metadata": {},
   "source": [
    "#### Model  \n",
    "Признак категориальный, пропусков больше нет"
   ]
  },
  {
   "cell_type": "code",
   "execution_count": 72,
   "metadata": {},
   "outputs": [
    {
     "name": "stdout",
     "output_type": "stream",
     "text": [
      "Кол-во строк в трейне:  79176\n"
     ]
    }
   ],
   "source": [
    "EDA_cols.append('model')\n",
    "len_train = len(df[df['Train']==1])\n",
    "print('Кол-во строк в трейне: ', len_train)"
   ]
  },
  {
   "cell_type": "markdown",
   "metadata": {},
   "source": [
    "#### 7.3 enginePower - мощность двигателя (л.с.)\n",
    "по результатам предварительного анализа эта переменная была отнесена к категориальнымu"
   ]
  },
  {
   "cell_type": "code",
   "execution_count": 73,
   "metadata": {},
   "outputs": [
    {
     "data": {
      "text/html": [
       "<div>\n",
       "<style scoped>\n",
       "    .dataframe tbody tr th:only-of-type {\n",
       "        vertical-align: middle;\n",
       "    }\n",
       "\n",
       "    .dataframe tbody tr th {\n",
       "        vertical-align: top;\n",
       "    }\n",
       "\n",
       "    .dataframe thead th {\n",
       "        text-align: right;\n",
       "    }\n",
       "</style>\n",
       "<table border=\"1\" class=\"dataframe\">\n",
       "  <thead>\n",
       "    <tr style=\"text-align: right;\">\n",
       "      <th></th>\n",
       "      <th>bodyType</th>\n",
       "      <th>brand</th>\n",
       "      <th>color</th>\n",
       "      <th>fuelType</th>\n",
       "      <th>name</th>\n",
       "      <th>numberOfDoors</th>\n",
       "      <th>vehicleConfiguration</th>\n",
       "      <th>vehicleTransmission</th>\n",
       "      <th>engineDisplacement</th>\n",
       "      <th>enginePower</th>\n",
       "      <th>description</th>\n",
       "      <th>Комплектация</th>\n",
       "      <th>Привод</th>\n",
       "      <th>Руль</th>\n",
       "      <th>Состояние</th>\n",
       "      <th>Владельцы</th>\n",
       "      <th>ПТС</th>\n",
       "      <th>Владение</th>\n",
       "      <th>model</th>\n",
       "      <th>mileage</th>\n",
       "      <th>modelDate</th>\n",
       "      <th>productionDate</th>\n",
       "      <th>start_date</th>\n",
       "      <th>Train</th>\n",
       "      <th>id</th>\n",
       "      <th>price</th>\n",
       "      <th>engineDisplacement2</th>\n",
       "    </tr>\n",
       "  </thead>\n",
       "  <tbody>\n",
       "    <tr>\n",
       "      <th>0</th>\n",
       "      <td>седан</td>\n",
       "      <td>AUDI</td>\n",
       "      <td>чёрный</td>\n",
       "      <td>0</td>\n",
       "      <td>2.8 MT (174 л.с.) 4WD</td>\n",
       "      <td>4.0</td>\n",
       "      <td>SEDAN MECHANICAL 2.8</td>\n",
       "      <td>механическая</td>\n",
       "      <td>2.8</td>\n",
       "      <td>174</td>\n",
       "      <td>Машина  в приличном состоянии ,не гнилая не р...</td>\n",
       "      <td>{'id': '0'}</td>\n",
       "      <td>полный</td>\n",
       "      <td>Левый</td>\n",
       "      <td>NaN</td>\n",
       "      <td>3 или более</td>\n",
       "      <td>Оригинал</td>\n",
       "      <td>NaN</td>\n",
       "      <td>100</td>\n",
       "      <td>350000.0</td>\n",
       "      <td>1990.0</td>\n",
       "      <td>1991.0</td>\n",
       "      <td>2019-10-03T08:09:11Z</td>\n",
       "      <td>1</td>\n",
       "      <td>NaN</td>\n",
       "      <td>200000.0</td>\n",
       "      <td>2.0</td>\n",
       "    </tr>\n",
       "  </tbody>\n",
       "</table>\n",
       "</div>"
      ],
      "text/plain": [
       "  bodyType brand   color  fuelType                   name  numberOfDoors  \\\n",
       "0    седан  AUDI  чёрный         0  2.8 MT (174 л.с.) 4WD            4.0   \n",
       "\n",
       "   vehicleConfiguration vehicleTransmission engineDisplacement enginePower  \\\n",
       "0  SEDAN MECHANICAL 2.8        механическая                2.8         174   \n",
       "\n",
       "                                         description Комплектация  Привод  \\\n",
       "0   Машина  в приличном состоянии ,не гнилая не р...  {'id': '0'}  полный   \n",
       "\n",
       "    Руль Состояние    Владельцы       ПТС Владение model   mileage  modelDate  \\\n",
       "0  Левый       NaN  3 или более  Оригинал      NaN   100  350000.0     1990.0   \n",
       "\n",
       "   productionDate            start_date  Train  id     price  \\\n",
       "0          1991.0  2019-10-03T08:09:11Z      1 NaN  200000.0   \n",
       "\n",
       "   engineDisplacement2  \n",
       "0                  2.0  "
      ]
     },
     "execution_count": 73,
     "metadata": {},
     "output_type": "execute_result"
    }
   ],
   "source": [
    "df.head(1)"
   ]
  },
  {
   "cell_type": "code",
   "execution_count": 74,
   "metadata": {
    "scrolled": true
   },
   "outputs": [
    {
     "data": {
      "text/plain": [
       "array(['190 N12', '150 N12', '407 N12', '249 N12', '381 N12', '245 N12',\n",
       "       '177 N12', '184 N12', '115 N12', '231 N12', '156 N12', '306 N12',\n",
       "       '218 N12', '136 N12', '235 N12', '286 N12', '122 N12', '265 N12',\n",
       "       '258 N12', '340 N12', '355 N12', '170 N12', '333 N12', '192 N12',\n",
       "       '610 N12', '264 N12', '555 N12', '313 N12', '272 N12', '450 N12',\n",
       "       '445 N12', '400 N12', '320 N12', '530 N12', '204 N12', '269 N12',\n",
       "       '560 N12', '143 N12', '431 N12', '575 N12', '193 N12', '140 N12',\n",
       "       '420 N12', '163 N12', '105 N12', '326 N12', '625 N12', '300 N12',\n",
       "       '329 N12', '367 N12', '460 N12', '197 N12', '360 N12', '113 N12',\n",
       "       '100 N12', '370 N12', '374 N12', '462 N12', '188 N12', '544 N12',\n",
       "       '129 N12', '102 N12', '600 N12', '118 N12', '125 N12', '507 N12',\n",
       "       '609 N12', '252 N12', '410 N12', '347 N12', '449 N12', '243 N12',\n",
       "       '230 N12', '211 N12', '90 N12'], dtype=object)"
      ]
     },
     "execution_count": 74,
     "metadata": {},
     "output_type": "execute_result"
    }
   ],
   "source": [
    "df_Train = df[df['Train']==1]\n",
    "df_Test = df[df['Train']==0]\n",
    "# проверим все значения тестового сета по мощности \n",
    "df_Test.enginePower.unique()"
   ]
  },
  {
   "cell_type": "code",
   "execution_count": 75,
   "metadata": {},
   "outputs": [],
   "source": [
    "# в тесте вытащим значение мощности перед строкой ' N12'\n",
    "df.loc[df['Train']==0, 'enginePower'] = df[df['Train']==0]['enginePower'].apply(lambda x: int(x.split()[0]))"
   ]
  },
  {
   "cell_type": "code",
   "execution_count": 76,
   "metadata": {},
   "outputs": [],
   "source": [
    "# переводим в int64\n",
    "df['enginePower'] = df['enginePower'].astype('int64')\n",
    "\n",
    "# перенесем признак в числовые\n",
    "cat_cols.remove('enginePower')\n",
    "num_cols.append('enginePower')"
   ]
  },
  {
   "cell_type": "code",
   "execution_count": 77,
   "metadata": {
    "scrolled": true
   },
   "outputs": [
    {
     "name": "stdout",
     "output_type": "stream",
     "text": [
      "25-й перцентиль: 115.0, 75-й перцентиль: 197.0, IQR: 82.0,  Границы выбросов: [-8.0, 320.0].\n",
      "Кол-во выбросов = 4407, Процент выбросов среди тренировочного датасета 5.57\n"
     ]
    },
    {
     "data": {
      "image/png": "[encoded data removed]",
      "text/plain": [
       "<Figure size 432x288 with 1 Axes>"
      ]
     },
     "metadata": {
      "needs_background": "light"
     },
     "output_type": "display_data"
    }
   ],
   "source": [
    "IQRhist('enginePower')"
   ]
  },
  {
   "cell_type": "code",
   "execution_count": 78,
   "metadata": {},
   "outputs": [
    {
     "data": {
      "text/html": [
       "<div>\n",
       "<style scoped>\n",
       "    .dataframe tbody tr th:only-of-type {\n",
       "        vertical-align: middle;\n",
       "    }\n",
       "\n",
       "    .dataframe tbody tr th {\n",
       "        vertical-align: top;\n",
       "    }\n",
       "\n",
       "    .dataframe thead th {\n",
       "        text-align: right;\n",
       "    }\n",
       "</style>\n",
       "<table border=\"1\" class=\"dataframe\">\n",
       "  <thead>\n",
       "    <tr style=\"text-align: right;\">\n",
       "      <th></th>\n",
       "      <th>bodyType</th>\n",
       "      <th>brand</th>\n",
       "      <th>color</th>\n",
       "      <th>fuelType</th>\n",
       "      <th>name</th>\n",
       "      <th>numberOfDoors</th>\n",
       "      <th>vehicleConfiguration</th>\n",
       "      <th>vehicleTransmission</th>\n",
       "      <th>engineDisplacement</th>\n",
       "      <th>enginePower</th>\n",
       "      <th>description</th>\n",
       "      <th>Комплектация</th>\n",
       "      <th>Привод</th>\n",
       "      <th>Руль</th>\n",
       "      <th>Состояние</th>\n",
       "      <th>Владельцы</th>\n",
       "      <th>ПТС</th>\n",
       "      <th>Владение</th>\n",
       "      <th>model</th>\n",
       "      <th>mileage</th>\n",
       "      <th>modelDate</th>\n",
       "      <th>productionDate</th>\n",
       "      <th>start_date</th>\n",
       "      <th>Train</th>\n",
       "      <th>id</th>\n",
       "      <th>price</th>\n",
       "      <th>engineDisplacement2</th>\n",
       "    </tr>\n",
       "  </thead>\n",
       "  <tbody>\n",
       "    <tr>\n",
       "      <th>1516</th>\n",
       "      <td>седан</td>\n",
       "      <td>AUDI</td>\n",
       "      <td>белый</td>\n",
       "      <td>0</td>\n",
       "      <td>55 TFSI 3.0 AMT (340 л.с.) 4WD</td>\n",
       "      <td>4.0</td>\n",
       "      <td>SEDAN ROBOT 55</td>\n",
       "      <td>роботизированная</td>\n",
       "      <td>55</td>\n",
       "      <td>340</td>\n",
       "      <td>Внимание! Только для клиентов AVILON Автомобил...</td>\n",
       "      <td>{'id': '21410426', 'name': 'Design 55 TFSI qua...</td>\n",
       "      <td>полный</td>\n",
       "      <td>Левый</td>\n",
       "      <td>NaN</td>\n",
       "      <td>1 владелец</td>\n",
       "      <td>Оригинал</td>\n",
       "      <td>NaN</td>\n",
       "      <td>A6</td>\n",
       "      <td>19794.0</td>\n",
       "      <td>2018.0</td>\n",
       "      <td>2018.0</td>\n",
       "      <td>2020-09-04T13:08:45Z</td>\n",
       "      <td>1</td>\n",
       "      <td>NaN</td>\n",
       "      <td>4310000.0</td>\n",
       "      <td>3.0</td>\n",
       "    </tr>\n",
       "    <tr>\n",
       "      <th>1520</th>\n",
       "      <td>седан</td>\n",
       "      <td>AUDI</td>\n",
       "      <td>чёрный</td>\n",
       "      <td>0</td>\n",
       "      <td>55 TFSI 3.0 AMT (340 л.с.) 4WD</td>\n",
       "      <td>4.0</td>\n",
       "      <td>SEDAN ROBOT 55</td>\n",
       "      <td>роботизированная</td>\n",
       "      <td>55</td>\n",
       "      <td>340</td>\n",
       "      <td>Внимание! Только для клиентов AVILON Автомобил...</td>\n",
       "      <td>{'id': '21410475', 'name': 'Sport 55 TFSI quat...</td>\n",
       "      <td>полный</td>\n",
       "      <td>Левый</td>\n",
       "      <td>NaN</td>\n",
       "      <td>1 владелец</td>\n",
       "      <td>Оригинал</td>\n",
       "      <td>NaN</td>\n",
       "      <td>A6</td>\n",
       "      <td>17267.0</td>\n",
       "      <td>2018.0</td>\n",
       "      <td>2018.0</td>\n",
       "      <td>2020-07-16T12:29:00Z</td>\n",
       "      <td>1</td>\n",
       "      <td>NaN</td>\n",
       "      <td>3890000.0</td>\n",
       "      <td>3.0</td>\n",
       "    </tr>\n",
       "  </tbody>\n",
       "</table>\n",
       "</div>"
      ],
      "text/plain": [
       "     bodyType brand   color  fuelType                            name  \\\n",
       "1516    седан  AUDI   белый         0  55 TFSI 3.0 AMT (340 л.с.) 4WD   \n",
       "1520    седан  AUDI  чёрный         0  55 TFSI 3.0 AMT (340 л.с.) 4WD   \n",
       "\n",
       "      numberOfDoors vehicleConfiguration vehicleTransmission  \\\n",
       "1516            4.0       SEDAN ROBOT 55    роботизированная   \n",
       "1520            4.0       SEDAN ROBOT 55    роботизированная   \n",
       "\n",
       "     engineDisplacement  enginePower  \\\n",
       "1516                 55          340   \n",
       "1520                 55          340   \n",
       "\n",
       "                                            description  \\\n",
       "1516  Внимание! Только для клиентов AVILON Автомобил...   \n",
       "1520  Внимание! Только для клиентов AVILON Автомобил...   \n",
       "\n",
       "                                           Комплектация  Привод   Руль  \\\n",
       "1516  {'id': '21410426', 'name': 'Design 55 TFSI qua...  полный  Левый   \n",
       "1520  {'id': '21410475', 'name': 'Sport 55 TFSI quat...  полный  Левый   \n",
       "\n",
       "     Состояние   Владельцы       ПТС Владение model  mileage  modelDate  \\\n",
       "1516       NaN  1 владелец  Оригинал      NaN    A6  19794.0     2018.0   \n",
       "1520       NaN  1 владелец  Оригинал      NaN    A6  17267.0     2018.0   \n",
       "\n",
       "      productionDate            start_date  Train  id      price  \\\n",
       "1516          2018.0  2020-09-04T13:08:45Z      1 NaN  4310000.0   \n",
       "1520          2018.0  2020-07-16T12:29:00Z      1 NaN  3890000.0   \n",
       "\n",
       "      engineDisplacement2  \n",
       "1516                  3.0  \n",
       "1520                  3.0  "
      ]
     },
     "execution_count": 78,
     "metadata": {},
     "output_type": "execute_result"
    }
   ],
   "source": [
    "df[df['enginePower']>320][:2]"
   ]
  },
  {
   "cell_type": "code",
   "execution_count": 79,
   "metadata": {},
   "outputs": [],
   "source": [
    "#удалим выбросы где мощность двигателя больше 320\n",
    "df = df[df['enginePower']<320]"
   ]
  },
  {
   "cell_type": "markdown",
   "metadata": {},
   "source": [
    "#### Итог enginePower\n",
    "Исправли признак, теперь он имеет только численные значения.  \n",
    "Посмотрели на выбросы, отобрали 5.7% машин, которые могут повлиять на обучение,  \n",
    "пока что оставляем, посмотрим как скажется на метрике"
   ]
  },
  {
   "cell_type": "code",
   "execution_count": 80,
   "metadata": {},
   "outputs": [
    {
     "name": "stdout",
     "output_type": "stream",
     "text": [
      "Кол-во строк в трейне:  74675\n"
     ]
    }
   ],
   "source": [
    "EDA_cols.append('enginePower')\n",
    "len_train = len(df[df['Train']==1])\n",
    "print('Кол-во строк в трейне: ', len_train)"
   ]
  },
  {
   "cell_type": "markdown",
   "metadata": {},
   "source": [
    "### Name \n",
    "Категориальный признак, помог заполнить пропуски найти выбросы или ошибки в датасетах,  необходимости в нем не вижу, можно удалить"
   ]
  },
  {
   "cell_type": "code",
   "execution_count": 81,
   "metadata": {},
   "outputs": [
    {
     "name": "stdout",
     "output_type": "stream",
     "text": [
      "Кол-во строк в трейне:  74675\n"
     ]
    }
   ],
   "source": [
    "cat_cols.remove('name')\n",
    "EDA_cols.append('name')\n",
    "len_train = len(df[df['Train']==1])\n",
    "print('Кол-во строк в трейне: ', len_train)"
   ]
  },
  {
   "cell_type": "markdown",
   "metadata": {},
   "source": [
    "### 8. numberOfDoors -\n",
    "#### Количество дверей"
   ]
  },
  {
   "cell_type": "code",
   "execution_count": 82,
   "metadata": {},
   "outputs": [],
   "source": [
    "# переведем в int64 критерий numberOfDoors\n",
    "df['numberOfDoors'] = df['numberOfDoors'].astype('int64')"
   ]
  },
  {
   "cell_type": "code",
   "execution_count": 83,
   "metadata": {},
   "outputs": [
    {
     "data": {
      "text/plain": [
       "numberOfDoors\n",
       "3    3.826858e+05\n",
       "4    7.616059e+05\n",
       "5    1.195331e+06\n",
       "2    1.430833e+06\n",
       "Name: price, dtype: float64"
      ]
     },
     "execution_count": 83,
     "metadata": {},
     "output_type": "execute_result"
    }
   ],
   "source": [
    "# посмотрим на зависимсть среднего значения цены от кол-ва дверей\n",
    "df.groupby('numberOfDoors').mean().sort_values(by = 'price').price"
   ]
  },
  {
   "cell_type": "code",
   "execution_count": 84,
   "metadata": {
    "scrolled": true
   },
   "outputs": [],
   "source": [
    "# фактически это категориальный признак с 4 значениями, но для корректной\n",
    "#групповой обработки числовых признаков переведем его в числовые\n",
    "EDA_cols.append('numberOfDoors')\n",
    "cat_cols.remove('numberOfDoors')\n",
    "num_cols.append('numberOfDoors')\n"
   ]
  },
  {
   "cell_type": "code",
   "execution_count": 85,
   "metadata": {},
   "outputs": [
    {
     "name": "stdout",
     "output_type": "stream",
     "text": [
      "Кол-во строк в трейне:  74675\n"
     ]
    }
   ],
   "source": [
    "len_train = len(df[df['Train']==1])\n",
    "print('Кол-во строк в трейне: ', len_train)"
   ]
  },
  {
   "cell_type": "markdown",
   "metadata": {},
   "source": [
    "### 9. vehicleConfiguration\n",
    "#### комбинация типа трансмиссии, объема двигателя и мощности двигателя"
   ]
  },
  {
   "cell_type": "code",
   "execution_count": 86,
   "metadata": {
    "scrolled": true
   },
   "outputs": [
    {
     "data": {
      "text/plain": [
       "SEDAN MECHANICAL 1.6                    4130\n",
       "SEDAN AUTOMATIC 1.6                     3541\n",
       "ALLROAD_5_DOORS AUTOMATIC 2.0           3246\n",
       "SEDAN AUTOMATIC 2.0                     2826\n",
       "ALLROAD_5_DOORS VARIATOR 2.0            2756\n",
       "                                        ... \n",
       "HATCHBACK_5_DOORS AUTOMATIC S              1\n",
       "ROADSTER MECHANICAL 230                    1\n",
       "HATCHBACK_3_DOORS AUTOMATIC X16SZR         1\n",
       "HATCHBACK_3_DOORS MECHANICAL ST170         1\n",
       "HATCHBACK_5_DOORS AUTOMATIC Electric       1\n",
       "Name: vehicleConfiguration, Length: 1151, dtype: int64"
      ]
     },
     "execution_count": 86,
     "metadata": {},
     "output_type": "execute_result"
    }
   ],
   "source": [
    "df.vehicleConfiguration.value_counts()"
   ]
  },
  {
   "cell_type": "markdown",
   "metadata": {},
   "source": [
    "#### vehicleConfiguration\n",
    "В данном признаке есть все что указно в других признаках"
   ]
  },
  {
   "cell_type": "code",
   "execution_count": 87,
   "metadata": {},
   "outputs": [],
   "source": [
    "# удаляем\n",
    "cat_cols.remove('vehicleConfiguration')"
   ]
  },
  {
   "cell_type": "code",
   "execution_count": 88,
   "metadata": {},
   "outputs": [],
   "source": [
    "EDA_cols.append('vehicleConfiguration')"
   ]
  },
  {
   "cell_type": "markdown",
   "metadata": {},
   "source": [
    "### 10. vehicleTransmission \n",
    "#### тип трансмиссии (коробки передач)"
   ]
  },
  {
   "cell_type": "code",
   "execution_count": 89,
   "metadata": {},
   "outputs": [
    {
     "data": {
      "text/plain": [
       "автоматическая      38720\n",
       "механическая        23122\n",
       "роботизированная     6612\n",
       "вариатор             6221\n",
       "Name: vehicleTransmission, dtype: int64"
      ]
     },
     "execution_count": 89,
     "metadata": {},
     "output_type": "execute_result"
    }
   ],
   "source": [
    "# Значения в тесте в трейне\n",
    "Train_df = df[df['Train']==1]\n",
    "Train_df['vehicleTransmission'].value_counts()"
   ]
  },
  {
   "cell_type": "code",
   "execution_count": 90,
   "metadata": {},
   "outputs": [
    {
     "data": {
      "text/plain": [
       "автоматическая      3175\n",
       "механическая         109\n",
       "роботизированная      14\n",
       "Name: vehicleTransmission, dtype: int64"
      ]
     },
     "execution_count": 90,
     "metadata": {},
     "output_type": "execute_result"
    }
   ],
   "source": [
    "# Значения в тесте\n",
    "Test_df = df[df['Train']==0]\n",
    "Test_df['vehicleTransmission'].value_counts()"
   ]
  },
  {
   "cell_type": "markdown",
   "metadata": {},
   "source": [
    "Удалим вариатор, так как его нет в тестовом сете"
   ]
  },
  {
   "cell_type": "code",
   "execution_count": 91,
   "metadata": {},
   "outputs": [],
   "source": [
    "# удалим вариатор\n",
    "df = df[((df['Train']==1) & (df['vehicleTransmission']!='вариатор')) | (df['Train']==0)]"
   ]
  },
  {
   "cell_type": "code",
   "execution_count": 92,
   "metadata": {},
   "outputs": [
    {
     "data": {
      "text/plain": [
       "0"
      ]
     },
     "execution_count": 92,
     "metadata": {},
     "output_type": "execute_result"
    }
   ],
   "source": [
    "df[df['Train']==1]['vehicleTransmission'].isna().sum()"
   ]
  },
  {
   "cell_type": "markdown",
   "metadata": {},
   "source": [
    "### vehicleTransmission \n",
    "Категориальный признак, 4 значения, Был 1 пропуск, но мы его уже удалили, можно попробовать поменть на числовой"
   ]
  },
  {
   "cell_type": "code",
   "execution_count": 93,
   "metadata": {},
   "outputs": [
    {
     "name": "stdout",
     "output_type": "stream",
     "text": [
      "Кол-во строк в трейне:  68454\n"
     ]
    }
   ],
   "source": [
    "EDA_cols.append('vehicleTransmission')\n",
    "len_train = len(df[df['Train']==1])\n",
    "print('Кол-во строк в трейне: ', len_train)"
   ]
  },
  {
   "cell_type": "markdown",
   "metadata": {},
   "source": [
    "### 11. description\n",
    "#### дополнительные характеристики по комплектации авто"
   ]
  },
  {
   "cell_type": "code",
   "execution_count": 94,
   "metadata": {
    "scrolled": false
   },
   "outputs": [
    {
     "data": {
      "text/plain": [
       "19133    Продам Форд Эскейп 2004г.  В хорошем состоянии...\n",
       "74539    «Inchcape Certified-  Первый международный офи...\n",
       "Name: description, dtype: object"
      ]
     },
     "execution_count": 94,
     "metadata": {},
     "output_type": "execute_result"
    }
   ],
   "source": [
    "# Значения в тесте в трейне\n",
    "Train_df = df[df['Train']==1]\n",
    "Train_df['description'].sample(2)"
   ]
  },
  {
   "cell_type": "code",
   "execution_count": 95,
   "metadata": {},
   "outputs": [
    {
     "data": {
      "text/plain": [
       "91582    Автомобиль из демонстрационного парка по спец ...\n",
       "90388    Автомобиль куплен и обслуживался у официальног...\n",
       "Name: description, dtype: object"
      ]
     },
     "execution_count": 95,
     "metadata": {},
     "output_type": "execute_result"
    }
   ],
   "source": [
    "# Значения в тесте\n",
    "Test_df = df[df['Train']==0]\n",
    "Test_df['description'].sample(2)"
   ]
  },
  {
   "cell_type": "markdown",
   "metadata": {},
   "source": [
    "В данном признаке проиводится описание машины, либо реклама, удаляем"
   ]
  },
  {
   "cell_type": "code",
   "execution_count": 96,
   "metadata": {},
   "outputs": [
    {
     "name": "stdout",
     "output_type": "stream",
     "text": [
      "Кол-во строк в трейне:  68454\n"
     ]
    }
   ],
   "source": [
    "# удаляем\n",
    "cat_cols.remove('description')\n",
    "EDA_cols.append('description')\n",
    "len_train = len(df[df['Train']==1])\n",
    "print('Кол-во строк в трейне: ', len_train)"
   ]
  },
  {
   "cell_type": "markdown",
   "metadata": {},
   "source": [
    "### 12. mileage \n",
    "#### пробег автомобиля (км.)"
   ]
  },
  {
   "cell_type": "code",
   "execution_count": 97,
   "metadata": {},
   "outputs": [
    {
     "name": "stdout",
     "output_type": "stream",
     "text": [
      "25-й перцентиль: 74000.0, 75-й перцентиль: 199999.0, IQR: 125999.0,  Границы выбросов: [-114998.5, 388997.5].\n",
      "Кол-во выбросов = 1223, Процент выбросов среди тренировочного датасета 1.79\n"
     ]
    },
    {
     "data": {
      "image/png": "[encoded data removed]",
      "text/plain": [
       "<Figure size 432x288 with 1 Axes>"
      ]
     },
     "metadata": {
      "needs_background": "light"
     },
     "output_type": "display_data"
    }
   ],
   "source": [
    "# переведем в int64 критерий mileage\n",
    "df['mileage'] = df['mileage'].astype('int64')\n",
    "IQRhist('mileage')"
   ]
  },
  {
   "cell_type": "code",
   "execution_count": 98,
   "metadata": {
    "scrolled": true
   },
   "outputs": [
    {
     "data": {
      "text/plain": [
       "893"
      ]
     },
     "execution_count": 98,
     "metadata": {},
     "output_type": "execute_result"
    }
   ],
   "source": [
    "# посмотрим какие это марки с такими пробегами более 400000\n",
    "df[(df['Train']==1) & (df['mileage']>400000)].mileage.value_counts().sum()"
   ]
  },
  {
   "cell_type": "code",
   "execution_count": 99,
   "metadata": {},
   "outputs": [
    {
     "data": {
      "text/plain": [
       "30"
      ]
     },
     "execution_count": 99,
     "metadata": {},
     "output_type": "execute_result"
    }
   ],
   "source": [
    "# посмотрим какие это марки с такими пробегами более 400000\n",
    "df[(df['Train']==0) & (df['mileage']>400000)].mileage.value_counts().sum()"
   ]
  },
  {
   "cell_type": "code",
   "execution_count": 100,
   "metadata": {},
   "outputs": [
    {
     "data": {
      "text/plain": [
       "11"
      ]
     },
     "execution_count": 100,
     "metadata": {},
     "output_type": "execute_result"
    }
   ],
   "source": [
    "len(all_cols)- len(EDA_cols)"
   ]
  },
  {
   "cell_type": "code",
   "execution_count": 101,
   "metadata": {},
   "outputs": [],
   "source": [
    "#Удалим выбросы\n",
    "df = df[(df['Train']==1) & (df['mileage']<400000)| (df['Train']==0)]"
   ]
  },
  {
   "cell_type": "markdown",
   "metadata": {},
   "source": [
    "#### mileage  \n",
    "признак числовой. \n",
    "Посмотрели на выбросы, отобрали 904 выбросов с пробегом выше 400000 км из трейна, которые могут повлиять на обучение,\n",
    "пока что оставляем, посмотрим как скажется на метрике. Пропусков нет."
   ]
  },
  {
   "cell_type": "code",
   "execution_count": 102,
   "metadata": {},
   "outputs": [
    {
     "name": "stdout",
     "output_type": "stream",
     "text": [
      "Кол-во строк в трейне:  67405\n"
     ]
    }
   ],
   "source": [
    "EDA_cols.append('mileage')\n",
    "len_train = len(df[df['Train']==1])\n",
    "print('Кол-во строк в трейне: ', len_train)"
   ]
  },
  {
   "cell_type": "markdown",
   "metadata": {},
   "source": [
    "### 13.Комплектация\n",
    "#### дополнительные характеристики по комплектации авто"
   ]
  },
  {
   "cell_type": "code",
   "execution_count": 103,
   "metadata": {
    "scrolled": true
   },
   "outputs": [
    {
     "data": {
      "text/plain": [
       "0.6887174541947927"
      ]
     },
     "execution_count": 103,
     "metadata": {},
     "output_type": "execute_result"
    }
   ],
   "source": [
    "#Посмотрим на заполненость признака\n",
    "Train_df = df[df['Train']==1]\n",
    "(Train_df['Комплектация']==\"{'id': '0'}\").sum()/len(Train_df)"
   ]
  },
  {
   "cell_type": "code",
   "execution_count": 104,
   "metadata": {},
   "outputs": [],
   "source": [
    "cat_cols.remove('Комплектация')"
   ]
  },
  {
   "cell_type": "markdown",
   "metadata": {},
   "source": [
    "#### Комплектация\n",
    "Более 2/3 признака не заполнено в трейне, удаляем"
   ]
  },
  {
   "cell_type": "code",
   "execution_count": 105,
   "metadata": {},
   "outputs": [
    {
     "name": "stdout",
     "output_type": "stream",
     "text": [
      "Кол-во строк в трейне:  67405\n"
     ]
    }
   ],
   "source": [
    "EDA_cols.append('Комплектация')\n",
    "len_train = len(df[df['Train']==1])\n",
    "print('Кол-во строк в трейне: ', len_train)"
   ]
  },
  {
   "cell_type": "markdown",
   "metadata": {},
   "source": [
    "### 14.Привод \n",
    "#### Характеристика привода автомобиля"
   ]
  },
  {
   "cell_type": "code",
   "execution_count": 106,
   "metadata": {
    "scrolled": false
   },
   "outputs": [
    {
     "data": {
      "text/plain": [
       "0          полный\n",
       "1        передний\n",
       "2          полный\n",
       "3        передний\n",
       "4        передний\n",
       "           ...   \n",
       "93209      полный\n",
       "93210      задний\n",
       "93211      полный\n",
       "93212      полный\n",
       "93213      полный\n",
       "Name: Привод, Length: 70703, dtype: object"
      ]
     },
     "execution_count": 106,
     "metadata": {},
     "output_type": "execute_result"
    }
   ],
   "source": [
    "df['Привод']"
   ]
  },
  {
   "cell_type": "code",
   "execution_count": 107,
   "metadata": {},
   "outputs": [
    {
     "data": {
      "text/plain": [
       "передний    39623\n",
       "полный      22957\n",
       "задний       4825\n",
       "Name: Привод, dtype: int64"
      ]
     },
     "metadata": {},
     "output_type": "display_data"
    },
    {
     "data": {
      "text/plain": [
       "полный      2015\n",
       "задний      1268\n",
       "передний      15\n",
       "Name: Привод, dtype: int64"
      ]
     },
     "metadata": {},
     "output_type": "display_data"
    }
   ],
   "source": [
    "Train_df = df[df['Train']==1]\n",
    "Test_df = df[df['Train']==0]\n",
    "display(Train_df['Привод'].value_counts())\n",
    "display(Test_df['Привод'].value_counts())"
   ]
  },
  {
   "cell_type": "markdown",
   "metadata": {},
   "source": [
    "#### Привод\n",
    "Категориальный признак, 3 значения, пропусков нет, возможно перевести в числовой, посмотрим как скажется на метрике"
   ]
  },
  {
   "cell_type": "code",
   "execution_count": 108,
   "metadata": {},
   "outputs": [
    {
     "name": "stdout",
     "output_type": "stream",
     "text": [
      "Кол-во строк в трейне:  67405\n"
     ]
    }
   ],
   "source": [
    "EDA_cols.append('Привод')\n",
    "len_train = len(df[df['Train']==1])\n",
    "print('Кол-во строк в трейне: ', len_train)"
   ]
  },
  {
   "cell_type": "markdown",
   "metadata": {},
   "source": [
    "### 15. Владельцы"
   ]
  },
  {
   "cell_type": "code",
   "execution_count": 109,
   "metadata": {},
   "outputs": [
    {
     "data": {
      "text/plain": [
       "3 или более    1295\n",
       "1 владелец     1130\n",
       "2 владельца     873\n",
       "Name: Владельцы, dtype: int64"
      ]
     },
     "execution_count": 109,
     "metadata": {},
     "output_type": "execute_result"
    }
   ],
   "source": [
    "Test_df['Владельцы'].value_counts()"
   ]
  },
  {
   "cell_type": "code",
   "execution_count": 110,
   "metadata": {},
   "outputs": [
    {
     "data": {
      "text/plain": [
       "3 или более    28642\n",
       "2 владельца    16713\n",
       "1 владелец     14320\n",
       "Name: Владельцы, dtype: int64"
      ]
     },
     "metadata": {},
     "output_type": "display_data"
    },
    {
     "data": {
      "text/plain": [
       "3 или более    1295\n",
       "1 владелец     1130\n",
       "2 владельца     873\n",
       "Name: Владельцы, dtype: int64"
      ]
     },
     "metadata": {},
     "output_type": "display_data"
    }
   ],
   "source": [
    "Train_df = df[df['Train']==1]\n",
    "Test_df = df[df['Train']==0]\n",
    "display(Train_df['Владельцы'].value_counts(),\n",
    "Test_df['Владельцы'].value_counts())"
   ]
  },
  {
   "cell_type": "code",
   "execution_count": 111,
   "metadata": {},
   "outputs": [
    {
     "data": {
      "text/plain": [
       "7730"
      ]
     },
     "execution_count": 111,
     "metadata": {},
     "output_type": "execute_result"
    }
   ],
   "source": [
    "# на этапе предварительного анализа были пропуски , проверим\n",
    "len(df[df['Владельцы'].isna()])"
   ]
  },
  {
   "cell_type": "code",
   "execution_count": 112,
   "metadata": {},
   "outputs": [
    {
     "data": {
      "text/plain": [
       "count     16713.000000\n",
       "mean     144380.716329\n",
       "std       71197.450351\n",
       "min           1.000000\n",
       "25%       94500.000000\n",
       "50%      135200.000000\n",
       "75%      185000.000000\n",
       "max      399194.000000\n",
       "Name: mileage, dtype: float64"
      ]
     },
     "execution_count": 112,
     "metadata": {},
     "output_type": "execute_result"
    }
   ],
   "source": [
    "# посмотрим статистику по пробегу по 2 владельцам \n",
    "df[(df['Владельцы']=='2 владельца') & (df['mileage']>0)].mileage.describe()"
   ]
  },
  {
   "cell_type": "code",
   "execution_count": 113,
   "metadata": {},
   "outputs": [
    {
     "data": {
      "text/plain": [
       "count     29937.000000\n",
       "mean     187662.152955\n",
       "std       75375.621649\n",
       "min           1.000000\n",
       "25%      134081.000000\n",
       "50%      179000.000000\n",
       "75%      233000.000000\n",
       "max      520416.000000\n",
       "Name: mileage, dtype: float64"
      ]
     },
     "execution_count": 113,
     "metadata": {},
     "output_type": "execute_result"
    }
   ],
   "source": [
    "# посмотрим статистику по пробегу по 3 и более владельцам \n",
    "df[(df['Владельцы']=='3 или более') & (df['mileage']>0)].mileage.describe()"
   ]
  },
  {
   "cell_type": "code",
   "execution_count": 114,
   "metadata": {},
   "outputs": [],
   "source": [
    "# переведем в числовой формат \n",
    "# вытащим количество владльцев перед первым пробелом'\n",
    "df.loc[:, 'Владельцы'] = df['Владельцы'].apply(lambda x: int(x.split()[0]) if type(x)==str else None)"
   ]
  },
  {
   "cell_type": "code",
   "execution_count": 115,
   "metadata": {
    "scrolled": true
   },
   "outputs": [
    {
     "data": {
      "text/html": [
       "<div>\n",
       "<style scoped>\n",
       "    .dataframe tbody tr th:only-of-type {\n",
       "        vertical-align: middle;\n",
       "    }\n",
       "\n",
       "    .dataframe tbody tr th {\n",
       "        vertical-align: top;\n",
       "    }\n",
       "\n",
       "    .dataframe thead th {\n",
       "        text-align: right;\n",
       "    }\n",
       "</style>\n",
       "<table border=\"1\" class=\"dataframe\">\n",
       "  <thead>\n",
       "    <tr style=\"text-align: right;\">\n",
       "      <th></th>\n",
       "      <th>bodyType</th>\n",
       "      <th>brand</th>\n",
       "      <th>color</th>\n",
       "      <th>fuelType</th>\n",
       "      <th>name</th>\n",
       "      <th>numberOfDoors</th>\n",
       "      <th>vehicleConfiguration</th>\n",
       "      <th>vehicleTransmission</th>\n",
       "      <th>engineDisplacement</th>\n",
       "      <th>enginePower</th>\n",
       "      <th>description</th>\n",
       "      <th>Комплектация</th>\n",
       "      <th>Привод</th>\n",
       "      <th>Руль</th>\n",
       "      <th>Состояние</th>\n",
       "      <th>Владельцы</th>\n",
       "      <th>ПТС</th>\n",
       "      <th>Владение</th>\n",
       "      <th>model</th>\n",
       "      <th>mileage</th>\n",
       "      <th>modelDate</th>\n",
       "      <th>productionDate</th>\n",
       "      <th>start_date</th>\n",
       "      <th>Train</th>\n",
       "      <th>id</th>\n",
       "      <th>price</th>\n",
       "      <th>engineDisplacement2</th>\n",
       "    </tr>\n",
       "  </thead>\n",
       "  <tbody>\n",
       "    <tr>\n",
       "      <th>332</th>\n",
       "      <td>седан</td>\n",
       "      <td>AUDI</td>\n",
       "      <td>серый</td>\n",
       "      <td>0</td>\n",
       "      <td>1.4 AMT (150 л.с.)</td>\n",
       "      <td>4</td>\n",
       "      <td>SEDAN ROBOT 1.4</td>\n",
       "      <td>роботизированная</td>\n",
       "      <td>1.4</td>\n",
       "      <td>150</td>\n",
       "      <td>Эксклюзивные условия в Ауди Центре Север.\\nТол...</td>\n",
       "      <td>{'id': '21597097', 'name': '35 TFSI S tronic',...</td>\n",
       "      <td>передний</td>\n",
       "      <td>Левый</td>\n",
       "      <td>NaN</td>\n",
       "      <td>NaN</td>\n",
       "      <td>Оригинал</td>\n",
       "      <td>NaN</td>\n",
       "      <td>A3</td>\n",
       "      <td>0</td>\n",
       "      <td>2016.0</td>\n",
       "      <td>2020.0</td>\n",
       "      <td>2020-08-10T18:16:24Z</td>\n",
       "      <td>1</td>\n",
       "      <td>NaN</td>\n",
       "      <td>1885400.0</td>\n",
       "      <td>1.0</td>\n",
       "    </tr>\n",
       "    <tr>\n",
       "      <th>333</th>\n",
       "      <td>седан</td>\n",
       "      <td>AUDI</td>\n",
       "      <td>серебристый</td>\n",
       "      <td>0</td>\n",
       "      <td>1.4 AMT (150 л.с.)</td>\n",
       "      <td>4</td>\n",
       "      <td>SEDAN ROBOT 1.4</td>\n",
       "      <td>роботизированная</td>\n",
       "      <td>1.4</td>\n",
       "      <td>150</td>\n",
       "      <td>Эксклюзивные условия в Ауди Центре Север.\\nТол...</td>\n",
       "      <td>{'id': '21597097', 'name': '35 TFSI S tronic',...</td>\n",
       "      <td>передний</td>\n",
       "      <td>Левый</td>\n",
       "      <td>NaN</td>\n",
       "      <td>NaN</td>\n",
       "      <td>Оригинал</td>\n",
       "      <td>NaN</td>\n",
       "      <td>A3</td>\n",
       "      <td>0</td>\n",
       "      <td>2016.0</td>\n",
       "      <td>2020.0</td>\n",
       "      <td>2020-08-10T18:16:24Z</td>\n",
       "      <td>1</td>\n",
       "      <td>NaN</td>\n",
       "      <td>1885400.0</td>\n",
       "      <td>1.0</td>\n",
       "    </tr>\n",
       "    <tr>\n",
       "      <th>336</th>\n",
       "      <td>седан</td>\n",
       "      <td>AUDI</td>\n",
       "      <td>синий</td>\n",
       "      <td>0</td>\n",
       "      <td>1.4 AMT (150 л.с.)</td>\n",
       "      <td>4</td>\n",
       "      <td>SEDAN ROBOT 1.4</td>\n",
       "      <td>роботизированная</td>\n",
       "      <td>1.4</td>\n",
       "      <td>150</td>\n",
       "      <td>Новый дилерский центр Ауди в Москве.\\n\\nУникал...</td>\n",
       "      <td>{'id': '20838807', 'name': 'Basis', 'available...</td>\n",
       "      <td>передний</td>\n",
       "      <td>Левый</td>\n",
       "      <td>NaN</td>\n",
       "      <td>NaN</td>\n",
       "      <td>Оригинал</td>\n",
       "      <td>NaN</td>\n",
       "      <td>A3</td>\n",
       "      <td>0</td>\n",
       "      <td>2016.0</td>\n",
       "      <td>2020.0</td>\n",
       "      <td>2020-08-04T16:44:36Z</td>\n",
       "      <td>1</td>\n",
       "      <td>NaN</td>\n",
       "      <td>1885400.0</td>\n",
       "      <td>1.0</td>\n",
       "    </tr>\n",
       "  </tbody>\n",
       "</table>\n",
       "</div>"
      ],
      "text/plain": [
       "    bodyType brand        color  fuelType                name  numberOfDoors  \\\n",
       "332    седан  AUDI        серый         0  1.4 AMT (150 л.с.)              4   \n",
       "333    седан  AUDI  серебристый         0  1.4 AMT (150 л.с.)              4   \n",
       "336    седан  AUDI        синий         0  1.4 AMT (150 л.с.)              4   \n",
       "\n",
       "    vehicleConfiguration vehicleTransmission engineDisplacement  enginePower  \\\n",
       "332      SEDAN ROBOT 1.4    роботизированная                1.4          150   \n",
       "333      SEDAN ROBOT 1.4    роботизированная                1.4          150   \n",
       "336      SEDAN ROBOT 1.4    роботизированная                1.4          150   \n",
       "\n",
       "                                           description  \\\n",
       "332  Эксклюзивные условия в Ауди Центре Север.\\nТол...   \n",
       "333  Эксклюзивные условия в Ауди Центре Север.\\nТол...   \n",
       "336  Новый дилерский центр Ауди в Москве.\\n\\nУникал...   \n",
       "\n",
       "                                          Комплектация    Привод   Руль  \\\n",
       "332  {'id': '21597097', 'name': '35 TFSI S tronic',...  передний  Левый   \n",
       "333  {'id': '21597097', 'name': '35 TFSI S tronic',...  передний  Левый   \n",
       "336  {'id': '20838807', 'name': 'Basis', 'available...  передний  Левый   \n",
       "\n",
       "    Состояние  Владельцы       ПТС Владение model  mileage  modelDate  \\\n",
       "332       NaN        NaN  Оригинал      NaN    A3        0     2016.0   \n",
       "333       NaN        NaN  Оригинал      NaN    A3        0     2016.0   \n",
       "336       NaN        NaN  Оригинал      NaN    A3        0     2016.0   \n",
       "\n",
       "     productionDate            start_date  Train  id      price  \\\n",
       "332          2020.0  2020-08-10T18:16:24Z      1 NaN  1885400.0   \n",
       "333          2020.0  2020-08-10T18:16:24Z      1 NaN  1885400.0   \n",
       "336          2020.0  2020-08-04T16:44:36Z      1 NaN  1885400.0   \n",
       "\n",
       "     engineDisplacement2  \n",
       "332                  1.0  \n",
       "333                  1.0  \n",
       "336                  1.0  "
      ]
     },
     "execution_count": 115,
     "metadata": {},
     "output_type": "execute_result"
    }
   ],
   "source": [
    "df.loc[df['Владельцы'].isna()].head(3)"
   ]
  },
  {
   "cell_type": "code",
   "execution_count": 116,
   "metadata": {},
   "outputs": [
    {
     "data": {
      "text/plain": [
       "count    7730.000000\n",
       "mean     2019.963131\n",
       "std         0.192528\n",
       "min      2018.000000\n",
       "25%      2020.000000\n",
       "50%      2020.000000\n",
       "75%      2020.000000\n",
       "max      2020.000000\n",
       "Name: productionDate, dtype: float64"
      ]
     },
     "execution_count": 116,
     "metadata": {},
     "output_type": "execute_result"
    }
   ],
   "source": [
    "# вроде бы это новые автомобили, проверим\n",
    "df.loc[df['Владельцы'].isna()].productionDate.describe()"
   ]
  },
  {
   "cell_type": "code",
   "execution_count": 117,
   "metadata": {},
   "outputs": [],
   "source": [
    "# видно что это новые автомобили, поэтому заполним Владельцев нулями\n",
    "df['Владельцы'].fillna(0.0, inplace=True)"
   ]
  },
  {
   "cell_type": "code",
   "execution_count": 118,
   "metadata": {},
   "outputs": [],
   "source": [
    "# переводим в int64\n",
    "df['Владельцы'] = df['Владельцы'].astype('int64')"
   ]
  },
  {
   "cell_type": "code",
   "execution_count": 119,
   "metadata": {
    "scrolled": true
   },
   "outputs": [
    {
     "data": {
      "text/plain": [
       "3    29937\n",
       "2    17586\n",
       "1    15450\n",
       "0     7730\n",
       "Name: Владельцы, dtype: int64"
      ]
     },
     "execution_count": 119,
     "metadata": {},
     "output_type": "execute_result"
    }
   ],
   "source": [
    "df['Владельцы'].value_counts()"
   ]
  },
  {
   "cell_type": "code",
   "execution_count": 120,
   "metadata": {},
   "outputs": [
    {
     "data": {
      "text/plain": [
       "(70703,)"
      ]
     },
     "execution_count": 120,
     "metadata": {},
     "output_type": "execute_result"
    }
   ],
   "source": [
    "df['Владельцы'].shape"
   ]
  },
  {
   "cell_type": "code",
   "execution_count": 121,
   "metadata": {},
   "outputs": [
    {
     "name": "stdout",
     "output_type": "stream",
     "text": [
      "Кол-во строк в трейне:  67405\n"
     ]
    }
   ],
   "source": [
    "EDA_cols.append('Владельцы')\n",
    "len_train = len(df[df['Train']==1])\n",
    "print('Кол-во строк в трейне: ', len_train)"
   ]
  },
  {
   "cell_type": "markdown",
   "metadata": {},
   "source": [
    "### 16.Состояние"
   ]
  },
  {
   "cell_type": "code",
   "execution_count": 122,
   "metadata": {},
   "outputs": [
    {
     "data": {
      "text/plain": [
       "Series([], Name: Состояние, dtype: int64)"
      ]
     },
     "metadata": {},
     "output_type": "display_data"
    },
    {
     "data": {
      "text/plain": [
       "Не требует ремонта    3298\n",
       "Name: Состояние, dtype: int64"
      ]
     },
     "metadata": {},
     "output_type": "display_data"
    }
   ],
   "source": [
    "Train_df = df[df['Train']==1]\n",
    "Test_df = df[df['Train']==0]\n",
    "display(Train_df['Состояние'].value_counts(),\n",
    "Test_df['Состояние'].value_counts())"
   ]
  },
  {
   "cell_type": "markdown",
   "metadata": {},
   "source": [
    "Так как в тренировочном датасете данный признак пуст а в тестовом всего один признак, удалим его"
   ]
  },
  {
   "cell_type": "code",
   "execution_count": 123,
   "metadata": {},
   "outputs": [],
   "source": [
    "cat_cols.remove('Состояние')\n",
    "EDA_cols.append('Состояние')"
   ]
  },
  {
   "cell_type": "markdown",
   "metadata": {},
   "source": [
    "### 17.ПТС"
   ]
  },
  {
   "cell_type": "code",
   "execution_count": 124,
   "metadata": {
    "scrolled": false
   },
   "outputs": [
    {
     "data": {
      "text/plain": [
       "Оригинал    59098\n",
       "Дубликат     8108\n",
       "Name: ПТС, dtype: int64"
      ]
     },
     "metadata": {},
     "output_type": "display_data"
    },
    {
     "data": {
      "text/plain": [
       "Оригинал    2976\n",
       "Дубликат     322\n",
       "Name: ПТС, dtype: int64"
      ]
     },
     "metadata": {},
     "output_type": "display_data"
    },
    {
     "name": "stdout",
     "output_type": "stream",
     "text": [
      "Пропуски train: 199\n",
      "Пропуски test: 0\n"
     ]
    }
   ],
   "source": [
    "Train_df = df[df['Train']==1]\n",
    "Test_df = df[df['Train']==0]\n",
    "display(Train_df['ПТС'].value_counts(),\n",
    "Test_df['ПТС'].value_counts())\n",
    "print(f\"Пропуски train: {Train_df['ПТС'].isna().sum()}\")\n",
    "print(f\"Пропуски test: {Test_df['ПТС'].isna().sum()}\")"
   ]
  },
  {
   "cell_type": "code",
   "execution_count": 125,
   "metadata": {},
   "outputs": [],
   "source": [
    "# Заполним отсутствующие значения вариантом \"нет\"\n",
    "df['ПТС'].fillna('Нет', inplace = True)"
   ]
  },
  {
   "cell_type": "markdown",
   "metadata": {},
   "source": [
    "### ПТС\n",
    "Категориальный признак, добавили значение 'Нет' для проусков, 3 значения, пропусков нет, можно перевести в числовой"
   ]
  },
  {
   "cell_type": "code",
   "execution_count": 126,
   "metadata": {},
   "outputs": [
    {
     "name": "stdout",
     "output_type": "stream",
     "text": [
      "Кол-во строк в трейне:  67405\n"
     ]
    }
   ],
   "source": [
    "EDA_cols.append('ПТС')\n",
    "len_train = len(df[df['Train']==1])\n",
    "print('Кол-во строк в трейне: ', len_train)"
   ]
  },
  {
   "cell_type": "markdown",
   "metadata": {},
   "source": [
    "### 18. Владение\n",
    "#### срок владения автомобилем в годах и месяцах  "
   ]
  },
  {
   "cell_type": "code",
   "execution_count": 127,
   "metadata": {},
   "outputs": [
    {
     "data": {
      "text/plain": [
       "{'year': 2019, 'month': 8}     395\n",
       "{'year': 2018, 'month': 10}    389\n",
       "{'year': 2018, 'month': 8}     388\n",
       "{'year': 2018, 'month': 11}    381\n",
       "{'year': 2018, 'month': 12}    377\n",
       "                              ... \n",
       "{'year': 1992, 'month': 10}      1\n",
       "{'year': 1997, 'month': 6}       1\n",
       "{'year': 2001, 'month': 3}       1\n",
       "{'year': 1995, 'month': 12}      1\n",
       "{'year': 1999, 'month': 11}      1\n",
       "Name: Владение, Length: 278, dtype: int64"
      ]
     },
     "metadata": {},
     "output_type": "display_data"
    },
    {
     "data": {
      "text/plain": [
       "1 год и 1 месяц        38\n",
       "1 год и 4 месяца       34\n",
       "1 год и 3 месяца       32\n",
       "1 год и 2 месяца       31\n",
       "1 год и 8 месяцев      31\n",
       "                       ..\n",
       "12 лет и 5 месяцев      1\n",
       "8 лет и 6 месяцев       1\n",
       "12 лет и 1 месяц        1\n",
       "15 лет и 10 месяцев     1\n",
       "18 лет и 5 месяцев      1\n",
       "Name: Владение, Length: 152, dtype: int64"
      ]
     },
     "metadata": {},
     "output_type": "display_data"
    },
    {
     "name": "stdout",
     "output_type": "stream",
     "text": [
      "Пропуски: 46489\n"
     ]
    }
   ],
   "source": [
    "Train_df = df[df['Train']==1]\n",
    "Test_df = df[df['Train']==0]\n",
    "display(Train_df['Владение'].value_counts(),\n",
    "Test_df['Владение'].value_counts())\n",
    "print(f\"Пропуски: {df['Владение'].isna().sum()}\")"
   ]
  },
  {
   "cell_type": "markdown",
   "metadata": {},
   "source": [
    "Формат записи и смысл у полей разный в разных датасетах:  \n",
    "в тренировочном это английский язык и дата с момента начала владения,  \n",
    "в тестовом - русский язык и время владения. Преобразуем эти значения просто в месяцы владения авомобилем  \n",
    "Пропуски заполним отдельным значением."
   ]
  },
  {
   "cell_type": "code",
   "execution_count": 128,
   "metadata": {},
   "outputs": [
    {
     "data": {
      "text/plain": [
       "0.6632594021215044"
      ]
     },
     "execution_count": 128,
     "metadata": {},
     "output_type": "execute_result"
    }
   ],
   "source": [
    "#Посмотрим на заполненость признака\n",
    "Train_df = df[df['Train']==1]\n",
    "(Train_df['Владение'].isna().sum())/len(Train_df)"
   ]
  },
  {
   "cell_type": "markdown",
   "metadata": {},
   "source": [
    "#### Владение  \n",
    "2/3 признака не заполнено в трейне, удаляем не смотря на важность признака, поскольку нет возможности заполнить"
   ]
  },
  {
   "cell_type": "code",
   "execution_count": 129,
   "metadata": {
    "scrolled": true
   },
   "outputs": [],
   "source": [
    "EDA_cols.append('Владение')\n",
    "cat_cols.remove('Владение')"
   ]
  },
  {
   "cell_type": "markdown",
   "metadata": {},
   "source": [
    "#### 18. start_date и hidden\n",
    "Удаляем признаки , так как не понятно как их заполнять"
   ]
  },
  {
   "cell_type": "code",
   "execution_count": 130,
   "metadata": {},
   "outputs": [],
   "source": [
    "EDA_cols.append('start_date')\n",
    "EDA_cols.append('hidden')\n",
    "#bin_cols.remove('hidden')\n",
    "time_cols.remove('start_date')"
   ]
  },
  {
   "cell_type": "markdown",
   "metadata": {},
   "source": [
    "### 19. Price\n",
    "#### Цена \n",
    "Целевая переменная"
   ]
  },
  {
   "cell_type": "markdown",
   "metadata": {},
   "source": [
    "Рассмотрим пропуски, и удалим их поскольку делать подгон целевой переменной бессмысленно"
   ]
  },
  {
   "cell_type": "code",
   "execution_count": 131,
   "metadata": {
    "scrolled": false
   },
   "outputs": [
    {
     "name": "stdout",
     "output_type": "stream",
     "text": [
      "Пропуски: 332\n"
     ]
    }
   ],
   "source": [
    "print(f\"Пропуски: {df[df['Train']==1]['price'].isna().sum()}\")\n",
    "df = df[((df['Train']==1)&(df['price'].isna()==False)) | (df['Train']==0)]"
   ]
  },
  {
   "cell_type": "markdown",
   "metadata": {},
   "source": [
    "#### Price\n",
    "Целевая переменная, пропуски удалены"
   ]
  },
  {
   "cell_type": "code",
   "execution_count": 132,
   "metadata": {},
   "outputs": [
    {
     "name": "stdout",
     "output_type": "stream",
     "text": [
      "Кол-во строк в трейне:  67073\n"
     ]
    }
   ],
   "source": [
    "EDA_cols.append('Price')\n",
    "len_train = len(df[df['Train']==1])\n",
    "print('Кол-во строк в трейне: ', len_train)"
   ]
  },
  {
   "cell_type": "code",
   "execution_count": 133,
   "metadata": {},
   "outputs": [
    {
     "data": {
      "text/plain": [
       "25"
      ]
     },
     "execution_count": 133,
     "metadata": {},
     "output_type": "execute_result"
    }
   ],
   "source": [
    "len(EDA_cols)"
   ]
  },
  {
   "cell_type": "markdown",
   "metadata": {},
   "source": [
    "Остались только пременные id и Train"
   ]
  },
  {
   "cell_type": "code",
   "execution_count": 134,
   "metadata": {},
   "outputs": [],
   "source": [
    "# пронумеруем трейн \n",
    "df.loc[df['Train']==1,'id'] = np.array(range(1000000, 1000000+len(df[df['Train']==1])))"
   ]
  },
  {
   "cell_type": "code",
   "execution_count": 135,
   "metadata": {},
   "outputs": [
    {
     "data": {
      "text/plain": [
       "0        1000000.0\n",
       "1        1000001.0\n",
       "2        1000002.0\n",
       "3        1000003.0\n",
       "4        1000004.0\n",
       "           ...    \n",
       "93209       3831.0\n",
       "93210       3832.0\n",
       "93211       3833.0\n",
       "93212       3834.0\n",
       "93213       3835.0\n",
       "Name: id, Length: 70371, dtype: float64"
      ]
     },
     "execution_count": 135,
     "metadata": {},
     "output_type": "execute_result"
    }
   ],
   "source": [
    "df.id"
   ]
  },
  {
   "cell_type": "code",
   "execution_count": 136,
   "metadata": {},
   "outputs": [
    {
     "data": {
      "text/html": [
       "<div>\n",
       "<style scoped>\n",
       "    .dataframe tbody tr th:only-of-type {\n",
       "        vertical-align: middle;\n",
       "    }\n",
       "\n",
       "    .dataframe tbody tr th {\n",
       "        vertical-align: top;\n",
       "    }\n",
       "\n",
       "    .dataframe thead th {\n",
       "        text-align: right;\n",
       "    }\n",
       "</style>\n",
       "<table border=\"1\" class=\"dataframe\">\n",
       "  <thead>\n",
       "    <tr style=\"text-align: right;\">\n",
       "      <th></th>\n",
       "      <th>mileage</th>\n",
       "      <th>modelDate</th>\n",
       "      <th>productionDate</th>\n",
       "      <th>fuelType</th>\n",
       "      <th>engineDisplacement2</th>\n",
       "      <th>enginePower</th>\n",
       "      <th>numberOfDoors</th>\n",
       "    </tr>\n",
       "  </thead>\n",
       "  <tbody>\n",
       "    <tr>\n",
       "      <th>mileage</th>\n",
       "      <td>1.000000</td>\n",
       "      <td>0.680170</td>\n",
       "      <td>0.712720</td>\n",
       "      <td>0.100115</td>\n",
       "      <td>0.060548</td>\n",
       "      <td>0.101698</td>\n",
       "      <td>0.076405</td>\n",
       "    </tr>\n",
       "    <tr>\n",
       "      <th>modelDate</th>\n",
       "      <td>0.680170</td>\n",
       "      <td>1.000000</td>\n",
       "      <td>0.966798</td>\n",
       "      <td>0.166554</td>\n",
       "      <td>0.015261</td>\n",
       "      <td>0.210927</td>\n",
       "      <td>0.143139</td>\n",
       "    </tr>\n",
       "    <tr>\n",
       "      <th>productionDate</th>\n",
       "      <td>0.712720</td>\n",
       "      <td>0.966798</td>\n",
       "      <td>1.000000</td>\n",
       "      <td>0.169102</td>\n",
       "      <td>0.047190</td>\n",
       "      <td>0.173856</td>\n",
       "      <td>0.151789</td>\n",
       "    </tr>\n",
       "    <tr>\n",
       "      <th>fuelType</th>\n",
       "      <td>0.100115</td>\n",
       "      <td>0.166554</td>\n",
       "      <td>0.169102</td>\n",
       "      <td>1.000000</td>\n",
       "      <td>0.356467</td>\n",
       "      <td>0.290124</td>\n",
       "      <td>0.193601</td>\n",
       "    </tr>\n",
       "    <tr>\n",
       "      <th>engineDisplacement2</th>\n",
       "      <td>0.060548</td>\n",
       "      <td>0.015261</td>\n",
       "      <td>0.047190</td>\n",
       "      <td>0.356467</td>\n",
       "      <td>1.000000</td>\n",
       "      <td>0.829494</td>\n",
       "      <td>0.130157</td>\n",
       "    </tr>\n",
       "    <tr>\n",
       "      <th>enginePower</th>\n",
       "      <td>0.101698</td>\n",
       "      <td>0.210927</td>\n",
       "      <td>0.173856</td>\n",
       "      <td>0.290124</td>\n",
       "      <td>0.829494</td>\n",
       "      <td>1.000000</td>\n",
       "      <td>0.095683</td>\n",
       "    </tr>\n",
       "    <tr>\n",
       "      <th>numberOfDoors</th>\n",
       "      <td>0.076405</td>\n",
       "      <td>0.143139</td>\n",
       "      <td>0.151789</td>\n",
       "      <td>0.193601</td>\n",
       "      <td>0.130157</td>\n",
       "      <td>0.095683</td>\n",
       "      <td>1.000000</td>\n",
       "    </tr>\n",
       "  </tbody>\n",
       "</table>\n",
       "</div>"
      ],
      "text/plain": [
       "                      mileage  modelDate  productionDate  fuelType  \\\n",
       "mileage              1.000000   0.680170        0.712720  0.100115   \n",
       "modelDate            0.680170   1.000000        0.966798  0.166554   \n",
       "productionDate       0.712720   0.966798        1.000000  0.169102   \n",
       "fuelType             0.100115   0.166554        0.169102  1.000000   \n",
       "engineDisplacement2  0.060548   0.015261        0.047190  0.356467   \n",
       "enginePower          0.101698   0.210927        0.173856  0.290124   \n",
       "numberOfDoors        0.076405   0.143139        0.151789  0.193601   \n",
       "\n",
       "                     engineDisplacement2  enginePower  numberOfDoors  \n",
       "mileage                         0.060548     0.101698       0.076405  \n",
       "modelDate                       0.015261     0.210927       0.143139  \n",
       "productionDate                  0.047190     0.173856       0.151789  \n",
       "fuelType                        0.356467     0.290124       0.193601  \n",
       "engineDisplacement2             1.000000     0.829494       0.130157  \n",
       "enginePower                     0.829494     1.000000       0.095683  \n",
       "numberOfDoors                   0.130157     0.095683       1.000000  "
      ]
     },
     "metadata": {},
     "output_type": "display_data"
    },
    {
     "data": {
      "text/plain": [
       "<matplotlib.axes._subplots.AxesSubplot at 0x20fc1100988>"
      ]
     },
     "execution_count": 136,
     "metadata": {},
     "output_type": "execute_result"
    },
    {
     "data": {
      "image/png": "[encoded data removed]",
      "text/plain": [
       "<Figure size 720x360 with 2 Axes>"
      ]
     },
     "metadata": {
      "needs_background": "light"
     },
     "output_type": "display_data"
    }
   ],
   "source": [
    "plt.figure(figsize=(10,5))\n",
    "display(df[num_cols].corr().abs())\n",
    "sns.heatmap(df[num_cols].corr().abs(), vmin=0, vmax=1, annot=True)\n"
   ]
  },
  {
   "cell_type": "markdown",
   "metadata": {},
   "source": [
    "Как мы видим высокая корреляция между modelDate и productionDate, enginePower и engineDisplacement2\n",
    "Удалим признаки modelDate и enginePower, поскольку у них более высокая корреляция с другими признаками"
   ]
  },
  {
   "cell_type": "code",
   "execution_count": 137,
   "metadata": {},
   "outputs": [],
   "source": [
    "num_cols.remove(\"modelDate\")\n",
    "num_cols.remove(\"enginePower\")"
   ]
  },
  {
   "cell_type": "markdown",
   "metadata": {},
   "source": [
    "### Значимость переменных"
   ]
  },
  {
   "cell_type": "code",
   "execution_count": 138,
   "metadata": {
    "scrolled": true
   },
   "outputs": [
    {
     "data": {
      "text/plain": [
       "Text(0.5, 0, 'F-value')"
      ]
     },
     "execution_count": 138,
     "metadata": {},
     "output_type": "execute_result"
    },
    {
     "data": {
      "image/png": "[encoded data removed]",
      "text/plain": [
       "<Figure size 432x288 with 1 Axes>"
      ]
     },
     "metadata": {
      "needs_background": "light"
     },
     "output_type": "display_data"
    }
   ],
   "source": [
    "imp_num = pd.Series(f_classif(df[df['Train']==1][num_cols], df[df['Train']==1]['price'])[0], index = num_cols)\n",
    "imp_num.sort_values(inplace = True)\n",
    "imp_num.plot(kind = 'barh')\n",
    "plt.title('Significance of num variables')\n",
    "plt.xlabel('F-value')"
   ]
  },
  {
   "cell_type": "markdown",
   "metadata": {},
   "source": [
    "### Подготовка данных к машинному обучению"
   ]
  },
  {
   "cell_type": "code",
   "execution_count": 139,
   "metadata": {},
   "outputs": [
    {
     "name": "stdout",
     "output_type": "stream",
     "text": [
      "Кол-во столбцов, для дальнейшей работы после предварительного анализа:= 16\n"
     ]
    }
   ],
   "source": [
    "all_cols =cat_cols+num_cols+time_cols+servis_cols+bin_cols+ target_col\n",
    "print(f'Кол-во столбцов, для дальнейшей работы после предварительного анализа:= {len(all_cols)}')"
   ]
  },
  {
   "cell_type": "code",
   "execution_count": 140,
   "metadata": {},
   "outputs": [],
   "source": [
    "df2 = df[all_cols]"
   ]
  },
  {
   "cell_type": "code",
   "execution_count": 141,
   "metadata": {},
   "outputs": [
    {
     "data": {
      "text/html": [
       "<div>\n",
       "<style scoped>\n",
       "    .dataframe tbody tr th:only-of-type {\n",
       "        vertical-align: middle;\n",
       "    }\n",
       "\n",
       "    .dataframe tbody tr th {\n",
       "        vertical-align: top;\n",
       "    }\n",
       "\n",
       "    .dataframe thead th {\n",
       "        text-align: right;\n",
       "    }\n",
       "</style>\n",
       "<table border=\"1\" class=\"dataframe\">\n",
       "  <thead>\n",
       "    <tr style=\"text-align: right;\">\n",
       "      <th></th>\n",
       "      <th>Признак</th>\n",
       "      <th>Тип</th>\n",
       "      <th>Кол-во значений</th>\n",
       "      <th>Кол-во пропусков(NaN)</th>\n",
       "      <th>Кол-во уникальных</th>\n",
       "    </tr>\n",
       "  </thead>\n",
       "  <tbody>\n",
       "    <tr>\n",
       "      <th>0</th>\n",
       "      <td>bodyType</td>\n",
       "      <td>object</td>\n",
       "      <td>70371</td>\n",
       "      <td>0</td>\n",
       "      <td>11</td>\n",
       "    </tr>\n",
       "    <tr>\n",
       "      <th>1</th>\n",
       "      <td>brand</td>\n",
       "      <td>object</td>\n",
       "      <td>70371</td>\n",
       "      <td>0</td>\n",
       "      <td>36</td>\n",
       "    </tr>\n",
       "    <tr>\n",
       "      <th>2</th>\n",
       "      <td>color</td>\n",
       "      <td>object</td>\n",
       "      <td>70371</td>\n",
       "      <td>0</td>\n",
       "      <td>16</td>\n",
       "    </tr>\n",
       "    <tr>\n",
       "      <th>3</th>\n",
       "      <td>vehicleTransmission</td>\n",
       "      <td>object</td>\n",
       "      <td>70371</td>\n",
       "      <td>0</td>\n",
       "      <td>3</td>\n",
       "    </tr>\n",
       "    <tr>\n",
       "      <th>4</th>\n",
       "      <td>Привод</td>\n",
       "      <td>object</td>\n",
       "      <td>70371</td>\n",
       "      <td>0</td>\n",
       "      <td>3</td>\n",
       "    </tr>\n",
       "    <tr>\n",
       "      <th>5</th>\n",
       "      <td>Владельцы</td>\n",
       "      <td>int64</td>\n",
       "      <td>70371</td>\n",
       "      <td>0</td>\n",
       "      <td>4</td>\n",
       "    </tr>\n",
       "    <tr>\n",
       "      <th>6</th>\n",
       "      <td>ПТС</td>\n",
       "      <td>object</td>\n",
       "      <td>70371</td>\n",
       "      <td>0</td>\n",
       "      <td>3</td>\n",
       "    </tr>\n",
       "    <tr>\n",
       "      <th>7</th>\n",
       "      <td>model</td>\n",
       "      <td>object</td>\n",
       "      <td>70371</td>\n",
       "      <td>0</td>\n",
       "      <td>827</td>\n",
       "    </tr>\n",
       "    <tr>\n",
       "      <th>8</th>\n",
       "      <td>mileage</td>\n",
       "      <td>int64</td>\n",
       "      <td>70371</td>\n",
       "      <td>0</td>\n",
       "      <td>15026</td>\n",
       "    </tr>\n",
       "    <tr>\n",
       "      <th>9</th>\n",
       "      <td>productionDate</td>\n",
       "      <td>float64</td>\n",
       "      <td>70371</td>\n",
       "      <td>0</td>\n",
       "      <td>79</td>\n",
       "    </tr>\n",
       "    <tr>\n",
       "      <th>10</th>\n",
       "      <td>fuelType</td>\n",
       "      <td>int64</td>\n",
       "      <td>70371</td>\n",
       "      <td>0</td>\n",
       "      <td>4</td>\n",
       "    </tr>\n",
       "    <tr>\n",
       "      <th>11</th>\n",
       "      <td>engineDisplacement2</td>\n",
       "      <td>float64</td>\n",
       "      <td>70371</td>\n",
       "      <td>0</td>\n",
       "      <td>7</td>\n",
       "    </tr>\n",
       "    <tr>\n",
       "      <th>12</th>\n",
       "      <td>numberOfDoors</td>\n",
       "      <td>int64</td>\n",
       "      <td>70371</td>\n",
       "      <td>0</td>\n",
       "      <td>4</td>\n",
       "    </tr>\n",
       "    <tr>\n",
       "      <th>13</th>\n",
       "      <td>Train</td>\n",
       "      <td>int64</td>\n",
       "      <td>70371</td>\n",
       "      <td>0</td>\n",
       "      <td>2</td>\n",
       "    </tr>\n",
       "    <tr>\n",
       "      <th>14</th>\n",
       "      <td>id</td>\n",
       "      <td>float64</td>\n",
       "      <td>70371</td>\n",
       "      <td>0</td>\n",
       "      <td>70371</td>\n",
       "    </tr>\n",
       "    <tr>\n",
       "      <th>15</th>\n",
       "      <td>price</td>\n",
       "      <td>float64</td>\n",
       "      <td>67073</td>\n",
       "      <td>3298</td>\n",
       "      <td>6030</td>\n",
       "    </tr>\n",
       "  </tbody>\n",
       "</table>\n",
       "</div>"
      ],
      "text/plain": [
       "                Признак      Тип Кол-во значений Кол-во пропусков(NaN)  \\\n",
       "0              bodyType   object           70371                     0   \n",
       "1                 brand   object           70371                     0   \n",
       "2                 color   object           70371                     0   \n",
       "3   vehicleTransmission   object           70371                     0   \n",
       "4                Привод   object           70371                     0   \n",
       "5             Владельцы    int64           70371                     0   \n",
       "6                   ПТС   object           70371                     0   \n",
       "7                 model   object           70371                     0   \n",
       "8               mileage    int64           70371                     0   \n",
       "9        productionDate  float64           70371                     0   \n",
       "10             fuelType    int64           70371                     0   \n",
       "11  engineDisplacement2  float64           70371                     0   \n",
       "12        numberOfDoors    int64           70371                     0   \n",
       "13                Train    int64           70371                     0   \n",
       "14                   id  float64           70371                     0   \n",
       "15                price  float64           67073                  3298   \n",
       "\n",
       "   Кол-во уникальных  \n",
       "0                 11  \n",
       "1                 36  \n",
       "2                 16  \n",
       "3                  3  \n",
       "4                  3  \n",
       "5                  4  \n",
       "6                  3  \n",
       "7                827  \n",
       "8              15026  \n",
       "9                 79  \n",
       "10                 4  \n",
       "11                 7  \n",
       "12                 4  \n",
       "13                 2  \n",
       "14             70371  \n",
       "15              6030  "
      ]
     },
     "metadata": {},
     "output_type": "display_data"
    }
   ],
   "source": [
    "describe_cols(df2)"
   ]
  },
  {
   "cell_type": "code",
   "execution_count": 149,
   "metadata": {},
   "outputs": [],
   "source": [
    "df3 = pd.get_dummies(df2, columns = ['bodyType', 'brand', 'color', 'fuelType', 'vehicleTransmission', 'Привод', 'Владельцы', 'ПТС', 'model', 'engineDisplacement2'])"
   ]
  },
  {
   "cell_type": "code",
   "execution_count": 150,
   "metadata": {},
   "outputs": [
    {
     "data": {
      "text/plain": [
       "((3298, 918), (67073, 918), (67073, 917), (53658, 917), (13415, 917))"
      ]
     },
     "execution_count": 150,
     "metadata": {},
     "output_type": "execute_result"
    }
   ],
   "source": [
    "train_data = df3.query('Train == 1').drop(['Train', 'id'], axis=1)\n",
    "test_data = df3.query('Train == 0').drop(['Train', 'id'], axis=1)\n",
    "\n",
    "y = train_data.price            # наш таргет\n",
    "X = train_data.drop(['price'], axis=1)\n",
    "# Воспользуемся специальной функцие train_test_split для разбивки тестовых данных\n",
    "# выделим 10% данных на валидацию (параметр test_size)\n",
    "X_train, X_valid, y_train, y_valid = train_test_split(X, y, test_size=0.2, random_state=RANDOM_SEED)\n",
    "# проверяем\n",
    "test_data.shape, train_data.shape, X.shape, X_train.shape, X_valid.shape"
   ]
  },
  {
   "cell_type": "code",
   "execution_count": 147,
   "metadata": {
    "scrolled": true
   },
   "outputs": [
    {
     "data": {
      "text/plain": [
       "((3298, 14), (67073, 14), (67073, 13), (53658, 13), (13415, 13))"
      ]
     },
     "execution_count": 147,
     "metadata": {},
     "output_type": "execute_result"
    }
   ],
   "source": [
    "train_data = df2.query('Train == 1').drop(['Train', 'id'], axis=1)\n",
    "test_data = df2.query('Train == 0').drop(['Train', 'id'], axis=1)\n",
    "\n",
    "y = train_data.price            # наш таргет\n",
    "X = train_data.drop(['price'], axis=1)\n",
    "# Воспользуемся специальной функцие train_test_split для разбивки тестовых данных\n",
    "# выделим 10% данных на валидацию (параметр test_size)\n",
    "X_train, X_valid, y_train, y_valid = train_test_split(X, y, test_size=0.2, random_state=RANDOM_SEED)\n",
    "# проверяем\n",
    "test_data.shape, train_data.shape, X.shape, X_train.shape, X_valid.shape"
   ]
  },
  {
   "cell_type": "markdown",
   "metadata": {},
   "source": [
    "### Обучение моделей"
   ]
  },
  {
   "cell_type": "code",
   "execution_count": null,
   "metadata": {},
   "outputs": [],
   "source": [
    "def cat_model(y_train, X_train, X_test, y_test):\n",
    "    model = CatBoostRegressor(iterations = 3000,\n",
    "                              learning_rate = 0.01,\n",
    "                              eval_metric='MAPE',\n",
    "                              random_seed = RANDOM_SEED,)\n",
    "    model.fit(X_train, y_train,\n",
    "              eval_set=(X_test, y_test),\n",
    "              verbose=False,\n",
    "              use_best_model=True,\n",
    "              plot=False)\n",
    "    \n",
    "    return(model)\n",
    "\n",
    "\n",
    "def mape(y_train, y_pred):\n",
    "    return np.mean(np.abs((y_pred-y_train)/y_train))"
   ]
  },
  {
   "cell_type": "code",
   "execution_count": 152,
   "metadata": {},
   "outputs": [],
   "source": [
    "def MAPE(y_true, y_pred):\n",
    "        '''\n",
    "        mean absolute percentage error (средняя абсолютная процентная ошибка)\n",
    "        '''\n",
    "        return np.mean(np.abs((y_true - y_pred) / y_true)) * 100"
   ]
  },
  {
   "cell_type": "code",
   "execution_count": 159,
   "metadata": {},
   "outputs": [
    {
     "name": "stdout",
     "output_type": "stream",
     "text": [
      "0:\tlearn: 1.1155090\ttotal: 155ms\tremaining: 7.57s\n",
      "1:\tlearn: 0.7462590\ttotal: 163ms\tremaining: 3.92s\n",
      "2:\tlearn: 0.5504487\ttotal: 173ms\tremaining: 2.71s\n",
      "3:\tlearn: 0.5493096\ttotal: 181ms\tremaining: 2.09s\n",
      "4:\tlearn: 0.4635538\ttotal: 192ms\tremaining: 1.72s\n",
      "5:\tlearn: 0.4582061\ttotal: 200ms\tremaining: 1.47s\n",
      "6:\tlearn: 0.4579427\ttotal: 210ms\tremaining: 1.29s\n",
      "7:\tlearn: 0.4574756\ttotal: 218ms\tremaining: 1.15s\n",
      "8:\tlearn: 0.4554821\ttotal: 227ms\tremaining: 1.03s\n",
      "9:\tlearn: 0.4324024\ttotal: 237ms\tremaining: 947ms\n",
      "10:\tlearn: 0.3773915\ttotal: 246ms\tremaining: 871ms\n",
      "11:\tlearn: 0.3762315\ttotal: 255ms\tremaining: 807ms\n",
      "12:\tlearn: 0.3609148\ttotal: 264ms\tremaining: 751ms\n",
      "13:\tlearn: 0.3604844\ttotal: 273ms\tremaining: 701ms\n",
      "14:\tlearn: 0.3504186\ttotal: 282ms\tremaining: 658ms\n",
      "15:\tlearn: 0.3280472\ttotal: 292ms\tremaining: 620ms\n",
      "16:\tlearn: 0.3281877\ttotal: 301ms\tremaining: 584ms\n",
      "17:\tlearn: 0.3260362\ttotal: 311ms\tremaining: 552ms\n",
      "18:\tlearn: 0.3155699\ttotal: 321ms\tremaining: 523ms\n",
      "19:\tlearn: 0.3127180\ttotal: 330ms\tremaining: 495ms\n",
      "20:\tlearn: 0.3055042\ttotal: 340ms\tremaining: 469ms\n",
      "21:\tlearn: 0.3049963\ttotal: 349ms\tremaining: 444ms\n",
      "22:\tlearn: 0.3039317\ttotal: 358ms\tremaining: 420ms\n",
      "23:\tlearn: 0.3027799\ttotal: 367ms\tremaining: 398ms\n",
      "24:\tlearn: 0.3025574\ttotal: 376ms\tremaining: 376ms\n",
      "25:\tlearn: 0.2903005\ttotal: 384ms\tremaining: 354ms\n",
      "26:\tlearn: 0.2897094\ttotal: 393ms\tremaining: 335ms\n",
      "27:\tlearn: 0.2878157\ttotal: 402ms\tremaining: 316ms\n",
      "28:\tlearn: 0.2860951\ttotal: 410ms\tremaining: 297ms\n",
      "29:\tlearn: 0.2860317\ttotal: 419ms\tremaining: 279ms\n",
      "30:\tlearn: 0.2800202\ttotal: 428ms\tremaining: 262ms\n",
      "31:\tlearn: 0.2799473\ttotal: 436ms\tremaining: 245ms\n",
      "32:\tlearn: 0.2769622\ttotal: 445ms\tremaining: 229ms\n",
      "33:\tlearn: 0.2716867\ttotal: 454ms\tremaining: 214ms\n",
      "34:\tlearn: 0.2665413\ttotal: 463ms\tremaining: 199ms\n",
      "35:\tlearn: 0.2664774\ttotal: 471ms\tremaining: 183ms\n",
      "36:\tlearn: 0.2669393\ttotal: 480ms\tremaining: 169ms\n",
      "37:\tlearn: 0.2595724\ttotal: 489ms\tremaining: 154ms\n",
      "38:\tlearn: 0.2563750\ttotal: 497ms\tremaining: 140ms\n",
      "39:\tlearn: 0.2562797\ttotal: 505ms\tremaining: 126ms\n",
      "40:\tlearn: 0.2547595\ttotal: 515ms\tremaining: 113ms\n",
      "41:\tlearn: 0.2547336\ttotal: 524ms\tremaining: 99.7ms\n",
      "42:\tlearn: 0.2549460\ttotal: 532ms\tremaining: 86.7ms\n",
      "43:\tlearn: 0.2527446\ttotal: 542ms\tremaining: 73.9ms\n",
      "44:\tlearn: 0.2432088\ttotal: 551ms\tremaining: 61.2ms\n",
      "45:\tlearn: 0.2429128\ttotal: 560ms\tremaining: 48.7ms\n",
      "46:\tlearn: 0.2424411\ttotal: 568ms\tremaining: 36.3ms\n",
      "47:\tlearn: 0.2412914\ttotal: 577ms\tremaining: 24ms\n",
      "48:\tlearn: 0.2412183\ttotal: 587ms\tremaining: 12ms\n",
      "49:\tlearn: 0.2408943\ttotal: 596ms\tremaining: 0us\n",
      "Wall time: 1.1 s\n"
     ]
    },
    {
     "data": {
      "text/plain": [
       "24.412797273607996"
      ]
     },
     "execution_count": 159,
     "metadata": {},
     "output_type": "execute_result"
    }
   ],
   "source": [
    "%%time\n",
    "model = CatBoostRegressor(iterations=50, learning_rate = 0.5,\n",
    "                              eval_metric='MAPE',\n",
    "                              random_seed = RANDOM_SEED,)\n",
    "model.fit(X_train, y_train)\n",
    "y_pred = model.predict(X_valid)\n",
    "MAPE(y_valid, y_pred)"
   ]
  },
  {
   "cell_type": "code",
   "execution_count": 160,
   "metadata": {},
   "outputs": [
    {
     "name": "stderr",
     "output_type": "stream",
     "text": [
      "[Parallel(n_jobs=-1)]: Using backend ThreadingBackend with 12 concurrent workers.\n",
      "[Parallel(n_jobs=-1)]: Done  26 tasks      | elapsed:   11.3s\n",
      "[Parallel(n_jobs=-1)]: Done 100 out of 100 | elapsed:   33.7s finished\n",
      "[Parallel(n_jobs=12)]: Using backend ThreadingBackend with 12 concurrent workers.\n",
      "[Parallel(n_jobs=12)]: Done  26 tasks      | elapsed:    0.0s\n",
      "[Parallel(n_jobs=12)]: Done 100 out of 100 | elapsed:    0.1s finished\n"
     ]
    },
    {
     "name": "stdout",
     "output_type": "stream",
     "text": [
      "Wall time: 34.5 s\n"
     ]
    },
    {
     "data": {
      "text/plain": [
       "14.472851263248247"
      ]
     },
     "execution_count": 160,
     "metadata": {},
     "output_type": "execute_result"
    }
   ],
   "source": [
    "%%time\n",
    "model = RandomForestRegressor(random_state = RANDOM_SEED, n_jobs = -1, verbose = 1)\n",
    "model.fit(X_train, y_train)\n",
    "y_pred = model.predict(X_valid)\n",
    "MAPE(y_valid, y_pred)"
   ]
  },
  {
   "cell_type": "code",
   "execution_count": 162,
   "metadata": {},
   "outputs": [
    {
     "name": "stdout",
     "output_type": "stream",
     "text": [
      "Wall time: 52.1 s\n"
     ]
    },
    {
     "data": {
      "text/plain": [
       "31.260478290977595"
      ]
     },
     "execution_count": 162,
     "metadata": {},
     "output_type": "execute_result"
    }
   ],
   "source": [
    "%%time\n",
    "gbr = GradientBoostingRegressor(n_estimators=100)\n",
    "gbr.fit(X_train, y_train)\n",
    "y_pred = gbr.predict(X_valid)\n",
    "MAPE(y_valid, y_pred)"
   ]
  },
  {
   "cell_type": "code",
   "execution_count": 163,
   "metadata": {},
   "outputs": [
    {
     "name": "stdout",
     "output_type": "stream",
     "text": [
      "Wall time: 2.86 s\n"
     ]
    },
    {
     "data": {
      "text/plain": [
       "19.035662772141194"
      ]
     },
     "execution_count": 163,
     "metadata": {},
     "output_type": "execute_result"
    }
   ],
   "source": [
    "%%time\n",
    "etr = ExtraTreeRegressor(random_state = RANDOM_SEED)\n",
    "etr.fit(X_train, y_train)\n",
    "y_pred = etr.predict(X_valid)\n",
    "MAPE(y_valid, y_pred)"
   ]
  },
  {
   "cell_type": "code",
   "execution_count": 164,
   "metadata": {
    "scrolled": true
   },
   "outputs": [
    {
     "name": "stdout",
     "output_type": "stream",
     "text": [
      "Wall time: 3.18 s\n"
     ]
    },
    {
     "data": {
      "text/plain": [
       "4826.516862317479"
      ]
     },
     "execution_count": 164,
     "metadata": {},
     "output_type": "execute_result"
    }
   ],
   "source": [
    "%%time\n",
    "lr = LinearRegression()\n",
    "lr.fit(X_train, y_train)\n",
    "y_pred = lr.predict(X_valid)\n",
    "MAPE(y_valid, y_pred)"
   ]
  },
  {
   "cell_type": "code",
   "execution_count": 165,
   "metadata": {},
   "outputs": [
    {
     "name": "stderr",
     "output_type": "stream",
     "text": [
      "[Parallel(n_jobs=-1)]: Using backend ThreadingBackend with 12 concurrent workers.\n",
      "[Parallel(n_jobs=-1)]: Done  26 tasks      | elapsed:   13.3s\n",
      "[Parallel(n_jobs=-1)]: Done 100 out of 100 | elapsed:   40.9s finished\n",
      "[Parallel(n_jobs=12)]: Using backend ThreadingBackend with 12 concurrent workers.\n",
      "[Parallel(n_jobs=12)]: Done  26 tasks      | elapsed:    0.0s\n",
      "[Parallel(n_jobs=12)]: Done 100 out of 100 | elapsed:    0.0s finished\n"
     ]
    },
    {
     "name": "stdout",
     "output_type": "stream",
     "text": [
      "Wall time: 41.6 s\n"
     ]
    },
    {
     "data": {
      "text/plain": [
       "14.472851263248247"
      ]
     },
     "execution_count": 165,
     "metadata": {},
     "output_type": "execute_result"
    }
   ],
   "source": [
    "%%time\n",
    "model = RandomForestRegressor(random_state = RANDOM_SEED, n_jobs = -1, verbose = 1)\n",
    "model.fit(X_train, y_train)\n",
    "y_pred = model.predict(X_valid)\n",
    "MAPE(y_valid, y_pred)"
   ]
  },
  {
   "cell_type": "markdown",
   "metadata": {},
   "source": [
    "Итого лучший показатель у RandomForest MAPE - 14.472851263248247"
   ]
  }
 ],
 "metadata": {
  "kernelspec": {
   "display_name": "Python 3",
   "language": "python",
   "name": "python3"
  },
  "language_info": {
   "codemirror_mode": {
    "name": "ipython",
    "version": 3
   },
   "file_extension": ".py",
   "mimetype": "text/x-python",
   "name": "python",
   "nbconvert_exporter": "python",
   "pygments_lexer": "ipython3",
   "version": "3.7.6"
  }
 },
 "nbformat": 4,
 "nbformat_minor": 4
}
