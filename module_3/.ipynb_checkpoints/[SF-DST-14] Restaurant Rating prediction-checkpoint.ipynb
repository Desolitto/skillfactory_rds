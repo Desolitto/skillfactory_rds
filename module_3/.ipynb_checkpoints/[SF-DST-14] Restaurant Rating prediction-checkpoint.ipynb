{
 "cells": [
  {
   "cell_type": "markdown",
   "metadata": {},
   "source": [
    "# Итоговое задание по Проект 3. О вкусной и здоровой пище \n",
    "***\n",
    "### Импорт библиотек"
   ]
  },
  {
   "cell_type": "code",
   "execution_count": 1,
   "metadata": {},
   "outputs": [],
   "source": [
    "import pandas as pd\n",
    "import numpy as np\n",
    "from datetime import datetime\n",
    "from datetime import timedelta\n",
    "import datetime\n",
    "import os\n",
    "import matplotlib.pyplot as plt\n",
    "import seaborn as sns \n",
    "%matplotlib inline\n",
    "import re\n",
    "from sklearn.model_selection import train_test_split # Загружаем специальный инструмент для разбивки:\n",
    "from sklearn.ensemble import RandomForestRegressor # инструмент для создания и обучения модели\n",
    "from sklearn import metrics # инструменты для оценки точности модели"
   ]
  },
  {
   "cell_type": "markdown",
   "metadata": {},
   "source": [
    "### Импорт данных"
   ]
  },
  {
   "cell_type": "code",
   "execution_count": 2,
   "metadata": {
    "scrolled": false
   },
   "outputs": [
    {
     "data": {
      "text/html": [
       "<div>\n",
       "<style scoped>\n",
       "    .dataframe tbody tr th:only-of-type {\n",
       "        vertical-align: middle;\n",
       "    }\n",
       "\n",
       "    .dataframe tbody tr th {\n",
       "        vertical-align: top;\n",
       "    }\n",
       "\n",
       "    .dataframe thead th {\n",
       "        text-align: right;\n",
       "    }\n",
       "</style>\n",
       "<table border=\"1\" class=\"dataframe\">\n",
       "  <thead>\n",
       "    <tr style=\"text-align: right;\">\n",
       "      <th></th>\n",
       "      <th>Restaurant_id</th>\n",
       "      <th>City</th>\n",
       "      <th>Cuisine_Style</th>\n",
       "      <th>Ranking</th>\n",
       "      <th>Rating</th>\n",
       "      <th>Price_Range</th>\n",
       "      <th>Number_of_Reviews</th>\n",
       "      <th>Reviews</th>\n",
       "      <th>URL_TA</th>\n",
       "      <th>ID_TA</th>\n",
       "    </tr>\n",
       "  </thead>\n",
       "  <tbody>\n",
       "    <tr>\n",
       "      <th>0</th>\n",
       "      <td>id_5569</td>\n",
       "      <td>Paris</td>\n",
       "      <td>['European', 'French', 'International']</td>\n",
       "      <td>5570.0</td>\n",
       "      <td>3.5</td>\n",
       "      <td>$$ - $$$</td>\n",
       "      <td>194.0</td>\n",
       "      <td>[['Good food at your doorstep', 'A good hotel ...</td>\n",
       "      <td>/Restaurant_Review-g187147-d1912643-Reviews-R_...</td>\n",
       "      <td>d1912643</td>\n",
       "    </tr>\n",
       "    <tr>\n",
       "      <th>1</th>\n",
       "      <td>id_1535</td>\n",
       "      <td>Stockholm</td>\n",
       "      <td>NaN</td>\n",
       "      <td>1537.0</td>\n",
       "      <td>4.0</td>\n",
       "      <td>NaN</td>\n",
       "      <td>10.0</td>\n",
       "      <td>[['Unique cuisine', 'Delicious Nepalese food']...</td>\n",
       "      <td>/Restaurant_Review-g189852-d7992032-Reviews-Bu...</td>\n",
       "      <td>d7992032</td>\n",
       "    </tr>\n",
       "    <tr>\n",
       "      <th>2</th>\n",
       "      <td>id_352</td>\n",
       "      <td>London</td>\n",
       "      <td>['Japanese', 'Sushi', 'Asian', 'Grill', 'Veget...</td>\n",
       "      <td>353.0</td>\n",
       "      <td>4.5</td>\n",
       "      <td>$$$$</td>\n",
       "      <td>688.0</td>\n",
       "      <td>[['Catch up with friends', 'Not exceptional'],...</td>\n",
       "      <td>/Restaurant_Review-g186338-d8632781-Reviews-RO...</td>\n",
       "      <td>d8632781</td>\n",
       "    </tr>\n",
       "    <tr>\n",
       "      <th>3</th>\n",
       "      <td>id_3456</td>\n",
       "      <td>Berlin</td>\n",
       "      <td>NaN</td>\n",
       "      <td>3458.0</td>\n",
       "      <td>5.0</td>\n",
       "      <td>NaN</td>\n",
       "      <td>3.0</td>\n",
       "      <td>[[], []]</td>\n",
       "      <td>/Restaurant_Review-g187323-d1358776-Reviews-Es...</td>\n",
       "      <td>d1358776</td>\n",
       "    </tr>\n",
       "    <tr>\n",
       "      <th>4</th>\n",
       "      <td>id_615</td>\n",
       "      <td>Munich</td>\n",
       "      <td>['German', 'Central European', 'Vegetarian Fri...</td>\n",
       "      <td>621.0</td>\n",
       "      <td>4.0</td>\n",
       "      <td>$$ - $$$</td>\n",
       "      <td>84.0</td>\n",
       "      <td>[['Best place to try a Bavarian food', 'Nice b...</td>\n",
       "      <td>/Restaurant_Review-g187309-d6864963-Reviews-Au...</td>\n",
       "      <td>d6864963</td>\n",
       "    </tr>\n",
       "  </tbody>\n",
       "</table>\n",
       "</div>"
      ],
      "text/plain": [
       "  Restaurant_id       City                                      Cuisine_Style  \\\n",
       "0       id_5569      Paris            ['European', 'French', 'International']   \n",
       "1       id_1535  Stockholm                                                NaN   \n",
       "2        id_352     London  ['Japanese', 'Sushi', 'Asian', 'Grill', 'Veget...   \n",
       "3       id_3456     Berlin                                                NaN   \n",
       "4        id_615     Munich  ['German', 'Central European', 'Vegetarian Fri...   \n",
       "\n",
       "   Ranking  Rating Price_Range  Number_of_Reviews  \\\n",
       "0   5570.0     3.5    $$ - $$$              194.0   \n",
       "1   1537.0     4.0         NaN               10.0   \n",
       "2    353.0     4.5        $$$$              688.0   \n",
       "3   3458.0     5.0         NaN                3.0   \n",
       "4    621.0     4.0    $$ - $$$               84.0   \n",
       "\n",
       "                                             Reviews  \\\n",
       "0  [['Good food at your doorstep', 'A good hotel ...   \n",
       "1  [['Unique cuisine', 'Delicious Nepalese food']...   \n",
       "2  [['Catch up with friends', 'Not exceptional'],...   \n",
       "3                                           [[], []]   \n",
       "4  [['Best place to try a Bavarian food', 'Nice b...   \n",
       "\n",
       "                                              URL_TA     ID_TA  \n",
       "0  /Restaurant_Review-g187147-d1912643-Reviews-R_...  d1912643  \n",
       "1  /Restaurant_Review-g189852-d7992032-Reviews-Bu...  d7992032  \n",
       "2  /Restaurant_Review-g186338-d8632781-Reviews-RO...  d8632781  \n",
       "3  /Restaurant_Review-g187323-d1358776-Reviews-Es...  d1358776  \n",
       "4  /Restaurant_Review-g187309-d6864963-Reviews-Au...  d6864963  "
      ]
     },
     "execution_count": 2,
     "metadata": {},
     "output_type": "execute_result"
    }
   ],
   "source": [
    "df = pd.read_csv('main_task.csv')\n",
    "df.columns = ['Restaurant_id', 'City', 'Cuisine_Style', 'Ranking', 'Rating',\n",
    "       'Price_Range', 'Number_of_Reviews', 'Reviews', 'URL_TA', 'ID_TA']\n",
    "df.head()"
   ]
  },
  {
   "cell_type": "markdown",
   "metadata": {},
   "source": [
    "### Детальный анализ по переменным"
   ]
  },
  {
   "cell_type": "code",
   "execution_count": 3,
   "metadata": {
    "scrolled": false
   },
   "outputs": [
    {
     "name": "stdout",
     "output_type": "stream",
     "text": [
      "<class 'pandas.core.frame.DataFrame'>\n",
      "RangeIndex: 40000 entries, 0 to 39999\n",
      "Data columns (total 10 columns):\n",
      " #   Column             Non-Null Count  Dtype  \n",
      "---  ------             --------------  -----  \n",
      " 0   Restaurant_id      40000 non-null  object \n",
      " 1   City               40000 non-null  object \n",
      " 2   Cuisine_Style      30717 non-null  object \n",
      " 3   Ranking            40000 non-null  float64\n",
      " 4   Rating             40000 non-null  float64\n",
      " 5   Price_Range        26114 non-null  object \n",
      " 6   Number_of_Reviews  37457 non-null  float64\n",
      " 7   Reviews            40000 non-null  object \n",
      " 8   URL_TA             40000 non-null  object \n",
      " 9   ID_TA              40000 non-null  object \n",
      "dtypes: float64(3), object(7)\n",
      "memory usage: 3.1+ MB\n"
     ]
    }
   ],
   "source": [
    "df.info()"
   ]
  },
  {
   "cell_type": "markdown",
   "metadata": {},
   "source": [
    "### 1. Restaurant_id \n",
    "##### — идентификационный номер ресторана / сети ресторанов;"
   ]
  },
  {
   "cell_type": "code",
   "execution_count": 4,
   "metadata": {},
   "outputs": [
    {
     "data": {
      "text/html": [
       "<div>\n",
       "<style scoped>\n",
       "    .dataframe tbody tr th:only-of-type {\n",
       "        vertical-align: middle;\n",
       "    }\n",
       "\n",
       "    .dataframe tbody tr th {\n",
       "        vertical-align: top;\n",
       "    }\n",
       "\n",
       "    .dataframe thead th {\n",
       "        text-align: right;\n",
       "    }\n",
       "</style>\n",
       "<table border=\"1\" class=\"dataframe\">\n",
       "  <thead>\n",
       "    <tr style=\"text-align: right;\">\n",
       "      <th></th>\n",
       "      <th>Restaurant_id</th>\n",
       "      <th>City</th>\n",
       "      <th>Cuisine_Style</th>\n",
       "      <th>Ranking</th>\n",
       "      <th>Rating</th>\n",
       "      <th>Price_Range</th>\n",
       "      <th>Number_of_Reviews</th>\n",
       "      <th>Reviews</th>\n",
       "      <th>URL_TA</th>\n",
       "      <th>ID_TA</th>\n",
       "    </tr>\n",
       "  </thead>\n",
       "  <tbody>\n",
       "    <tr>\n",
       "      <th>0</th>\n",
       "      <td>5569.0</td>\n",
       "      <td>Paris</td>\n",
       "      <td>['European', 'French', 'International']</td>\n",
       "      <td>5570.0</td>\n",
       "      <td>3.5</td>\n",
       "      <td>$$ - $$$</td>\n",
       "      <td>194.0</td>\n",
       "      <td>[['Good food at your doorstep', 'A good hotel ...</td>\n",
       "      <td>/Restaurant_Review-g187147-d1912643-Reviews-R_...</td>\n",
       "      <td>d1912643</td>\n",
       "    </tr>\n",
       "    <tr>\n",
       "      <th>1</th>\n",
       "      <td>1535.0</td>\n",
       "      <td>Stockholm</td>\n",
       "      <td>NaN</td>\n",
       "      <td>1537.0</td>\n",
       "      <td>4.0</td>\n",
       "      <td>NaN</td>\n",
       "      <td>10.0</td>\n",
       "      <td>[['Unique cuisine', 'Delicious Nepalese food']...</td>\n",
       "      <td>/Restaurant_Review-g189852-d7992032-Reviews-Bu...</td>\n",
       "      <td>d7992032</td>\n",
       "    </tr>\n",
       "    <tr>\n",
       "      <th>2</th>\n",
       "      <td>352.0</td>\n",
       "      <td>London</td>\n",
       "      <td>['Japanese', 'Sushi', 'Asian', 'Grill', 'Veget...</td>\n",
       "      <td>353.0</td>\n",
       "      <td>4.5</td>\n",
       "      <td>$$$$</td>\n",
       "      <td>688.0</td>\n",
       "      <td>[['Catch up with friends', 'Not exceptional'],...</td>\n",
       "      <td>/Restaurant_Review-g186338-d8632781-Reviews-RO...</td>\n",
       "      <td>d8632781</td>\n",
       "    </tr>\n",
       "  </tbody>\n",
       "</table>\n",
       "</div>"
      ],
      "text/plain": [
       "   Restaurant_id       City  \\\n",
       "0         5569.0      Paris   \n",
       "1         1535.0  Stockholm   \n",
       "2          352.0     London   \n",
       "\n",
       "                                       Cuisine_Style  Ranking  Rating  \\\n",
       "0            ['European', 'French', 'International']   5570.0     3.5   \n",
       "1                                                NaN   1537.0     4.0   \n",
       "2  ['Japanese', 'Sushi', 'Asian', 'Grill', 'Veget...    353.0     4.5   \n",
       "\n",
       "  Price_Range  Number_of_Reviews  \\\n",
       "0    $$ - $$$              194.0   \n",
       "1         NaN               10.0   \n",
       "2        $$$$              688.0   \n",
       "\n",
       "                                             Reviews  \\\n",
       "0  [['Good food at your doorstep', 'A good hotel ...   \n",
       "1  [['Unique cuisine', 'Delicious Nepalese food']...   \n",
       "2  [['Catch up with friends', 'Not exceptional'],...   \n",
       "\n",
       "                                              URL_TA     ID_TA  \n",
       "0  /Restaurant_Review-g187147-d1912643-Reviews-R_...  d1912643  \n",
       "1  /Restaurant_Review-g189852-d7992032-Reviews-Bu...  d7992032  \n",
       "2  /Restaurant_Review-g186338-d8632781-Reviews-RO...  d8632781  "
      ]
     },
     "execution_count": 4,
     "metadata": {},
     "output_type": "execute_result"
    }
   ],
   "source": [
    "df['Restaurant_id'] = df['Restaurant_id'].apply(lambda x: float(x[3:]))\n",
    "df.head(3)"
   ]
  },
  {
   "cell_type": "markdown",
   "metadata": {},
   "source": [
    "#### Переменная Restaurant_id\n",
    "Преобразован идентификационный номер ресторана в числовое значение.\\\n",
    "Визуально видно, что данный признак схож с признаком Ranking.\\\n",
    "Пока что оставим его, но впоследствии проверим их корреляцию."
   ]
  },
  {
   "cell_type": "markdown",
   "metadata": {},
   "source": [
    "### 2. City\n",
    "##### — город, в котором находится ресторан;"
   ]
  },
  {
   "cell_type": "code",
   "execution_count": 5,
   "metadata": {
    "scrolled": false
   },
   "outputs": [
    {
     "name": "stdout",
     "output_type": "stream",
     "text": [
      "Количество городов в датасете - 31\n",
      "['Paris' 'Stockholm' 'London' 'Berlin' 'Munich' 'Oporto' 'Milan'\n",
      " 'Bratislava' 'Vienna' 'Rome' 'Barcelona' 'Madrid' 'Dublin' 'Brussels'\n",
      " 'Zurich' 'Warsaw' 'Budapest' 'Copenhagen' 'Amsterdam' 'Lyon' 'Hamburg'\n",
      " 'Lisbon' 'Prague' 'Oslo' 'Helsinki' 'Edinburgh' 'Geneva' 'Ljubljana'\n",
      " 'Athens' 'Luxembourg' 'Krakow']\n"
     ]
    }
   ],
   "source": [
    "print(f'Количество городов в датасете - {len(df.City.unique())}')\n",
    "print(df.City.unique())"
   ]
  },
  {
   "cell_type": "markdown",
   "metadata": {},
   "source": [
    "Введем признак столичного расположения ресторана"
   ]
  },
  {
   "cell_type": "code",
   "execution_count": 6,
   "metadata": {},
   "outputs": [],
   "source": [
    "not_capital = [\"Krakow\", \"Lyon\",\"Zurich\",\"Hamburg\",\"Barcelona\",\"Oporto\",\"Munich\",\"Milan\",\"Geneva\"]"
   ]
  },
  {
   "cell_type": "code",
   "execution_count": 7,
   "metadata": {},
   "outputs": [
    {
     "name": "stdout",
     "output_type": "stream",
     "text": [
      "Количество ресторанов в столицах:30424\n",
      "Количество остальных ресторанов :9576\n"
     ]
    }
   ],
   "source": [
    "capital_rest=[]\n",
    "other_city_rest=[]\n",
    "for i in df['City']:\n",
    "    if i in not_capital:\n",
    "        other_city_rest.append(i)\n",
    "    else:\n",
    "        capital_rest.append(i)\n",
    "        \n",
    "print(f'Количество ресторанов в столицах:{len(capital_rest)}')\n",
    "print(f'Количество остальных ресторанов :{len(other_city_rest)}')"
   ]
  },
  {
   "cell_type": "code",
   "execution_count": 8,
   "metadata": {},
   "outputs": [
    {
     "data": {
      "text/html": [
       "<div>\n",
       "<style scoped>\n",
       "    .dataframe tbody tr th:only-of-type {\n",
       "        vertical-align: middle;\n",
       "    }\n",
       "\n",
       "    .dataframe tbody tr th {\n",
       "        vertical-align: top;\n",
       "    }\n",
       "\n",
       "    .dataframe thead th {\n",
       "        text-align: right;\n",
       "    }\n",
       "</style>\n",
       "<table border=\"1\" class=\"dataframe\">\n",
       "  <thead>\n",
       "    <tr style=\"text-align: right;\">\n",
       "      <th></th>\n",
       "      <th>Capital_restaurant</th>\n",
       "    </tr>\n",
       "  </thead>\n",
       "  <tbody>\n",
       "    <tr>\n",
       "      <th>0</th>\n",
       "      <td>1</td>\n",
       "    </tr>\n",
       "    <tr>\n",
       "      <th>1</th>\n",
       "      <td>1</td>\n",
       "    </tr>\n",
       "    <tr>\n",
       "      <th>2</th>\n",
       "      <td>1</td>\n",
       "    </tr>\n",
       "    <tr>\n",
       "      <th>3</th>\n",
       "      <td>1</td>\n",
       "    </tr>\n",
       "    <tr>\n",
       "      <th>4</th>\n",
       "      <td>0</td>\n",
       "    </tr>\n",
       "  </tbody>\n",
       "</table>\n",
       "</div>"
      ],
      "text/plain": [
       "   Capital_restaurant\n",
       "0                   1\n",
       "1                   1\n",
       "2                   1\n",
       "3                   1\n",
       "4                   0"
      ]
     },
     "execution_count": 8,
     "metadata": {},
     "output_type": "execute_result"
    }
   ],
   "source": [
    "df['Capital_restaurant']=df['City'].apply(lambda x: 0 if x in not_capital else 1)\n",
    "df[['Capital_restaurant']].head()"
   ]
  },
  {
   "cell_type": "markdown",
   "metadata": {},
   "source": [
    "Переведем признак City в dummy-переменные"
   ]
  },
  {
   "cell_type": "code",
   "execution_count": 9,
   "metadata": {
    "scrolled": true
   },
   "outputs": [],
   "source": [
    "df_City_dummies = pd.get_dummies(df['City'], dummy_na=False).astype('float64')\n",
    "df = pd.concat([df,df_City_dummies], axis=1)"
   ]
  },
  {
   "cell_type": "markdown",
   "metadata": {},
   "source": [
    "#### Переменная City\n",
    "Без пропусков, категориальный признак.\n",
    "Сгенерированы новые признаки города по типу dummies.\\\n",
    "А также численный признак столичного расположения ресторана - Capital_restaurant."
   ]
  },
  {
   "cell_type": "markdown",
   "metadata": {},
   "source": [
    "### 3. Cuisine_Style\n",
    "##### — кухня или кухни, к которым можно отнести блюда, предлагаемые в ресторане;"
   ]
  },
  {
   "cell_type": "code",
   "execution_count": 10,
   "metadata": {
    "scrolled": true
   },
   "outputs": [
    {
     "data": {
      "text/plain": [
       "0.0    30717\n",
       "1.0     9283\n",
       "Name: Cuisine_Style, dtype: int64"
      ]
     },
     "execution_count": 10,
     "metadata": {},
     "output_type": "execute_result"
    }
   ],
   "source": [
    "(pd.isna(df['Cuisine_Style']).astype('float64')).value_counts()"
   ]
  },
  {
   "cell_type": "code",
   "execution_count": 11,
   "metadata": {
    "scrolled": true
   },
   "outputs": [],
   "source": [
    "# проведем обработку значений переменной\n",
    "df['Cuisine_Style']= df['Cuisine_Style'].str.replace(r'[\\[\\]\\']','')\n",
    "# заполним пропуски значением 'Unspecified'\n",
    "df['Cuisine_Style'] = df['Cuisine_Style'].fillna('Unspecified')\n",
    "#посчитаем количество кухонь в каждом ресторане\n",
    "df['Сount_Сuisine'] = df.Cuisine_Style.apply(lambda x: len(x.split(',')))"
   ]
  },
  {
   "cell_type": "markdown",
   "metadata": {},
   "source": [
    "#### Переменная Cuisine_Style\n",
    "9283 пропусков. заменим их на значение - 'Unspecified'.\\\n",
    "Сгенерирован новый признак количества кухонь в каждом ресторане - 'Сount_Сuisine'"
   ]
  },
  {
   "cell_type": "markdown",
   "metadata": {},
   "source": [
    "### 4. Ranking\n",
    "##### — место, которое занимает данный ресторан среди всех ресторанов своего города;"
   ]
  },
  {
   "cell_type": "code",
   "execution_count": 12,
   "metadata": {},
   "outputs": [
    {
     "data": {
      "text/plain": [
       "count    40000.000000\n",
       "mean      3676.028525\n",
       "std       3708.749567\n",
       "min          1.000000\n",
       "25%        973.000000\n",
       "50%       2285.000000\n",
       "75%       5260.000000\n",
       "max      16444.000000\n",
       "Name: Ranking, dtype: float64"
      ]
     },
     "execution_count": 12,
     "metadata": {},
     "output_type": "execute_result"
    }
   ],
   "source": [
    "df.Ranking.describe()"
   ]
  },
  {
   "cell_type": "code",
   "execution_count": 13,
   "metadata": {
    "scrolled": true
   },
   "outputs": [
    {
     "data": {
      "text/html": [
       "<div>\n",
       "<style scoped>\n",
       "    .dataframe tbody tr th:only-of-type {\n",
       "        vertical-align: middle;\n",
       "    }\n",
       "\n",
       "    .dataframe tbody tr th {\n",
       "        vertical-align: top;\n",
       "    }\n",
       "\n",
       "    .dataframe thead th {\n",
       "        text-align: right;\n",
       "    }\n",
       "</style>\n",
       "<table border=\"1\" class=\"dataframe\">\n",
       "  <thead>\n",
       "    <tr style=\"text-align: right;\">\n",
       "      <th></th>\n",
       "      <th>Restaurant_id</th>\n",
       "      <th>Ranking</th>\n",
       "    </tr>\n",
       "  </thead>\n",
       "  <tbody>\n",
       "    <tr>\n",
       "      <th>Restaurant_id</th>\n",
       "      <td>1.0</td>\n",
       "      <td>1.0</td>\n",
       "    </tr>\n",
       "    <tr>\n",
       "      <th>Ranking</th>\n",
       "      <td>1.0</td>\n",
       "      <td>1.0</td>\n",
       "    </tr>\n",
       "  </tbody>\n",
       "</table>\n",
       "</div>"
      ],
      "text/plain": [
       "               Restaurant_id  Ranking\n",
       "Restaurant_id            1.0      1.0\n",
       "Ranking                  1.0      1.0"
      ]
     },
     "execution_count": 13,
     "metadata": {},
     "output_type": "execute_result"
    }
   ],
   "source": [
    "df[['Restaurant_id','Ranking']].corr()"
   ]
  },
  {
   "cell_type": "code",
   "execution_count": 14,
   "metadata": {},
   "outputs": [],
   "source": [
    "df = df.drop(['Restaurant_id'], axis=1)"
   ]
  },
  {
   "cell_type": "markdown",
   "metadata": {},
   "source": [
    "#### Переменная Ranking\n",
    "Без пропусков. Полностью скоррелирована с Restaurant_id.\\\n",
    "Следовательно Restaurant_id можно удалить"
   ]
  },
  {
   "cell_type": "markdown",
   "metadata": {},
   "source": [
    "Попробуем также выяснить, как население городов влияет на место,\\\n",
    "которое занимает данный ресторан среди всех ресторанов своего города.\\\n",
    "Для этого необходимо ввести данные о количестве населения."
   ]
  },
  {
   "cell_type": "code",
   "execution_count": 15,
   "metadata": {},
   "outputs": [],
   "source": [
    "Сity_population= {'London' : 8539, 'Paris' : 2197, 'Madrid' : 3222, 'Barcelona' : 1621, \n",
    "                        'Berlin' : 3723, 'Milan' : 1342, 'Rome' : 2869, 'Prague' : 1281, \n",
    "                        'Lisbon' : 506, 'Vienna' : 1889, 'Amsterdam' : 866, 'Brussels' : 179, \n",
    "                        'Hamburg' : 1718, 'Munich' : 1450, 'Lyon' : 516, 'Stockholm' : 961, \n",
    "                        'Budapest' : 1745, 'Warsaw' : 1790, 'Dublin' : 554, \n",
    "                        'Copenhagen' : 616, 'Athens' : 665, 'Edinburgh' : 513, \n",
    "                        'Zurich' : 402, 'Oporto' : 249, 'Geneva' : 184, 'Krakow' : 755, \n",
    "                        'Oslo' : 693, 'Helsinki' : 643, 'Bratislava' : 426, \n",
    "                        'Luxembourg' : 120, 'Ljubljana' : 284}\n",
    "df['Сity_population'] = df.apply(lambda row: Сity_population[row['City']], axis = 1)"
   ]
  },
  {
   "cell_type": "markdown",
   "metadata": {},
   "source": [
    "Мы также отнормируем данный признак и внесем его в датасет"
   ]
  },
  {
   "cell_type": "code",
   "execution_count": 16,
   "metadata": {
    "scrolled": true
   },
   "outputs": [],
   "source": [
    "mean_Ranking_on_City = df.groupby(['City'])['Ranking'].mean()\n",
    "df['mean_Ranking_on_City'] = df.City.map(mean_Ranking_on_City)\n",
    "df['norm_Ranking_on_Popul_in_City'] = (df['Ranking'] - df['mean_Ranking_on_City']) / df['Сity_population']"
   ]
  },
  {
   "cell_type": "markdown",
   "metadata": {},
   "source": [
    "### 5. Price_Range\n",
    "##### — диапазон цен в ресторане;"
   ]
  },
  {
   "cell_type": "code",
   "execution_count": 17,
   "metadata": {
    "scrolled": true
   },
   "outputs": [
    {
     "data": {
      "text/plain": [
       "0.0    26114\n",
       "1.0    13886\n",
       "Name: Price_Range, dtype: int64"
      ]
     },
     "execution_count": 17,
     "metadata": {},
     "output_type": "execute_result"
    }
   ],
   "source": [
    "pd.isna(df['Price_Range']).astype('float64').value_counts()"
   ]
  },
  {
   "cell_type": "code",
   "execution_count": 18,
   "metadata": {
    "scrolled": false
   },
   "outputs": [
    {
     "data": {
      "text/plain": [
       "$$ - $$$    18412\n",
       "$            6279\n",
       "$$$$         1423\n",
       "Name: Price_Range, dtype: int64"
      ]
     },
     "execution_count": 18,
     "metadata": {},
     "output_type": "execute_result"
    }
   ],
   "source": [
    "df['Price_Range'].value_counts()"
   ]
  },
  {
   "cell_type": "code",
   "execution_count": 19,
   "metadata": {},
   "outputs": [
    {
     "data": {
      "text/plain": [
       "0.71"
      ]
     },
     "execution_count": 19,
     "metadata": {},
     "output_type": "execute_result"
    }
   ],
   "source": [
    "round(df['Price_Range'].value_counts()[0] /\n",
    "      df['Price_Range'].value_counts().sum(),2)"
   ]
  },
  {
   "cell_type": "code",
   "execution_count": 20,
   "metadata": {
    "scrolled": false
   },
   "outputs": [
    {
     "data": {
      "text/plain": [
       "2    32298\n",
       "1     6279\n",
       "3     1423\n",
       "Name: Price_Range, dtype: int64"
      ]
     },
     "execution_count": 20,
     "metadata": {},
     "output_type": "execute_result"
    }
   ],
   "source": [
    "df.loc[df['Price_Range'] == '$$$$', ['Price_Range']] = 3\n",
    "df.loc[df['Price_Range'] == '$$ - $$$', ['Price_Range']] = 2\n",
    "df.loc[df['Price_Range'] == '$', ['Price_Range']] = 1\n",
    "df['Price_Range'] = df['Price_Range'].fillna(2)\n",
    "df['Price_Range'].value_counts()"
   ]
  },
  {
   "cell_type": "markdown",
   "metadata": {},
   "source": [
    "#### Переменная Price_Range\n",
    "13886 - пропусков. Был изменен признак с символьного на числовой с сохранением сути значений\\\n",
    "(низкая цена - 1, средняя цена -2 , высокая цена - 3)\\\n",
    "18412 ресторанов имеют средний параметр цены, это 71% из имеющейся информации\\\n",
    "поэтому заполняем пропуски средним значением"
   ]
  },
  {
   "cell_type": "markdown",
   "metadata": {},
   "source": [
    "### 5. Number of Reviews\n",
    "#### — количество отзывов о ресторане;"
   ]
  },
  {
   "cell_type": "code",
   "execution_count": 21,
   "metadata": {
    "scrolled": true
   },
   "outputs": [
    {
     "data": {
      "text/plain": [
       "0.0    37457\n",
       "1.0     2543\n",
       "Name: Number_of_Reviews, dtype: int64"
      ]
     },
     "execution_count": 21,
     "metadata": {},
     "output_type": "execute_result"
    }
   ],
   "source": [
    "pd.isna(df['Number_of_Reviews']).astype('float64').value_counts()"
   ]
  },
  {
   "cell_type": "code",
   "execution_count": 22,
   "metadata": {},
   "outputs": [],
   "source": [
    "means1 = df.groupby('City')['Number_of_Reviews'].mean()\n",
    "df['Number_of_Reviews_means'] = round(df.City.map(means1),0)"
   ]
  },
  {
   "cell_type": "code",
   "execution_count": 23,
   "metadata": {},
   "outputs": [
    {
     "data": {
      "text/plain": [
       "124.82548     2543\n",
       "2.00000       1916\n",
       "3.00000       1636\n",
       "4.00000       1370\n",
       "5.00000       1181\n",
       "              ... \n",
       "2123.00000       1\n",
       "1633.00000       1\n",
       "1480.00000       1\n",
       "1924.00000       1\n",
       "1383.00000       1\n",
       "Name: Number_of_Reviews, Length: 1460, dtype: int64"
      ]
     },
     "execution_count": 23,
     "metadata": {},
     "output_type": "execute_result"
    }
   ],
   "source": [
    "df['Number_of_Reviews'] = df['Number_of_Reviews'].fillna(df['Number_of_Reviews'].mean())\n",
    "df['Number_of_Reviews'].value_counts()"
   ]
  },
  {
   "cell_type": "markdown",
   "metadata": {},
   "source": [
    "#### Переменная Number of Reviews\n",
    "2543 - пропусков. Оставляем их и заменям средним значением по признаку.\\\n",
    "Сгенерирован новый признак среднего количество отзывов о ресторане по городам - 'Number_of_Reviews_means'.\\\n",
    "Заполним пропуски средним по количеству отзывов"
   ]
  },
  {
   "cell_type": "markdown",
   "metadata": {},
   "source": [
    "Посмотрим как количество отзывов зависит от рейтинга ресторана, для этого создадим признак"
   ]
  },
  {
   "cell_type": "code",
   "execution_count": 24,
   "metadata": {},
   "outputs": [],
   "source": [
    "#df['Ranking_by_Number'] = round(df['Ranking']/df['Number_of_Reviews'],2)"
   ]
  },
  {
   "cell_type": "markdown",
   "metadata": {},
   "source": [
    "Результаты метрик показали, что данная переменная ухудшает метрику"
   ]
  },
  {
   "cell_type": "markdown",
   "metadata": {},
   "source": [
    "### 6. Reviews\n",
    "#### — данные о двух отзывах, которые отображаются на сайте ресторана;"
   ]
  },
  {
   "cell_type": "code",
   "execution_count": 25,
   "metadata": {},
   "outputs": [],
   "source": [
    "df['Reviews'] = df['Reviews'].fillna('[[], []]')\n",
    "df['Reviews'] = df['Reviews'].str.replace(r'\\[\\[\\], \\[\\]\\]','None')\n",
    "s = df['Reviews'].str.split(r\"'\\], \\['\",expand=True)\n",
    "s.columns = ['comments','dates']\n",
    "s1 = s['comments'].str.split(r\"', '\",expand=True)\n",
    "s1.columns = ['comment1','comment2']\n",
    "s2 = s['dates'].str.split(r\"', '\",expand=True)\n",
    "s2.columns = ['date1','date2']\n",
    "s3 = pd.concat([s1,s2],axis=1)\n",
    "s3.date1 = s3.date1.str.replace(r'[\\[\\]\\']','')\n",
    "s3.date2 = s3.date2.str.replace(r'[\\[\\]\\']','')\n",
    "df_new = pd.concat([df,s3],axis=1)"
   ]
  },
  {
   "cell_type": "code",
   "execution_count": 26,
   "metadata": {
    "scrolled": true
   },
   "outputs": [
    {
     "data": {
      "text/html": [
       "<div>\n",
       "<style scoped>\n",
       "    .dataframe tbody tr th:only-of-type {\n",
       "        vertical-align: middle;\n",
       "    }\n",
       "\n",
       "    .dataframe tbody tr th {\n",
       "        vertical-align: top;\n",
       "    }\n",
       "\n",
       "    .dataframe thead th {\n",
       "        text-align: right;\n",
       "    }\n",
       "</style>\n",
       "<table border=\"1\" class=\"dataframe\">\n",
       "  <thead>\n",
       "    <tr style=\"text-align: right;\">\n",
       "      <th></th>\n",
       "      <th>len_comment</th>\n",
       "    </tr>\n",
       "  </thead>\n",
       "  <tbody>\n",
       "    <tr>\n",
       "      <th>0</th>\n",
       "      <td>2.0</td>\n",
       "    </tr>\n",
       "    <tr>\n",
       "      <th>1</th>\n",
       "      <td>2.0</td>\n",
       "    </tr>\n",
       "    <tr>\n",
       "      <th>2</th>\n",
       "      <td>2.0</td>\n",
       "    </tr>\n",
       "    <tr>\n",
       "      <th>3</th>\n",
       "      <td>0.0</td>\n",
       "    </tr>\n",
       "    <tr>\n",
       "      <th>4</th>\n",
       "      <td>2.0</td>\n",
       "    </tr>\n",
       "  </tbody>\n",
       "</table>\n",
       "</div>"
      ],
      "text/plain": [
       "   len_comment\n",
       "0          2.0\n",
       "1          2.0\n",
       "2          2.0\n",
       "3          0.0\n",
       "4          2.0"
      ]
     },
     "execution_count": 26,
     "metadata": {},
     "output_type": "execute_result"
    }
   ],
   "source": [
    "date1null = pd.isna(df_new['date1']).astype('float64')\n",
    "date2null = pd.isna(df_new['date2']).astype('float64')\n",
    "df_new['len_comment'] = (1 - date1null) + (1 -date2null)\n",
    "df_new[['len_comment']].head()"
   ]
  },
  {
   "cell_type": "code",
   "execution_count": 28,
   "metadata": {
    "scrolled": true
   },
   "outputs": [],
   "source": [
    "df_new['date1'] = pd.to_datetime(df_new['date1'])\n",
    "df_new['date2'] = pd.to_datetime(df_new['date2'])\n",
    "df_new['diff_date']=abs(df_new['date1']-df_new['date2'])\n",
    "df_new.diff_date = df_new.diff_date.dt.days\n",
    "df_new.diff_date = df_new.diff_date.fillna(0)"
   ]
  },
  {
   "cell_type": "code",
   "execution_count": 85,
   "metadata": {},
   "outputs": [],
   "source": [
    "dayspass = df_new['date1'].max()-df_new['date1']\n",
    "dayspass2 = df_new['date1'].max()-df_new['date2']\n",
    "df_new['dayspass'] = np.where(dayspass >= dayspass2, dayspass, dayspass2)\n",
    "df_new['dayspass'] = df_new['dayspass'].fillna(pd.to_timedelta(0))\n",
    "df_new['dayspass'] = df_new['dayspass'].dt.days"
   ]
  },
  {
   "cell_type": "code",
   "execution_count": 86,
   "metadata": {
    "scrolled": true
   },
   "outputs": [],
   "source": [
    "df_new.drop(['Reviews','comment1','comment2','date1','date2'], axis='columns', inplace=True)"
   ]
  },
  {
   "cell_type": "markdown",
   "metadata": {},
   "source": [
    "#### Переменная Reviews\n",
    "Пропусков данных нет, каждая ячейка заполнена, но есть 6471 значений '[[], []]'\\\n",
    "И по сути можно расценить их как пропуски.\n",
    "Были созданы признаки:\\\n",
    "len_comment - кол-во коментариев в отзыве;\\\n",
    "dayspass - насколько давно был сделан последний самый свежий отзыв в днях(на момент получения базы);\\\n",
    "diff_date - перерыв между отзывами в днях;\\\n",
    "Пропуски в данных признаках пока что заменим на 0, так как не удаляем значения из датасета.\n",
    "Также был убран из основного датасета сам признак Reviews, послуживший донором информации для созданных признаков,\\\n",
    "и были удалены признаки, несущие информацию, полученые из данного признака, поскольку в них больше нет необходимости"
   ]
  },
  {
   "cell_type": "code",
   "execution_count": 87,
   "metadata": {},
   "outputs": [
    {
     "data": {
      "text/html": [
       "<div>\n",
       "<style scoped>\n",
       "    .dataframe tbody tr th:only-of-type {\n",
       "        vertical-align: middle;\n",
       "    }\n",
       "\n",
       "    .dataframe tbody tr th {\n",
       "        vertical-align: top;\n",
       "    }\n",
       "\n",
       "    .dataframe thead th {\n",
       "        text-align: right;\n",
       "    }\n",
       "</style>\n",
       "<table border=\"1\" class=\"dataframe\">\n",
       "  <thead>\n",
       "    <tr style=\"text-align: right;\">\n",
       "      <th></th>\n",
       "      <th>City</th>\n",
       "      <th>Cuisine_Style</th>\n",
       "      <th>Ranking</th>\n",
       "      <th>Rating</th>\n",
       "      <th>Price_Range</th>\n",
       "      <th>Number_of_Reviews</th>\n",
       "      <th>URL_TA</th>\n",
       "      <th>ID_TA</th>\n",
       "      <th>Capital_restaurant</th>\n",
       "      <th>Amsterdam</th>\n",
       "      <th>...</th>\n",
       "      <th>Warsaw</th>\n",
       "      <th>Zurich</th>\n",
       "      <th>Сount_Сuisine</th>\n",
       "      <th>Сity_population</th>\n",
       "      <th>mean_Ranking_on_City</th>\n",
       "      <th>norm_Ranking_on_Popul_in_City</th>\n",
       "      <th>Number_of_Reviews_means</th>\n",
       "      <th>len_comment</th>\n",
       "      <th>diff_date</th>\n",
       "      <th>dayspass</th>\n",
       "    </tr>\n",
       "  </thead>\n",
       "  <tbody>\n",
       "    <tr>\n",
       "      <th>0</th>\n",
       "      <td>Paris</td>\n",
       "      <td>European, French, International</td>\n",
       "      <td>5570.0</td>\n",
       "      <td>3.5</td>\n",
       "      <td>2</td>\n",
       "      <td>194.0</td>\n",
       "      <td>/Restaurant_Review-g187147-d1912643-Reviews-R_...</td>\n",
       "      <td>d1912643</td>\n",
       "      <td>1</td>\n",
       "      <td>0.0</td>\n",
       "      <td>...</td>\n",
       "      <td>0.0</td>\n",
       "      <td>0.0</td>\n",
       "      <td>3</td>\n",
       "      <td>2206</td>\n",
       "      <td>6933.012048</td>\n",
       "      <td>-0.617866</td>\n",
       "      <td>120.0</td>\n",
       "      <td>2.0</td>\n",
       "      <td>41.0</td>\n",
       "      <td>98</td>\n",
       "    </tr>\n",
       "    <tr>\n",
       "      <th>1</th>\n",
       "      <td>Stockholm</td>\n",
       "      <td>Unspecified</td>\n",
       "      <td>1537.0</td>\n",
       "      <td>4.0</td>\n",
       "      <td>2</td>\n",
       "      <td>10.0</td>\n",
       "      <td>/Restaurant_Review-g189852-d7992032-Reviews-Bu...</td>\n",
       "      <td>d7992032</td>\n",
       "      <td>1</td>\n",
       "      <td>0.0</td>\n",
       "      <td>...</td>\n",
       "      <td>0.0</td>\n",
       "      <td>0.0</td>\n",
       "      <td>1</td>\n",
       "      <td>961</td>\n",
       "      <td>1242.386585</td>\n",
       "      <td>0.306570</td>\n",
       "      <td>78.0</td>\n",
       "      <td>2.0</td>\n",
       "      <td>382.0</td>\n",
       "      <td>617</td>\n",
       "    </tr>\n",
       "    <tr>\n",
       "      <th>2</th>\n",
       "      <td>London</td>\n",
       "      <td>Japanese, Sushi, Asian, Grill, Vegetarian Frie...</td>\n",
       "      <td>353.0</td>\n",
       "      <td>4.5</td>\n",
       "      <td>3</td>\n",
       "      <td>688.0</td>\n",
       "      <td>/Restaurant_Review-g186338-d8632781-Reviews-RO...</td>\n",
       "      <td>d8632781</td>\n",
       "      <td>1</td>\n",
       "      <td>0.0</td>\n",
       "      <td>...</td>\n",
       "      <td>0.0</td>\n",
       "      <td>0.0</td>\n",
       "      <td>7</td>\n",
       "      <td>8908</td>\n",
       "      <td>8198.461873</td>\n",
       "      <td>-0.880721</td>\n",
       "      <td>138.0</td>\n",
       "      <td>2.0</td>\n",
       "      <td>2.0</td>\n",
       "      <td>51</td>\n",
       "    </tr>\n",
       "    <tr>\n",
       "      <th>3</th>\n",
       "      <td>Berlin</td>\n",
       "      <td>Unspecified</td>\n",
       "      <td>3458.0</td>\n",
       "      <td>5.0</td>\n",
       "      <td>2</td>\n",
       "      <td>3.0</td>\n",
       "      <td>/Restaurant_Review-g187323-d1358776-Reviews-Es...</td>\n",
       "      <td>d1358776</td>\n",
       "      <td>1</td>\n",
       "      <td>0.0</td>\n",
       "      <td>...</td>\n",
       "      <td>0.0</td>\n",
       "      <td>0.0</td>\n",
       "      <td>1</td>\n",
       "      <td>6010</td>\n",
       "      <td>3266.237123</td>\n",
       "      <td>0.031907</td>\n",
       "      <td>67.0</td>\n",
       "      <td>0.0</td>\n",
       "      <td>0.0</td>\n",
       "      <td>0</td>\n",
       "    </tr>\n",
       "    <tr>\n",
       "      <th>4</th>\n",
       "      <td>Munich</td>\n",
       "      <td>German, Central European, Vegetarian Friendly</td>\n",
       "      <td>621.0</td>\n",
       "      <td>4.0</td>\n",
       "      <td>2</td>\n",
       "      <td>84.0</td>\n",
       "      <td>/Restaurant_Review-g187309-d6864963-Reviews-Au...</td>\n",
       "      <td>d6864963</td>\n",
       "      <td>0</td>\n",
       "      <td>0.0</td>\n",
       "      <td>...</td>\n",
       "      <td>0.0</td>\n",
       "      <td>0.0</td>\n",
       "      <td>3</td>\n",
       "      <td>1457</td>\n",
       "      <td>1370.539754</td>\n",
       "      <td>-0.514440</td>\n",
       "      <td>81.0</td>\n",
       "      <td>2.0</td>\n",
       "      <td>272.0</td>\n",
       "      <td>372</td>\n",
       "    </tr>\n",
       "  </tbody>\n",
       "</table>\n",
       "<p>5 rows × 48 columns</p>\n",
       "</div>"
      ],
      "text/plain": [
       "        City                                      Cuisine_Style  Ranking  \\\n",
       "0      Paris                    European, French, International   5570.0   \n",
       "1  Stockholm                                        Unspecified   1537.0   \n",
       "2     London  Japanese, Sushi, Asian, Grill, Vegetarian Frie...    353.0   \n",
       "3     Berlin                                        Unspecified   3458.0   \n",
       "4     Munich      German, Central European, Vegetarian Friendly    621.0   \n",
       "\n",
       "   Rating  Price_Range  Number_of_Reviews  \\\n",
       "0     3.5            2              194.0   \n",
       "1     4.0            2               10.0   \n",
       "2     4.5            3              688.0   \n",
       "3     5.0            2                3.0   \n",
       "4     4.0            2               84.0   \n",
       "\n",
       "                                              URL_TA     ID_TA  \\\n",
       "0  /Restaurant_Review-g187147-d1912643-Reviews-R_...  d1912643   \n",
       "1  /Restaurant_Review-g189852-d7992032-Reviews-Bu...  d7992032   \n",
       "2  /Restaurant_Review-g186338-d8632781-Reviews-RO...  d8632781   \n",
       "3  /Restaurant_Review-g187323-d1358776-Reviews-Es...  d1358776   \n",
       "4  /Restaurant_Review-g187309-d6864963-Reviews-Au...  d6864963   \n",
       "\n",
       "   Capital_restaurant  Amsterdam  ...  Warsaw  Zurich  Сount_Сuisine  \\\n",
       "0                   1        0.0  ...     0.0     0.0              3   \n",
       "1                   1        0.0  ...     0.0     0.0              1   \n",
       "2                   1        0.0  ...     0.0     0.0              7   \n",
       "3                   1        0.0  ...     0.0     0.0              1   \n",
       "4                   0        0.0  ...     0.0     0.0              3   \n",
       "\n",
       "   Сity_population  mean_Ranking_on_City  norm_Ranking_on_Popul_in_City  \\\n",
       "0             2206           6933.012048                      -0.617866   \n",
       "1              961           1242.386585                       0.306570   \n",
       "2             8908           8198.461873                      -0.880721   \n",
       "3             6010           3266.237123                       0.031907   \n",
       "4             1457           1370.539754                      -0.514440   \n",
       "\n",
       "   Number_of_Reviews_means  len_comment  diff_date  dayspass  \n",
       "0                    120.0          2.0       41.0        98  \n",
       "1                     78.0          2.0      382.0       617  \n",
       "2                    138.0          2.0        2.0        51  \n",
       "3                     67.0          0.0        0.0         0  \n",
       "4                     81.0          2.0      272.0       372  \n",
       "\n",
       "[5 rows x 48 columns]"
      ]
     },
     "execution_count": 87,
     "metadata": {},
     "output_type": "execute_result"
    }
   ],
   "source": [
    "df_new.head()"
   ]
  },
  {
   "cell_type": "code",
   "execution_count": 88,
   "metadata": {
    "scrolled": true
   },
   "outputs": [
    {
     "name": "stdout",
     "output_type": "stream",
     "text": [
      "<class 'pandas.core.frame.DataFrame'>\n",
      "RangeIndex: 40000 entries, 0 to 39999\n",
      "Data columns (total 48 columns):\n",
      " #   Column                         Non-Null Count  Dtype  \n",
      "---  ------                         --------------  -----  \n",
      " 0   City                           40000 non-null  object \n",
      " 1   Cuisine_Style                  40000 non-null  object \n",
      " 2   Ranking                        40000 non-null  float64\n",
      " 3   Rating                         40000 non-null  float64\n",
      " 4   Price_Range                    40000 non-null  int64  \n",
      " 5   Number_of_Reviews              40000 non-null  float64\n",
      " 6   URL_TA                         40000 non-null  object \n",
      " 7   ID_TA                          40000 non-null  object \n",
      " 8   Capital_restaurant             40000 non-null  int64  \n",
      " 9   Amsterdam                      40000 non-null  float64\n",
      " 10  Athens                         40000 non-null  float64\n",
      " 11  Barcelona                      40000 non-null  float64\n",
      " 12  Berlin                         40000 non-null  float64\n",
      " 13  Bratislava                     40000 non-null  float64\n",
      " 14  Brussels                       40000 non-null  float64\n",
      " 15  Budapest                       40000 non-null  float64\n",
      " 16  Copenhagen                     40000 non-null  float64\n",
      " 17  Dublin                         40000 non-null  float64\n",
      " 18  Edinburgh                      40000 non-null  float64\n",
      " 19  Geneva                         40000 non-null  float64\n",
      " 20  Hamburg                        40000 non-null  float64\n",
      " 21  Helsinki                       40000 non-null  float64\n",
      " 22  Krakow                         40000 non-null  float64\n",
      " 23  Lisbon                         40000 non-null  float64\n",
      " 24  Ljubljana                      40000 non-null  float64\n",
      " 25  London                         40000 non-null  float64\n",
      " 26  Luxembourg                     40000 non-null  float64\n",
      " 27  Lyon                           40000 non-null  float64\n",
      " 28  Madrid                         40000 non-null  float64\n",
      " 29  Milan                          40000 non-null  float64\n",
      " 30  Munich                         40000 non-null  float64\n",
      " 31  Oporto                         40000 non-null  float64\n",
      " 32  Oslo                           40000 non-null  float64\n",
      " 33  Paris                          40000 non-null  float64\n",
      " 34  Prague                         40000 non-null  float64\n",
      " 35  Rome                           40000 non-null  float64\n",
      " 36  Stockholm                      40000 non-null  float64\n",
      " 37  Vienna                         40000 non-null  float64\n",
      " 38  Warsaw                         40000 non-null  float64\n",
      " 39  Zurich                         40000 non-null  float64\n",
      " 40  Сount_Сuisine                  40000 non-null  int64  \n",
      " 41  Сity_population                40000 non-null  int64  \n",
      " 42  mean_Ranking_on_City           40000 non-null  float64\n",
      " 43  norm_Ranking_on_Popul_in_City  40000 non-null  float64\n",
      " 44  Number_of_Reviews_means        40000 non-null  float64\n",
      " 45  len_comment                    40000 non-null  float64\n",
      " 46  diff_date                      40000 non-null  float64\n",
      " 47  dayspass                       40000 non-null  int64  \n",
      "dtypes: float64(39), int64(5), object(4)\n",
      "memory usage: 14.6+ MB\n"
     ]
    }
   ],
   "source": [
    "df_new.info()"
   ]
  },
  {
   "cell_type": "code",
   "execution_count": 89,
   "metadata": {
    "scrolled": true
   },
   "outputs": [
    {
     "data": {
      "text/html": [
       "<div>\n",
       "<style scoped>\n",
       "    .dataframe tbody tr th:only-of-type {\n",
       "        vertical-align: middle;\n",
       "    }\n",
       "\n",
       "    .dataframe tbody tr th {\n",
       "        vertical-align: top;\n",
       "    }\n",
       "\n",
       "    .dataframe thead th {\n",
       "        text-align: right;\n",
       "    }\n",
       "</style>\n",
       "<table border=\"1\" class=\"dataframe\">\n",
       "  <thead>\n",
       "    <tr style=\"text-align: right;\">\n",
       "      <th></th>\n",
       "      <th>Ranking</th>\n",
       "      <th>Rating</th>\n",
       "      <th>Price_Range</th>\n",
       "      <th>Number_of_Reviews</th>\n",
       "      <th>Capital_restaurant</th>\n",
       "      <th>Amsterdam</th>\n",
       "      <th>Athens</th>\n",
       "      <th>Barcelona</th>\n",
       "      <th>Berlin</th>\n",
       "      <th>Bratislava</th>\n",
       "      <th>...</th>\n",
       "      <th>Warsaw</th>\n",
       "      <th>Zurich</th>\n",
       "      <th>Сount_Сuisine</th>\n",
       "      <th>Сity_population</th>\n",
       "      <th>mean_Ranking_on_City</th>\n",
       "      <th>norm_Ranking_on_Popul_in_City</th>\n",
       "      <th>Number_of_Reviews_means</th>\n",
       "      <th>len_comment</th>\n",
       "      <th>diff_date</th>\n",
       "      <th>dayspass</th>\n",
       "    </tr>\n",
       "  </thead>\n",
       "  <tbody>\n",
       "    <tr>\n",
       "      <th>0</th>\n",
       "      <td>5570.0</td>\n",
       "      <td>3.5</td>\n",
       "      <td>2</td>\n",
       "      <td>194.0</td>\n",
       "      <td>1</td>\n",
       "      <td>0.0</td>\n",
       "      <td>0.0</td>\n",
       "      <td>0.0</td>\n",
       "      <td>0.0</td>\n",
       "      <td>0.0</td>\n",
       "      <td>...</td>\n",
       "      <td>0.0</td>\n",
       "      <td>0.0</td>\n",
       "      <td>3</td>\n",
       "      <td>2206</td>\n",
       "      <td>6933.012048</td>\n",
       "      <td>-0.617866</td>\n",
       "      <td>120.0</td>\n",
       "      <td>2.0</td>\n",
       "      <td>41.0</td>\n",
       "      <td>98</td>\n",
       "    </tr>\n",
       "    <tr>\n",
       "      <th>1</th>\n",
       "      <td>1537.0</td>\n",
       "      <td>4.0</td>\n",
       "      <td>2</td>\n",
       "      <td>10.0</td>\n",
       "      <td>1</td>\n",
       "      <td>0.0</td>\n",
       "      <td>0.0</td>\n",
       "      <td>0.0</td>\n",
       "      <td>0.0</td>\n",
       "      <td>0.0</td>\n",
       "      <td>...</td>\n",
       "      <td>0.0</td>\n",
       "      <td>0.0</td>\n",
       "      <td>1</td>\n",
       "      <td>961</td>\n",
       "      <td>1242.386585</td>\n",
       "      <td>0.306570</td>\n",
       "      <td>78.0</td>\n",
       "      <td>2.0</td>\n",
       "      <td>382.0</td>\n",
       "      <td>617</td>\n",
       "    </tr>\n",
       "    <tr>\n",
       "      <th>2</th>\n",
       "      <td>353.0</td>\n",
       "      <td>4.5</td>\n",
       "      <td>3</td>\n",
       "      <td>688.0</td>\n",
       "      <td>1</td>\n",
       "      <td>0.0</td>\n",
       "      <td>0.0</td>\n",
       "      <td>0.0</td>\n",
       "      <td>0.0</td>\n",
       "      <td>0.0</td>\n",
       "      <td>...</td>\n",
       "      <td>0.0</td>\n",
       "      <td>0.0</td>\n",
       "      <td>7</td>\n",
       "      <td>8908</td>\n",
       "      <td>8198.461873</td>\n",
       "      <td>-0.880721</td>\n",
       "      <td>138.0</td>\n",
       "      <td>2.0</td>\n",
       "      <td>2.0</td>\n",
       "      <td>51</td>\n",
       "    </tr>\n",
       "    <tr>\n",
       "      <th>3</th>\n",
       "      <td>3458.0</td>\n",
       "      <td>5.0</td>\n",
       "      <td>2</td>\n",
       "      <td>3.0</td>\n",
       "      <td>1</td>\n",
       "      <td>0.0</td>\n",
       "      <td>0.0</td>\n",
       "      <td>0.0</td>\n",
       "      <td>1.0</td>\n",
       "      <td>0.0</td>\n",
       "      <td>...</td>\n",
       "      <td>0.0</td>\n",
       "      <td>0.0</td>\n",
       "      <td>1</td>\n",
       "      <td>6010</td>\n",
       "      <td>3266.237123</td>\n",
       "      <td>0.031907</td>\n",
       "      <td>67.0</td>\n",
       "      <td>0.0</td>\n",
       "      <td>0.0</td>\n",
       "      <td>0</td>\n",
       "    </tr>\n",
       "    <tr>\n",
       "      <th>4</th>\n",
       "      <td>621.0</td>\n",
       "      <td>4.0</td>\n",
       "      <td>2</td>\n",
       "      <td>84.0</td>\n",
       "      <td>0</td>\n",
       "      <td>0.0</td>\n",
       "      <td>0.0</td>\n",
       "      <td>0.0</td>\n",
       "      <td>0.0</td>\n",
       "      <td>0.0</td>\n",
       "      <td>...</td>\n",
       "      <td>0.0</td>\n",
       "      <td>0.0</td>\n",
       "      <td>3</td>\n",
       "      <td>1457</td>\n",
       "      <td>1370.539754</td>\n",
       "      <td>-0.514440</td>\n",
       "      <td>81.0</td>\n",
       "      <td>2.0</td>\n",
       "      <td>272.0</td>\n",
       "      <td>372</td>\n",
       "    </tr>\n",
       "  </tbody>\n",
       "</table>\n",
       "<p>5 rows × 44 columns</p>\n",
       "</div>"
      ],
      "text/plain": [
       "   Ranking  Rating  Price_Range  Number_of_Reviews  Capital_restaurant  \\\n",
       "0   5570.0     3.5            2              194.0                   1   \n",
       "1   1537.0     4.0            2               10.0                   1   \n",
       "2    353.0     4.5            3              688.0                   1   \n",
       "3   3458.0     5.0            2                3.0                   1   \n",
       "4    621.0     4.0            2               84.0                   0   \n",
       "\n",
       "   Amsterdam  Athens  Barcelona  Berlin  Bratislava  ...  Warsaw  Zurich  \\\n",
       "0        0.0     0.0        0.0     0.0         0.0  ...     0.0     0.0   \n",
       "1        0.0     0.0        0.0     0.0         0.0  ...     0.0     0.0   \n",
       "2        0.0     0.0        0.0     0.0         0.0  ...     0.0     0.0   \n",
       "3        0.0     0.0        0.0     1.0         0.0  ...     0.0     0.0   \n",
       "4        0.0     0.0        0.0     0.0         0.0  ...     0.0     0.0   \n",
       "\n",
       "   Сount_Сuisine  Сity_population  mean_Ranking_on_City  \\\n",
       "0              3             2206           6933.012048   \n",
       "1              1              961           1242.386585   \n",
       "2              7             8908           8198.461873   \n",
       "3              1             6010           3266.237123   \n",
       "4              3             1457           1370.539754   \n",
       "\n",
       "   norm_Ranking_on_Popul_in_City  Number_of_Reviews_means  len_comment  \\\n",
       "0                      -0.617866                    120.0          2.0   \n",
       "1                       0.306570                     78.0          2.0   \n",
       "2                      -0.880721                    138.0          2.0   \n",
       "3                       0.031907                     67.0          0.0   \n",
       "4                      -0.514440                     81.0          2.0   \n",
       "\n",
       "   diff_date  dayspass  \n",
       "0       41.0        98  \n",
       "1      382.0       617  \n",
       "2        2.0        51  \n",
       "3        0.0         0  \n",
       "4      272.0       372  \n",
       "\n",
       "[5 rows x 44 columns]"
      ]
     },
     "execution_count": 89,
     "metadata": {},
     "output_type": "execute_result"
    }
   ],
   "source": [
    "df_new.drop(df_new.select_dtypes(['object']), inplace=True, axis=1)\n",
    "df_new.head()"
   ]
  },
  {
   "cell_type": "code",
   "execution_count": 90,
   "metadata": {
    "scrolled": true
   },
   "outputs": [
    {
     "data": {
      "text/plain": [
       "Index(['Ranking', 'Rating', 'Price_Range', 'Number_of_Reviews',\n",
       "       'Capital_restaurant', 'Amsterdam', 'Athens', 'Barcelona', 'Berlin',\n",
       "       'Bratislava', 'Brussels', 'Budapest', 'Copenhagen', 'Dublin',\n",
       "       'Edinburgh', 'Geneva', 'Hamburg', 'Helsinki', 'Krakow', 'Lisbon',\n",
       "       'Ljubljana', 'London', 'Luxembourg', 'Lyon', 'Madrid', 'Milan',\n",
       "       'Munich', 'Oporto', 'Oslo', 'Paris', 'Prague', 'Rome', 'Stockholm',\n",
       "       'Vienna', 'Warsaw', 'Zurich', 'Сount_Сuisine', 'Сity_population',\n",
       "       'mean_Ranking_on_City', 'norm_Ranking_on_Popul_in_City',\n",
       "       'Number_of_Reviews_means', 'len_comment', 'diff_date', 'dayspass'],\n",
       "      dtype='object')"
      ]
     },
     "execution_count": 90,
     "metadata": {},
     "output_type": "execute_result"
    }
   ],
   "source": [
    "df_new.columns"
   ]
  },
  {
   "cell_type": "code",
   "execution_count": 91,
   "metadata": {
    "scrolled": true
   },
   "outputs": [
    {
     "data": {
      "text/html": [
       "<div>\n",
       "<style scoped>\n",
       "    .dataframe tbody tr th:only-of-type {\n",
       "        vertical-align: middle;\n",
       "    }\n",
       "\n",
       "    .dataframe tbody tr th {\n",
       "        vertical-align: top;\n",
       "    }\n",
       "\n",
       "    .dataframe thead th {\n",
       "        text-align: right;\n",
       "    }\n",
       "</style>\n",
       "<table border=\"1\" class=\"dataframe\">\n",
       "  <thead>\n",
       "    <tr style=\"text-align: right;\">\n",
       "      <th></th>\n",
       "      <th>Ranking</th>\n",
       "      <th>Rating</th>\n",
       "      <th>Price_Range</th>\n",
       "      <th>Number_of_Reviews</th>\n",
       "      <th>Capital_restaurant</th>\n",
       "      <th>Сount_Сuisine</th>\n",
       "      <th>Сity_population</th>\n",
       "      <th>mean_Ranking_on_City</th>\n",
       "      <th>norm_Ranking_on_Popul_in_City</th>\n",
       "      <th>Number_of_Reviews_means</th>\n",
       "      <th>len_comment</th>\n",
       "      <th>diff_date</th>\n",
       "      <th>dayspass</th>\n",
       "    </tr>\n",
       "  </thead>\n",
       "  <tbody>\n",
       "    <tr>\n",
       "      <th>0</th>\n",
       "      <td>5570.0</td>\n",
       "      <td>3.5</td>\n",
       "      <td>2</td>\n",
       "      <td>194.0</td>\n",
       "      <td>1</td>\n",
       "      <td>3</td>\n",
       "      <td>2206</td>\n",
       "      <td>6933.012048</td>\n",
       "      <td>-0.617866</td>\n",
       "      <td>120.0</td>\n",
       "      <td>2.0</td>\n",
       "      <td>41.0</td>\n",
       "      <td>98</td>\n",
       "    </tr>\n",
       "    <tr>\n",
       "      <th>1</th>\n",
       "      <td>1537.0</td>\n",
       "      <td>4.0</td>\n",
       "      <td>2</td>\n",
       "      <td>10.0</td>\n",
       "      <td>1</td>\n",
       "      <td>1</td>\n",
       "      <td>961</td>\n",
       "      <td>1242.386585</td>\n",
       "      <td>0.306570</td>\n",
       "      <td>78.0</td>\n",
       "      <td>2.0</td>\n",
       "      <td>382.0</td>\n",
       "      <td>617</td>\n",
       "    </tr>\n",
       "    <tr>\n",
       "      <th>2</th>\n",
       "      <td>353.0</td>\n",
       "      <td>4.5</td>\n",
       "      <td>3</td>\n",
       "      <td>688.0</td>\n",
       "      <td>1</td>\n",
       "      <td>7</td>\n",
       "      <td>8908</td>\n",
       "      <td>8198.461873</td>\n",
       "      <td>-0.880721</td>\n",
       "      <td>138.0</td>\n",
       "      <td>2.0</td>\n",
       "      <td>2.0</td>\n",
       "      <td>51</td>\n",
       "    </tr>\n",
       "    <tr>\n",
       "      <th>3</th>\n",
       "      <td>3458.0</td>\n",
       "      <td>5.0</td>\n",
       "      <td>2</td>\n",
       "      <td>3.0</td>\n",
       "      <td>1</td>\n",
       "      <td>1</td>\n",
       "      <td>6010</td>\n",
       "      <td>3266.237123</td>\n",
       "      <td>0.031907</td>\n",
       "      <td>67.0</td>\n",
       "      <td>0.0</td>\n",
       "      <td>0.0</td>\n",
       "      <td>0</td>\n",
       "    </tr>\n",
       "    <tr>\n",
       "      <th>4</th>\n",
       "      <td>621.0</td>\n",
       "      <td>4.0</td>\n",
       "      <td>2</td>\n",
       "      <td>84.0</td>\n",
       "      <td>0</td>\n",
       "      <td>3</td>\n",
       "      <td>1457</td>\n",
       "      <td>1370.539754</td>\n",
       "      <td>-0.514440</td>\n",
       "      <td>81.0</td>\n",
       "      <td>2.0</td>\n",
       "      <td>272.0</td>\n",
       "      <td>372</td>\n",
       "    </tr>\n",
       "    <tr>\n",
       "      <th>...</th>\n",
       "      <td>...</td>\n",
       "      <td>...</td>\n",
       "      <td>...</td>\n",
       "      <td>...</td>\n",
       "      <td>...</td>\n",
       "      <td>...</td>\n",
       "      <td>...</td>\n",
       "      <td>...</td>\n",
       "      <td>...</td>\n",
       "      <td>...</td>\n",
       "      <td>...</td>\n",
       "      <td>...</td>\n",
       "      <td>...</td>\n",
       "    </tr>\n",
       "    <tr>\n",
       "      <th>39995</th>\n",
       "      <td>500.0</td>\n",
       "      <td>4.5</td>\n",
       "      <td>2</td>\n",
       "      <td>79.0</td>\n",
       "      <td>0</td>\n",
       "      <td>4</td>\n",
       "      <td>1366</td>\n",
       "      <td>3098.143929</td>\n",
       "      <td>-1.902009</td>\n",
       "      <td>174.0</td>\n",
       "      <td>2.0</td>\n",
       "      <td>34.0</td>\n",
       "      <td>106</td>\n",
       "    </tr>\n",
       "    <tr>\n",
       "      <th>39996</th>\n",
       "      <td>6341.0</td>\n",
       "      <td>3.5</td>\n",
       "      <td>2</td>\n",
       "      <td>542.0</td>\n",
       "      <td>1</td>\n",
       "      <td>5</td>\n",
       "      <td>2206</td>\n",
       "      <td>6933.012048</td>\n",
       "      <td>-0.268364</td>\n",
       "      <td>120.0</td>\n",
       "      <td>2.0</td>\n",
       "      <td>9.0</td>\n",
       "      <td>76</td>\n",
       "    </tr>\n",
       "    <tr>\n",
       "      <th>39997</th>\n",
       "      <td>1652.0</td>\n",
       "      <td>4.5</td>\n",
       "      <td>2</td>\n",
       "      <td>4.0</td>\n",
       "      <td>1</td>\n",
       "      <td>2</td>\n",
       "      <td>961</td>\n",
       "      <td>1242.386585</td>\n",
       "      <td>0.426237</td>\n",
       "      <td>78.0</td>\n",
       "      <td>2.0</td>\n",
       "      <td>3127.0</td>\n",
       "      <td>3607</td>\n",
       "    </tr>\n",
       "    <tr>\n",
       "      <th>39998</th>\n",
       "      <td>641.0</td>\n",
       "      <td>4.0</td>\n",
       "      <td>2</td>\n",
       "      <td>70.0</td>\n",
       "      <td>1</td>\n",
       "      <td>5</td>\n",
       "      <td>1764</td>\n",
       "      <td>1063.039890</td>\n",
       "      <td>-0.239252</td>\n",
       "      <td>65.0</td>\n",
       "      <td>2.0</td>\n",
       "      <td>23.0</td>\n",
       "      <td>253</td>\n",
       "    </tr>\n",
       "    <tr>\n",
       "      <th>39999</th>\n",
       "      <td>4827.0</td>\n",
       "      <td>3.0</td>\n",
       "      <td>2</td>\n",
       "      <td>260.0</td>\n",
       "      <td>0</td>\n",
       "      <td>1</td>\n",
       "      <td>1366</td>\n",
       "      <td>3098.143929</td>\n",
       "      <td>1.265634</td>\n",
       "      <td>174.0</td>\n",
       "      <td>2.0</td>\n",
       "      <td>1306.0</td>\n",
       "      <td>2063</td>\n",
       "    </tr>\n",
       "  </tbody>\n",
       "</table>\n",
       "<p>40000 rows × 13 columns</p>\n",
       "</div>"
      ],
      "text/plain": [
       "       Ranking  Rating  Price_Range  Number_of_Reviews  Capital_restaurant  \\\n",
       "0       5570.0     3.5            2              194.0                   1   \n",
       "1       1537.0     4.0            2               10.0                   1   \n",
       "2        353.0     4.5            3              688.0                   1   \n",
       "3       3458.0     5.0            2                3.0                   1   \n",
       "4        621.0     4.0            2               84.0                   0   \n",
       "...        ...     ...          ...                ...                 ...   \n",
       "39995    500.0     4.5            2               79.0                   0   \n",
       "39996   6341.0     3.5            2              542.0                   1   \n",
       "39997   1652.0     4.5            2                4.0                   1   \n",
       "39998    641.0     4.0            2               70.0                   1   \n",
       "39999   4827.0     3.0            2              260.0                   0   \n",
       "\n",
       "       Сount_Сuisine  Сity_population  mean_Ranking_on_City  \\\n",
       "0                  3             2206           6933.012048   \n",
       "1                  1              961           1242.386585   \n",
       "2                  7             8908           8198.461873   \n",
       "3                  1             6010           3266.237123   \n",
       "4                  3             1457           1370.539754   \n",
       "...              ...              ...                   ...   \n",
       "39995              4             1366           3098.143929   \n",
       "39996              5             2206           6933.012048   \n",
       "39997              2              961           1242.386585   \n",
       "39998              5             1764           1063.039890   \n",
       "39999              1             1366           3098.143929   \n",
       "\n",
       "       norm_Ranking_on_Popul_in_City  Number_of_Reviews_means  len_comment  \\\n",
       "0                          -0.617866                    120.0          2.0   \n",
       "1                           0.306570                     78.0          2.0   \n",
       "2                          -0.880721                    138.0          2.0   \n",
       "3                           0.031907                     67.0          0.0   \n",
       "4                          -0.514440                     81.0          2.0   \n",
       "...                              ...                      ...          ...   \n",
       "39995                      -1.902009                    174.0          2.0   \n",
       "39996                      -0.268364                    120.0          2.0   \n",
       "39997                       0.426237                     78.0          2.0   \n",
       "39998                      -0.239252                     65.0          2.0   \n",
       "39999                       1.265634                    174.0          2.0   \n",
       "\n",
       "       diff_date  dayspass  \n",
       "0           41.0        98  \n",
       "1          382.0       617  \n",
       "2            2.0        51  \n",
       "3            0.0         0  \n",
       "4          272.0       372  \n",
       "...          ...       ...  \n",
       "39995       34.0       106  \n",
       "39996        9.0        76  \n",
       "39997     3127.0      3607  \n",
       "39998       23.0       253  \n",
       "39999     1306.0      2063  \n",
       "\n",
       "[40000 rows x 13 columns]"
      ]
     },
     "execution_count": 91,
     "metadata": {},
     "output_type": "execute_result"
    }
   ],
   "source": [
    "df_new2 = df_new.drop(['Amsterdam', 'Athens', 'Barcelona', 'Berlin', 'Bratislava', 'Brussels',\n",
    "       'Budapest', 'Copenhagen', 'Dublin', 'Edinburgh', 'Geneva', 'Hamburg',\n",
    "       'Helsinki', 'Krakow', 'Lisbon', 'Ljubljana', 'London', 'Luxembourg',\n",
    "       'Lyon', 'Madrid', 'Milan', 'Munich', 'Oporto', 'Oslo', 'Paris',\n",
    "       'Prague', 'Rome', 'Stockholm', 'Vienna', 'Warsaw', 'Zurich'],axis = 1)\n",
    "df_new2"
   ]
  },
  {
   "cell_type": "markdown",
   "metadata": {},
   "source": [
    "Посмотрим на корреляцию всех признаков, но без учета dummy переменных.\n",
    "***"
   ]
  },
  {
   "cell_type": "code",
   "execution_count": 92,
   "metadata": {},
   "outputs": [
    {
     "data": {
      "text/plain": [
       "<matplotlib.axes._subplots.AxesSubplot at 0x2892a9bcbc8>"
      ]
     },
     "execution_count": 92,
     "metadata": {},
     "output_type": "execute_result"
    },
    {
     "data": {
      "image/png": "[encoded data removed]",
      "text/plain": [
       "<Figure size 720x1152 with 2 Axes>"
      ]
     },
     "metadata": {
      "needs_background": "light"
     },
     "output_type": "display_data"
    }
   ],
   "source": [
    "plt.figure(figsize=(10, 16))\n",
    "sns.heatmap(df_new2.corr().abs(), vmin=0, vmax=1, annot = True, cmap=\"YlGnBu\")"
   ]
  },
  {
   "cell_type": "markdown",
   "metadata": {},
   "source": [
    "Как мы видим, что относительно сильная корреляция выявлена между двух пар созданных признаков - 'diff_date' и 'dayspass',\\\n",
    "и Сity_population' и 'mean_Ranking_on_City'\\\n",
    "Не будем удалять никаие признаки. \n",
    "Выбросы из признаков тоже не удаляем."
   ]
  },
  {
   "cell_type": "code",
   "execution_count": 93,
   "metadata": {},
   "outputs": [],
   "source": [
    "def predict(df, target=\"Rating\"):\n",
    "    X = df.drop([target, ], axis=1)\n",
    "    y = df[target]\n",
    "\n",
    "    X_train, X_test, y_train, y_test = train_test_split(X, y, test_size=0.25)\n",
    "    \n",
    "    regr = RandomForestRegressor(n_estimators=100)\n",
    "    regr.fit(X_train, y_train)  \n",
    "\n",
    "    y_pred = regr.predict(X_test)    \n",
    "    \n",
    "    mea = metrics.mean_absolute_error(y_pred, y_test)\n",
    "    \n",
    "    return 'MAE:',round(mea,7)"
   ]
  },
  {
   "cell_type": "code",
   "execution_count": 94,
   "metadata": {
    "scrolled": true
   },
   "outputs": [
    {
     "name": "stdout",
     "output_type": "stream",
     "text": [
      "('MAE:', 0.2076495)\n"
     ]
    }
   ],
   "source": [
    "a = predict(df_new)\n",
    "print(a)"
   ]
  }
 ],
 "metadata": {
  "kernelspec": {
   "display_name": "Python 3",
   "language": "python",
   "name": "python3"
  },
  "language_info": {
   "codemirror_mode": {
    "name": "ipython",
    "version": 3
   },
   "file_extension": ".py",
   "mimetype": "text/x-python",
   "name": "python",
   "nbconvert_exporter": "python",
   "pygments_lexer": "ipython3",
   "version": "3.7.6"
  }
 },
 "nbformat": 4,
 "nbformat_minor": 4
}
